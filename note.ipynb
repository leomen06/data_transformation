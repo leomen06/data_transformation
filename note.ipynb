{
 "cells": [
  {
   "cell_type": "markdown",
   "metadata": {},
   "source": [
    "## <a name=\"markdown100\"></a> Indice Numpy:\n",
    "[Numpy](#markdown1)\n",
    "\n",
    "[¿Por qué Pandas?](#markdown2)\n",
    "\n",
    "[Formas de importarlas:](#markdown3)\n",
    "\n",
    "[Slicing List](#markdown0)\n",
    "\n",
    "[ Sclicing Matrix:](#markdown4)\n",
    "\n",
    "[Tipos de datos](#markdown5)\n",
    "\n",
    "[Dimensiones en los datos](#markdown6)\n",
    "\n",
    "[Agregar o Eliminar dimensiones](#markdown7)\n",
    "\n",
    "[Expandir dimensiones](#markdown8)\n",
    "\n",
    "[Remover/comprimir las dimensiones que no están siendo usadas.](#markdown9)\n",
    "\n",
    "[Creando Arrays con **NumPy**](#markdown10)\n",
    "\n",
    "[Creando listas solo con ceros](#markdown11)\n",
    "\n",
    "[Creando Matrices solo con ceros](#markdown12)\n",
    "\n",
    "[Creando Matrices solo con unos.](#markdown13)\n",
    "\n",
    "[Creando listas con valores equidistantes entre ellos](#markdown14)\n",
    "\n",
    "[Matríz Identidad](#markdown15)\n",
    "\n",
    "[Valores Aleatoreos \"un valor\"](#markdown16)\n",
    "\n",
    "[Valores Aleatoreos \"una lista de valores\"](#markdown17)\n",
    "\n",
    "[Valores Aleatoreos \"una matriz de valores\"](#markdown18)\n",
    "\n",
    "[Valores Aleatoreos \"Enteros\"](#markdown19)\n",
    "\n",
    "[Shape](#markdown20)\n",
    "\n",
    "[Reshape](#markdown21)\n",
    "\n",
    "[Funciones Principales de NumPy](#markdown22)\n",
    "\n",
    "[Devuelve el máx número por columna](#markdown23)\n",
    "\n",
    "[Devuelve el máx número por fila](#markdown24)\n",
    "\n",
    "[ptp(), pico a pico](#markdown25)\n",
    "\n",
    "[Percentile()](#markdown26)\n",
    "\n",
    "[sort()](#markdown27)\n",
    "\n",
    "[median()](#markdown28)\n",
    "\n",
    "[median() con Matrices](#markdown29)\n",
    "\n",
    "[Desviación std()](#markdown30)\n",
    "\n",
    "[Varianza var()](#markdown31)\n",
    "\n",
    "[La Media mean()](#markdown32)\n",
    "\n",
    "[Concatenar concatenate()](#markdown33)\n",
    "\n",
    "[Transpuesta](#markdown34)\n",
    "\n",
    "[copy()](#markdown35)\n",
    "\n",
    "[Condiciones](#markdown36)\n",
    "\n",
    "[Operaciones](#markdown37)\n",
    "\n",
    "[Producto entre Matrices](#markdown38)\n",
    "\n",
    "## <a name=\"markdown1000\"></a> Indice Pandas:\n",
    "\n",
    "[Series](#markdown39)\n",
    "\n",
    "[Creando lista con índices específicos](#markdown40)\n",
    "\n",
    "[Creando una structura matricial con diccionarios](#markdown41)"
   ]
  },
  {
   "cell_type": "markdown",
   "metadata": {},
   "source": [
    "# Numpy\n",
    "* Cálculo numérico\n",
    "* Manejo de Arrays.\n",
    "\n",
    "# pandas:\n",
    "* Manipulación y análisis de datos.\n",
    "# <a name=\"markdown1\"></a> ¿Por qué Numpy?\n",
    "* Es una librería enfocada al cálculo numérico y manejo de Arrays.\n",
    "\n",
    "* Es muy veloz, hasta 50 veces más rápido que usar una lista de Python o C.\n",
    "* Optimiza el almacenamiento en memoria.\n",
    "* Maneja distintos tipos de datos.\n",
    "* Es una librería muy poderosa, se pueden crear redes neuronales desde cero.\n",
    "\n",
    "# <a name=\"markdown2\"></a> ¿Por qué Pandas?\n",
    "* Pandas está enfocada a la manipulación y análisis de datos.\n",
    "\n",
    "* Al estar construido sobre NumPy es veloz.\n",
    "* Requiere poco código para manipular los datos.\n",
    "* Soporta múltiples formatos de archivos.\n",
    "* Ordena los datos en una alienación inteligente.\n",
    "* Se pueden manejar grandes cantidades de datos, hacer analítica y generar dashboards.\n",
    "* Anilisis inteligente."
   ]
  },
  {
   "cell_type": "markdown",
   "metadata": {},
   "source": [
    "#### El array es el principal objeto de la librería. Representa datos de manera estructurada y se puede acceder a ellos a través del indexado, a un dato específico o un grupo de muchos datos específicos."
   ]
  },
  {
   "cell_type": "markdown",
   "metadata": {},
   "source": [
    "# <a name=\"markdown3\"></a> Formas de importarlas:\n",
    "[Indice](#markdown100)"
   ]
  },
  {
   "cell_type": "code",
   "execution_count": 1,
   "metadata": {},
   "outputs": [],
   "source": [
    "import numpy as np\n",
    "import pandas as pd"
   ]
  },
  {
   "cell_type": "code",
   "execution_count": null,
   "metadata": {},
   "outputs": [],
   "source": [
    "lista = [1, 2 , 3, 4, 5, 6, 7, 8, 9]\n",
    "\n",
    "#Volvemos nuestra lista, un array\n",
    "arr = np.array(lista)"
   ]
  },
  {
   "cell_type": "code",
   "execution_count": 2,
   "metadata": {},
   "outputs": [],
   "source": [
    "matriz = [[1, 2, 3], [4, 5, 6], [7, 8, 9]]\n",
    "matriz = np.array(matriz)"
   ]
  },
  {
   "cell_type": "code",
   "execution_count": 3,
   "metadata": {},
   "outputs": [
    {
     "name": "stdout",
     "output_type": "stream",
     "text": [
      "[[1 2 3]\n",
      " [4 5 6]\n",
      " [7 8 9]]\n"
     ]
    }
   ],
   "source": [
    "print(matriz)"
   ]
  },
  {
   "cell_type": "markdown",
   "metadata": {},
   "source": [
    "### <a name=\"markdown0\"></a> Slicing List\n",
    "[Indice](#markdown100)"
   ]
  },
  {
   "cell_type": "code",
   "execution_count": 12,
   "metadata": {},
   "outputs": [
    {
     "name": "stdout",
     "output_type": "stream",
     "text": [
      "[2 3 4 5 6]\n",
      "[1 2 3 4 5 6]\n",
      "[3 4 5 6 7 8 9]\n",
      "[1 4 7]\n",
      "9\n",
      "7\n"
     ]
    }
   ],
   "source": [
    "lista = [1, 2 , 3, 4, 5, 6, 7, 8, 9]\n",
    "lista = np.array(lista)\n",
    "print(lista[1:6])\n",
    "print(lista[:6])\n",
    "print(lista[2:])\n",
    "print(lista[::3])\n",
    "print(lista[-1])\n",
    "print(lista[-3])"
   ]
  },
  {
   "cell_type": "markdown",
   "metadata": {},
   "source": [
    "### <a name=\"markdown4\"></a>  Sclicing Matrix:\n",
    "[Indice](#markdown100)"
   ]
  },
  {
   "cell_type": "code",
   "execution_count": 16,
   "metadata": {},
   "outputs": [
    {
     "name": "stdout",
     "output_type": "stream",
     "text": [
      "[[1 2 3]\n",
      " [4 5 6]\n",
      " [7 8 9]]\n",
      "***************\n",
      "[[4 5 6]\n",
      " [7 8 9]]\n",
      "***************\n",
      "[[4 5]\n",
      " [7 8]]\n"
     ]
    }
   ],
   "source": [
    "matrix = [[1, 2, 3], [4, 5, 6], [7, 8, 9]]\n",
    "matrix = np.array(matrix)\n",
    "print(matrix)\n",
    "print(\"*\"*15)\n",
    "print(matrix[1:]) #Desde la fila 1 en adelante.\n",
    "print(\"*\"*15)\n",
    "print(matrix[1:,0:2])"
   ]
  },
  {
   "cell_type": "markdown",
   "metadata": {},
   "source": [
    "* **matrix[fila, columna]** --> devuelve el valor en esa fila intersección esa columna"
   ]
  },
  {
   "cell_type": "markdown",
   "metadata": {},
   "source": [
    "### <a name=\"markdown5\"></a> Tipos de datos\n",
    "### [Tipos de datos numpy](https://numpy.org/doc/stable/user/basics.types.html):\n",
    "[Indice](#markdown100)"
   ]
  },
  {
   "cell_type": "code",
   "execution_count": 17,
   "metadata": {},
   "outputs": [
    {
     "data": {
      "text/plain": [
       "dtype('int64')"
      ]
     },
     "execution_count": 17,
     "metadata": {},
     "output_type": "execute_result"
    }
   ],
   "source": [
    "arr = np.array([1, 2, 3, 4])\n",
    "arr.dtype #Muestra el tipo de dato de los componenetes de array."
   ]
  },
  {
   "cell_type": "code",
   "execution_count": 18,
   "metadata": {},
   "outputs": [
    {
     "data": {
      "text/plain": [
       "dtype('float64')"
      ]
     },
     "execution_count": 18,
     "metadata": {},
     "output_type": "execute_result"
    }
   ],
   "source": [
    "arr = np.array([1, 2, 3, 4], dtype='float64') #Cambiamos el tipo de dato!!!\n",
    "arr.dtype"
   ]
  },
  {
   "cell_type": "code",
   "execution_count": 20,
   "metadata": {},
   "outputs": [
    {
     "data": {
      "text/plain": [
       "dtype('float64')"
      ]
     },
     "execution_count": 20,
     "metadata": {},
     "output_type": "execute_result"
    }
   ],
   "source": [
    "arr = np.array([1, 2, 3, 4]) # type int64\n",
    "arr = arr.astype(np.float64) # otra forma de cambiar el tipo de dato.\n",
    "arr.dtype"
   ]
  },
  {
   "cell_type": "markdown",
   "metadata": {},
   "source": [
    "* En términos de resultado final, no hay diferencia entre las dos formas de cambiar el tipo de datos de un arreglo NumPy. Ambas líneas de código logran el mismo resultado: cambiar el tipo de datos del arreglo arr a float64.\n",
    "\n",
    "* La diferencia radica en el enfoque utilizado para realizar la conversión:\n",
    "\n",
    "* En la primera línea de código, se especifica el tipo de datos deseado directamente al crear el arreglo mediante el argumento dtype='float64'. Esto significa que el arreglo se crea inicialmente con el tipo de datos especificado.\n",
    "\n",
    "* En la segunda línea de código, se utiliza el método astype() de NumPy para realizar la conversión explícita del tipo de datos del arreglo. El método astype() toma como argumento el tipo de datos al que se desea convertir el arreglo.\n",
    "También se podría definir como sigue:\n",
    "```python\n",
    "arr = [1, 2, 3, 4]\n",
    "arr = np.array(arr, dtype='float64') #Cambiamos el tipo de dato!!!\n",
    "arr.dtype\n",
    "```"
   ]
  },
  {
   "cell_type": "code",
   "execution_count": 25,
   "metadata": {},
   "outputs": [
    {
     "data": {
      "text/plain": [
       "array([False,  True,  True,  True,  True])"
      ]
     },
     "execution_count": 25,
     "metadata": {},
     "output_type": "execute_result"
    }
   ],
   "source": [
    "arr = np.array([0, 1, 2, 3, 4])\n",
    "arr = arr.astype(np.bool_) #Cambiando a Booleano!!!\n",
    "arr"
   ]
  },
  {
   "cell_type": "code",
   "execution_count": 28,
   "metadata": {},
   "outputs": [
    {
     "data": {
      "text/plain": [
       "array([b'0', b'1', b'2', b'3', b'4'], dtype='|S21')"
      ]
     },
     "execution_count": 28,
     "metadata": {},
     "output_type": "execute_result"
    }
   ],
   "source": [
    "arr = np.array([0, 1, 2, 3, 4])\n",
    "arr = arr.astype(np.string_) #Cambiando a Booleano!!!\n",
    "arr"
   ]
  },
  {
   "cell_type": "code",
   "execution_count": 29,
   "metadata": {},
   "outputs": [
    {
     "data": {
      "text/plain": [
       "array([0, 1, 2, 3, 4], dtype=int8)"
      ]
     },
     "execution_count": 29,
     "metadata": {},
     "output_type": "execute_result"
    }
   ],
   "source": [
    "arr = np.array(['0', '1', '2', '3', '4'])\n",
    "arr = arr.astype(np.int8) #Cambiando a Booleano!!!\n",
    "arr"
   ]
  },
  {
   "cell_type": "markdown",
   "metadata": {},
   "source": [
    "### <a name=\"markdown6\"></a> Dimensiones en los datos:\n",
    "[Indice](#markdown100)\n",
    "* **Scalar: 0 Un solo dato o valor --> 2 o \"r\", un solo valor.**\n",
    "```python\n",
    "scalar = np.array(42)\n",
    "print(scalar) \n",
    "scalar.ndim #muestra las dimensiones.\n",
    "```\n",
    "* **Vector: Listas de Python --> [1,2,3,4]**\n",
    "```python\n",
    "scalar = np.array([1,2,3,4])\n",
    "print(scalar) \n",
    "scalar.ndim #muestra las dimensiones.\n",
    "```\n",
    "* **Matriz: Hoja de cálculo --> algo que tenga 2 dimensiones (fila, columna).**\n",
    "```python\n",
    "scalar = np.array([[1, 2, 3], [4, 5, 6], [7, 8, 9]])\n",
    "print(scalar) \n",
    "scalar.ndim #muestra las dimensiones.\n",
    "```\n",
    "* **Tensor: Series de tiempo o Imágenes**\n",
    "![tensor](https://static.platzi.com/media/articlases/Images/tensor.JPG)\n",
    "```python\n",
    "tensor = np.array([\n",
    "    [\n",
    "        [1, 2, 3], [4, 5, 6], [7, 8, 9], [10, 11, 12]\n",
    "    ],\n",
    "    [\n",
    "        [13, 13, 15], [16, 17, 18], [19, 20, 21], [22, 23, 24]\n",
    "    ]\n",
    "]) #Matríz 4x3 en la primer posición, matríz 4x3 en la segunda posición.\n",
    "print(tensor)\n",
    "tensor.ndim\n",
    "```\n",
    "* **Nota, el tensor tiene tres dimensiones**: \n",
    "* la primera dimensión corresponde a las dos matrices internas. \n",
    "* La segunda dimensión corresponde a las filas de cada matriz.\n",
    "* La tercera dimensión corresponde a las columnas de cada matriz."
   ]
  },
  {
   "cell_type": "code",
   "execution_count": 13,
   "metadata": {},
   "outputs": [
    {
     "name": "stdout",
     "output_type": "stream",
     "text": [
      "[[[[ 1  2  3]\n",
      "   [ 4  5  6]\n",
      "   [ 7  8  9]\n",
      "   [10 11 12]]\n",
      "\n",
      "  [[13 13 15]\n",
      "   [16 17 18]\n",
      "   [19 20 21]\n",
      "   [22 23 24]]]]\n"
     ]
    },
    {
     "data": {
      "text/plain": [
       "4"
      ]
     },
     "execution_count": 13,
     "metadata": {},
     "output_type": "execute_result"
    }
   ],
   "source": [
    "tensor = np.array([\n",
    "                        [        \n",
    "                            [\n",
    "                                [1, 2, 3], [4, 5, 6], [7, 8, 9], [10, 11, 12]\n",
    "                            ],\n",
    "                            [\n",
    "                                [13, 13, 15], [16, 17, 18], [19, 20, 21], [22, 23, 24]\n",
    "                            ]\n",
    "                        ]\n",
    "                    ]) #Matríz 4x3 en la primer posición, matríz 4x3 en la segunda posición.\n",
    "print(tensor)\n",
    "tensor.ndim # Con 4 dimensiones."
   ]
  },
  {
   "cell_type": "markdown",
   "metadata": {},
   "source": [
    "### <a name=\"markdown7\"></a>  Agregar o eliminar dimensiones\n",
    "[Indice](#markdown100)\n",
    "* Se puede definir el número de dimensiones desde la declaración del array"
   ]
  },
  {
   "cell_type": "code",
   "execution_count": 16,
   "metadata": {},
   "outputs": [
    {
     "name": "stdout",
     "output_type": "stream",
     "text": [
      "[[[[[[[[[[1 2 3]]]]]]]]]]\n"
     ]
    },
    {
     "data": {
      "text/plain": [
       "10"
      ]
     },
     "execution_count": 16,
     "metadata": {},
     "output_type": "execute_result"
    }
   ],
   "source": [
    "vector = np.array([1, 2, 3], ndmin = 10)\n",
    "print(vector) \n",
    "vector.ndim"
   ]
  },
  {
   "cell_type": "markdown",
   "metadata": {},
   "source": [
    "### <a name=\"markdown8\"></a>  Expandir dimensiones\n",
    "[Indice](#markdown100)\n",
    "* Se pueden expandir dimensiones a los array ya existentes con expand_dims(). Axis = 0 hace referencia a las filas, mientras que axis = 1 a las columnas."
   ]
  },
  {
   "cell_type": "code",
   "execution_count": 14,
   "metadata": {},
   "outputs": [
    {
     "name": "stdout",
     "output_type": "stream",
     "text": [
      "[[1 2 3]]\n"
     ]
    },
    {
     "data": {
      "text/plain": [
       "2"
      ]
     },
     "execution_count": 14,
     "metadata": {},
     "output_type": "execute_result"
    }
   ],
   "source": [
    "expand = np.expand_dims(np.array([1, 2, 3]), axis = 0)\n",
    "print(expand)\n",
    "expand.ndim "
   ]
  },
  {
   "cell_type": "code",
   "execution_count": 15,
   "metadata": {},
   "outputs": [
    {
     "name": "stdout",
     "output_type": "stream",
     "text": [
      "[[1]\n",
      " [2]\n",
      " [3]]\n"
     ]
    },
    {
     "data": {
      "text/plain": [
       "2"
      ]
     },
     "execution_count": 15,
     "metadata": {},
     "output_type": "execute_result"
    }
   ],
   "source": [
    "expand = np.expand_dims(np.array([1, 2, 3]), axis = 1)\n",
    "print(expand)\n",
    "expand.ndim "
   ]
  },
  {
   "cell_type": "markdown",
   "metadata": {},
   "source": [
    "### <a name=\"markdown9\"></a>  Remover/comprimir las dimensiones que no están siendo usadas.\n",
    "[Indice](#markdown100)"
   ]
  },
  {
   "cell_type": "code",
   "execution_count": 18,
   "metadata": {},
   "outputs": [
    {
     "name": "stdout",
     "output_type": "stream",
     "text": [
      "[[[[[[[[[[1 2 3]]]]]]]]]] 10\n",
      "[1 2 3] 1\n"
     ]
    }
   ],
   "source": [
    "vector = np.array([1, 2, 3], ndmin = 10)\n",
    "print(vector, vector.ndim) \n",
    "vector_2 = np.squeeze(vector)\n",
    "print(vector_2, vector_2.ndim)"
   ]
  },
  {
   "cell_type": "markdown",
   "metadata": {},
   "source": [
    "### <a name=\"markdown10\"></a>  Creando Arrays con **numpy**\n",
    "[Indice](#markdown100)\n",
    "* Numpy nos da varios métodos muy eficientes para poder crear arrays desde 0.\n",
    "\n",
    "* Este método de NumPy nos permite generar arrays sin definir previamente una lista"
   ]
  },
  {
   "cell_type": "code",
   "execution_count": 20,
   "metadata": {},
   "outputs": [
    {
     "data": {
      "text/plain": [
       "[1, 2, 3, 4, 5, 6, 7, 8, 9]"
      ]
     },
     "execution_count": 20,
     "metadata": {},
     "output_type": "execute_result"
    }
   ],
   "source": [
    "# forma tradicional con python.\n",
    "list(range(1,10))"
   ]
  },
  {
   "cell_type": "code",
   "execution_count": 24,
   "metadata": {},
   "outputs": [
    {
     "name": "stdout",
     "output_type": "stream",
     "text": [
      "[1 2 3 4 5 6 7 8 9]\n",
      "[1 3 5 7 9]\n"
     ]
    }
   ],
   "source": [
    "# numpy\n",
    "list_01 = np.arange(1,10)\n",
    "print(list_01)\n",
    "list_02 = np.arange(1,10,2) # De 2 en 2\n",
    "print(list_02)"
   ]
  },
  {
   "cell_type": "markdown",
   "metadata": {},
   "source": [
    "### <a name=\"markdown11\"></a>  Creando listas solo con ceros\n",
    "[Indice](#markdown100)"
   ]
  },
  {
   "cell_type": "code",
   "execution_count": 25,
   "metadata": {},
   "outputs": [
    {
     "data": {
      "text/plain": [
       "array([0., 0., 0.])"
      ]
     },
     "execution_count": 25,
     "metadata": {},
     "output_type": "execute_result"
    }
   ],
   "source": [
    "np.zeros(3)"
   ]
  },
  {
   "cell_type": "markdown",
   "metadata": {},
   "source": [
    "### <a name=\"markdown12\"></a> Creando Matrices solo con ceros.\n",
    "[Indice](#markdown100)"
   ]
  },
  {
   "cell_type": "code",
   "execution_count": 27,
   "metadata": {},
   "outputs": [
    {
     "data": {
      "text/plain": [
       "array([[0., 0., 0., 0., 0.],\n",
       "       [0., 0., 0., 0., 0.],\n",
       "       [0., 0., 0., 0., 0.],\n",
       "       [0., 0., 0., 0., 0.],\n",
       "       [0., 0., 0., 0., 0.],\n",
       "       [0., 0., 0., 0., 0.],\n",
       "       [0., 0., 0., 0., 0.],\n",
       "       [0., 0., 0., 0., 0.],\n",
       "       [0., 0., 0., 0., 0.],\n",
       "       [0., 0., 0., 0., 0.]])"
      ]
     },
     "execution_count": 27,
     "metadata": {},
     "output_type": "execute_result"
    }
   ],
   "source": [
    "np.zeros((10,5))"
   ]
  },
  {
   "cell_type": "markdown",
   "metadata": {},
   "source": [
    "### <a name=\"markdown13\"></a>  Creando Matrces solo con unos.\n",
    "[Indice](#markdown100)"
   ]
  },
  {
   "cell_type": "code",
   "execution_count": 28,
   "metadata": {},
   "outputs": [
    {
     "data": {
      "text/plain": [
       "array([[1., 1., 1., 1., 1.],\n",
       "       [1., 1., 1., 1., 1.],\n",
       "       [1., 1., 1., 1., 1.],\n",
       "       [1., 1., 1., 1., 1.],\n",
       "       [1., 1., 1., 1., 1.],\n",
       "       [1., 1., 1., 1., 1.],\n",
       "       [1., 1., 1., 1., 1.],\n",
       "       [1., 1., 1., 1., 1.],\n",
       "       [1., 1., 1., 1., 1.],\n",
       "       [1., 1., 1., 1., 1.]])"
      ]
     },
     "execution_count": 28,
     "metadata": {},
     "output_type": "execute_result"
    }
   ],
   "source": [
    "np.ones((10,5))"
   ]
  },
  {
   "cell_type": "markdown",
   "metadata": {},
   "source": [
    "### <a name=\"markdown14\"></a> Crea listas con valores equidistantes entre ellos.\n",
    "[Indice](#markdown100)\n",
    "* Sintaxis:\n",
    "```python\n",
    "numpy.linspace(start, stop, num=50, endpoint=True, retstep=False, dtype=None)\n",
    "```\n",
    "* **start:** Es el valor inicial del rango.\n",
    "* **stop:** Es el valor final del rango.\n",
    "* **num:** Es el número de elementos que se generarán en el arreglo. Por defecto es 50.\n",
    "* **endpoint:** Un valor booleano que indica si el valor final está incluido en el arreglo. Si es True, el valor final está incluido; si es False, el valor final no está incluido. Por defecto es True.\n",
    "* **retstep:** Un valor booleano que indica si se debe retornar el espaciado entre los valores del arreglo. Si es True, se retorna el arreglo y el espaciado; si es False, solo se retorna el arreglo. Por defecto es False.\n",
    "* **dtype:** El tipo de dato de los elementos en el arreglo. Por defecto es None, lo que significa que se utilizará el tipo de dato por defecto de NumPy."
   ]
  },
  {
   "cell_type": "code",
   "execution_count": 35,
   "metadata": {},
   "outputs": [
    {
     "name": "stdout",
     "output_type": "stream",
     "text": [
      "(array([ 0.        ,  0.90909091,  1.81818182,  2.72727273,  3.63636364,\n",
      "        4.54545455,  5.45454545,  6.36363636,  7.27272727,  8.18181818,\n",
      "        9.09090909, 10.        ]), 0.9090909090909091)\n"
     ]
    }
   ],
   "source": [
    "values = np.linspace(0,10,num=12, retstep=True)# desde 0 hasta 10 con 12 valores\n",
    "print(values)"
   ]
  },
  {
   "cell_type": "markdown",
   "metadata": {},
   "source": [
    "### <a name=\"markdown15\"></a>  Matriz identidad\n",
    "[Indice](#markdown100)\n",
    "* El comando eye es una función de NumPy que se utiliza para crear una matriz identidad. Una matriz identidad es una matriz cuadrada en la que todos los elementos de la diagonal principal son iguales a 1 y los demás elementos son iguales a 0.\n",
    "\n",
    "* La sintaxis general de eye es la siguiente:\n",
    "```python\n",
    "numpy.eye(N, M=None, k=0, dtype=<class 'float'>, order='C')\n",
    "```\n",
    "* **N:** Es el número de filas de la matriz.\n",
    "* **M:** (Opcional) Es el número de columnas de la matriz. Si no se especifica, se asume que M=N, por lo que la matriz será cuadrada.\n",
    "* **k:** (Opcional) Es el desplazamiento de la diagonal principal. Un valor positivo indica una diagonal por encima de la diagonal principal, y un valor negativo indica una diagonal por debajo de la diagonal principal. Por defecto, k=0 y la diagonal principal estará compuesta de unos.\n",
    "* **dtype:** (Opcional) El tipo de dato de los elementos en la matriz. Por defecto, es un tipo de dato flotante (float).\n",
    "* **order:** (Opcional) Especifica el orden en que se almacenan los elementos en la matriz. Puede ser 'C' (por filas) o 'F' (por columnas). Por defecto, es 'C'."
   ]
  },
  {
   "cell_type": "code",
   "execution_count": 36,
   "metadata": {},
   "outputs": [
    {
     "name": "stdout",
     "output_type": "stream",
     "text": [
      "[[1. 0. 0.]\n",
      " [0. 1. 0.]\n",
      " [0. 0. 1.]]\n"
     ]
    }
   ],
   "source": [
    "matriz_identidad = np.eye(3)\n",
    "\n",
    "print(matriz_identidad)"
   ]
  },
  {
   "cell_type": "markdown",
   "metadata": {},
   "source": [
    "### <a name=\"markdown16\"></a> Valores Aleatoreos \"un valor\":\n",
    "[Indice](#markdown100)"
   ]
  },
  {
   "cell_type": "code",
   "execution_count": 37,
   "metadata": {},
   "outputs": [
    {
     "data": {
      "text/plain": [
       "0.6507831363398214"
      ]
     },
     "execution_count": 37,
     "metadata": {},
     "output_type": "execute_result"
    }
   ],
   "source": [
    "np.random.rand()"
   ]
  },
  {
   "cell_type": "markdown",
   "metadata": {},
   "source": [
    "### <a name=\"markdown17\"></a> Valores Aleatoreos \"una lista de valores\":\n",
    "[Indice](#markdown100)"
   ]
  },
  {
   "cell_type": "code",
   "execution_count": 38,
   "metadata": {},
   "outputs": [
    {
     "data": {
      "text/plain": [
       "array([0.58510919, 0.11935745, 0.40646536, 0.49571867])"
      ]
     },
     "execution_count": 38,
     "metadata": {},
     "output_type": "execute_result"
    }
   ],
   "source": [
    "np.random.rand(4)"
   ]
  },
  {
   "cell_type": "markdown",
   "metadata": {},
   "source": [
    "### <a name=\"markdown18\"></a> Valores Aleatoreos \"una Matríz de valores\":\n",
    "[Indice](#markdown100)"
   ]
  },
  {
   "cell_type": "code",
   "execution_count": 39,
   "metadata": {},
   "outputs": [
    {
     "data": {
      "text/plain": [
       "array([[0.56556431, 0.77719616, 0.71526729],\n",
       "       [0.61868235, 0.6897348 , 0.36030092]])"
      ]
     },
     "execution_count": 39,
     "metadata": {},
     "output_type": "execute_result"
    }
   ],
   "source": [
    "np.random.rand(2,3)"
   ]
  },
  {
   "cell_type": "markdown",
   "metadata": {},
   "source": [
    "### <a name=\"markdown19\"></a>  Valores Aleatoreos \"Enteros\":\n",
    "[Indice](#markdown100)\n",
    "```python\n",
    "numpy.random.randint(low, high=None, size=None, dtype=int)\n",
    "```\n",
    "* **low:** es el límite inferior del rango (inclusive).\n",
    "* **high:** es el límite superior del rango (exclusivo). Si no se proporciona, se asume que es el límite superior y el límite inferior se establece en 0.\n",
    "* **size:** es la forma o dimensiones del array que se desea generar. Puede ser un número entero para generar un único número aleatorio o una tupla de enteros para generar un array multidimensional. Si no se proporciona, se devuelve un único número entero.\n",
    "* **dtype:** es el tipo de datos de los elementos generados. Por defecto, se utiliza int."
   ]
  },
  {
   "cell_type": "code",
   "execution_count": 40,
   "metadata": {},
   "outputs": [
    {
     "data": {
      "text/plain": [
       "6"
      ]
     },
     "execution_count": 40,
     "metadata": {},
     "output_type": "execute_result"
    }
   ],
   "source": [
    "np.random.randint(1,15)"
   ]
  },
  {
   "cell_type": "code",
   "execution_count": 41,
   "metadata": {},
   "outputs": [
    {
     "data": {
      "text/plain": [
       "array([[44, 73, 76, 79, 83, 57, 42, 51, 41, 55],\n",
       "       [29, 83, 71, 53, 55, 30, 74, 84, 17, 16],\n",
       "       [70, 20, 74, 39, 51, 59,  7, 82, 13, 71],\n",
       "       [25, 79, 36, 90,  1, 24, 61, 16, 75,  2],\n",
       "       [71, 55, 90, 78, 78, 90, 38, 71, 16, 11],\n",
       "       [81, 62, 42, 92, 74, 56,  6, 14, 10, 13],\n",
       "       [72, 11, 98, 57, 26, 76, 64, 90, 36, 39],\n",
       "       [82, 52, 14, 10, 29, 46, 28, 41, 14, 50],\n",
       "       [88, 59, 25, 92, 30, 50, 10, 29, 12, 73],\n",
       "       [14, 74, 36, 35, 62,  3, 82, 15, 16, 38]])"
      ]
     },
     "execution_count": 41,
     "metadata": {},
     "output_type": "execute_result"
    }
   ],
   "source": [
    "np.random.randint(1,100,(10,10))"
   ]
  },
  {
   "cell_type": "markdown",
   "metadata": {},
   "source": [
    "### <a name=\"markdown20\"></a>  Shape:\n",
    "[Indice](#markdown100)\n",
    "* Forma del arreglo."
   ]
  },
  {
   "cell_type": "code",
   "execution_count": 44,
   "metadata": {},
   "outputs": [
    {
     "name": "stdout",
     "output_type": "stream",
     "text": [
      "[[6 2]\n",
      " [3 8]\n",
      " [3 4]]\n"
     ]
    },
    {
     "data": {
      "text/plain": [
       "(3, 2)"
      ]
     },
     "execution_count": 44,
     "metadata": {},
     "output_type": "execute_result"
    }
   ],
   "source": [
    "arr = np.random.randint(1,10,(3,2))\n",
    "print(arr)\n",
    "arr.shape # retorna la forma, en este caso una matríz de 3x2"
   ]
  },
  {
   "cell_type": "markdown",
   "metadata": {},
   "source": [
    "### <a name=\"markdown21\"></a> Reshape:\n",
    "[Indice](#markdown100)\n",
    "* Cambia la forma del arreglo.\n",
    "```python\n",
    "numpy.reshape(array, newshape, order='C')\n",
    "```\n",
    "* **array:** El array original que se desea redimensionar.\n",
    "* **newshape:** La nueva forma que se desea dar al array. Puede ser especificada como una tupla de enteros o como una lista de enteros separados por comas. Es importante tener en cuenta que la cantidad total de elementos en el array original debe ser igual a la cantidad total de elementos en el nuevo array.\n",
    "* **order (opcional):** Especifica el orden en que se deben leer los elementos del array original para reorganizarlos en el nuevo array. Los posibles valores son 'C' (orden C-contiguo, por defecto), 'F' (orden Fortran-contiguo), o 'A' (lo ordena según la mejor performance del computador).\n",
    "\n",
    "#### Nota: los parámetros 'C' y 'F' se refieren al orden en el que los elementos del array original se almacenan en la memoria.\n",
    "\n",
    "#### 'C' hace referencia al estilo de orden C-contiguo, también conocido como orden de fila principal (row-major order) o almacenamiento en el estilo C. En este orden, los elementos de una matriz bidimensional se almacenan por filas, es decir, los elementos de una misma fila se almacenan de forma contigua en la memoria. Este es el orden por defecto en NumPy.\n",
    "![C-style contiguous segment](https://static.platzi.com/media/user_upload/Apilar%20por%20filas%20V-ca01870a-aaaf-4bdb-8203-6885bd220f20.jpg)\n",
    "#### 'F' se refiere al estilo de orden Fortran-contiguo, también conocido como orden de columna principal (column-major order) o almacenamiento en el estilo Fortran. En este orden, los elementos de una matriz bidimensional se almacenan por columnas, es decir, los elementos de una misma columna se almacenan de forma contigua en la memoria.\n",
    "![Fortran-style contiguous segment](https://static.platzi.com/media/user_upload/Apilar%20por%20Columnas-0b5370fe-2271-4d55-bd10-5b290114678b.jpg)\n",
    "#### La diferencia entre ambos órdenes radica en cómo se accede a los elementos de la matriz en la memoria. Al trabajar con arrays multidimensionales grandes, el orden de almacenamiento puede afectar el rendimiento y la eficiencia del acceso a los elementos.\n",
    "\n",
    "#### En la mayoría de los casos, el orden 'C' es utilizado por defecto y es adecuado para la mayoría de las operaciones y algoritmos. Sin embargo, en algunos casos particulares, como cuando se trabaja con operaciones lineales algebraicas o algoritmos específicos que requieren un acceso eficiente por columnas, se puede utilizar el orden 'F'.\n",
    "\n",
    "#### Además, existe la opción de hacer reshape según como esté optimizado nuestro computador. En este caso es como en A."
   ]
  },
  {
   "cell_type": "code",
   "execution_count": 47,
   "metadata": {},
   "outputs": [
    {
     "name": "stdout",
     "output_type": "stream",
     "text": [
      "[[3 2]\n",
      " [8 5]\n",
      " [6 4]]\n"
     ]
    },
    {
     "data": {
      "text/plain": [
       "array([[3, 2, 8, 5, 6, 4]])"
      ]
     },
     "execution_count": 47,
     "metadata": {},
     "output_type": "execute_result"
    }
   ],
   "source": [
    "arr = np.random.randint(1,10,(3,2))\n",
    "print(arr)\n",
    "arr.reshape(1,6) # 1x6, está límitado por la cantidad de valores individuales."
   ]
  },
  {
   "cell_type": "code",
   "execution_count": 48,
   "metadata": {},
   "outputs": [
    {
     "data": {
      "text/plain": [
       "array([[3, 2, 8, 5, 6, 4]])"
      ]
     },
     "execution_count": 48,
     "metadata": {},
     "output_type": "execute_result"
    }
   ],
   "source": [
    "np.reshape(arr,(1,6)) #otra forma equivalente y válida."
   ]
  },
  {
   "cell_type": "code",
   "execution_count": 50,
   "metadata": {},
   "outputs": [
    {
     "data": {
      "text/plain": [
       "array([[3, 2, 8],\n",
       "       [5, 6, 4]])"
      ]
     },
     "execution_count": 50,
     "metadata": {},
     "output_type": "execute_result"
    }
   ],
   "source": [
    "np.reshape(arr,(2,3), 'C')"
   ]
  },
  {
   "cell_type": "code",
   "execution_count": 51,
   "metadata": {},
   "outputs": [
    {
     "data": {
      "text/plain": [
       "array([[3, 6, 5],\n",
       "       [8, 2, 4]])"
      ]
     },
     "execution_count": 51,
     "metadata": {},
     "output_type": "execute_result"
    }
   ],
   "source": [
    "np.reshape(arr,(2,3), 'F')"
   ]
  },
  {
   "cell_type": "code",
   "execution_count": 52,
   "metadata": {},
   "outputs": [
    {
     "data": {
      "text/plain": [
       "array([[3, 2, 8],\n",
       "       [5, 6, 4]])"
      ]
     },
     "execution_count": 52,
     "metadata": {},
     "output_type": "execute_result"
    }
   ],
   "source": [
    "np.reshape(arr,(2,3), 'A')"
   ]
  },
  {
   "cell_type": "markdown",
   "metadata": {},
   "source": [
    "### <a name=\"markdown22\"></a> Funciones Principales de NumPy:\n",
    "[Indice](#markdown100)"
   ]
  },
  {
   "cell_type": "code",
   "execution_count": 55,
   "metadata": {},
   "outputs": [
    {
     "data": {
      "text/plain": [
       "array([19, 16, 14,  7,  9,  8,  5, 19, 18, 12])"
      ]
     },
     "execution_count": 55,
     "metadata": {},
     "output_type": "execute_result"
    }
   ],
   "source": [
    "arr = np.random.randint(1,20,10)\n",
    "arr"
   ]
  },
  {
   "cell_type": "code",
   "execution_count": 56,
   "metadata": {},
   "outputs": [
    {
     "data": {
      "text/plain": [
       "array([[19, 16, 14,  7,  9],\n",
       "       [ 8,  5, 19, 18, 12]])"
      ]
     },
     "execution_count": 56,
     "metadata": {},
     "output_type": "execute_result"
    }
   ],
   "source": [
    "matriz = arr.reshape(2,5)\n",
    "matriz"
   ]
  },
  {
   "cell_type": "code",
   "execution_count": 57,
   "metadata": {},
   "outputs": [
    {
     "data": {
      "text/plain": [
       "19"
      ]
     },
     "execution_count": 57,
     "metadata": {},
     "output_type": "execute_result"
    }
   ],
   "source": [
    "np.max(arr) #arr.max() también funciona."
   ]
  },
  {
   "cell_type": "code",
   "execution_count": 58,
   "metadata": {},
   "outputs": [
    {
     "data": {
      "text/plain": [
       "19"
      ]
     },
     "execution_count": 58,
     "metadata": {},
     "output_type": "execute_result"
    }
   ],
   "source": [
    "np.max(matriz) #matriz.max() también funciona."
   ]
  },
  {
   "cell_type": "markdown",
   "metadata": {},
   "source": [
    "### <a name=\"markdown23\"></a>  Devuelve el máx número por columna.\n",
    "[Indice](#markdown100)\n",
    "* matriz.max(0) también funciona."
   ]
  },
  {
   "cell_type": "code",
   "execution_count": 60,
   "metadata": {},
   "outputs": [
    {
     "data": {
      "text/plain": [
       "array([19, 16, 19, 18, 12])"
      ]
     },
     "execution_count": 60,
     "metadata": {},
     "output_type": "execute_result"
    }
   ],
   "source": [
    "np.max(matriz, 0) "
   ]
  },
  {
   "cell_type": "markdown",
   "metadata": {},
   "source": [
    "### <a name=\"markdown24\"></a>  Devuelve el máx número por fila.\n",
    "[Indice](#markdown100)\n",
    "* matriz.max(1) también funciona."
   ]
  },
  {
   "cell_type": "code",
   "execution_count": 61,
   "metadata": {},
   "outputs": [
    {
     "data": {
      "text/plain": [
       "array([19, 19])"
      ]
     },
     "execution_count": 61,
     "metadata": {},
     "output_type": "execute_result"
    }
   ],
   "source": [
    "np.max(matriz, 1)"
   ]
  },
  {
   "cell_type": "markdown",
   "metadata": {},
   "source": [
    "#### También tenemos .argmax() que nos devuelve la posición del Máx. elemento"
   ]
  },
  {
   "cell_type": "code",
   "execution_count": 64,
   "metadata": {},
   "outputs": [
    {
     "name": "stdout",
     "output_type": "stream",
     "text": [
      "[11  8  5  6  7 12 15  7  8  1]\n"
     ]
    },
    {
     "data": {
      "text/plain": [
       "6"
      ]
     },
     "execution_count": 64,
     "metadata": {},
     "output_type": "execute_result"
    }
   ],
   "source": [
    "arr = np.random.randint(1,20,10)\n",
    "print(arr)\n",
    "arr.argmax()"
   ]
  },
  {
   "cell_type": "code",
   "execution_count": 67,
   "metadata": {},
   "outputs": [
    {
     "name": "stdout",
     "output_type": "stream",
     "text": [
      "[[11  8  5  6  7]\n",
      " [12 15  7  8  1]]\n"
     ]
    },
    {
     "data": {
      "text/plain": [
       "array([1, 1, 1, 1, 0])"
      ]
     },
     "execution_count": 67,
     "metadata": {},
     "output_type": "execute_result"
    }
   ],
   "source": [
    "matriz = arr.reshape(2,5)\n",
    "print(matriz)\n",
    "matriz.argmax(0)"
   ]
  },
  {
   "cell_type": "code",
   "execution_count": 68,
   "metadata": {},
   "outputs": [
    {
     "data": {
      "text/plain": [
       "array([0, 1])"
      ]
     },
     "execution_count": 68,
     "metadata": {},
     "output_type": "execute_result"
    }
   ],
   "source": [
    "matriz.argmax(1)"
   ]
  },
  {
   "cell_type": "markdown",
   "metadata": {},
   "source": [
    "#### Nota: Funcionamiento contrario remplazando \"max\" por \"min\""
   ]
  },
  {
   "cell_type": "markdown",
   "metadata": {},
   "source": [
    "### <a name=\"markdown25\"></a> ptp(), pico a pico:\n",
    "[Indice](#markdown100)\n",
    "* Devuelve la diferencia entre Máx y Mín."
   ]
  },
  {
   "cell_type": "code",
   "execution_count": 70,
   "metadata": {},
   "outputs": [
    {
     "data": {
      "text/plain": [
       "array([16, 14, 14,  6,  3,  6,  8, 14,  5, 18])"
      ]
     },
     "execution_count": 70,
     "metadata": {},
     "output_type": "execute_result"
    }
   ],
   "source": [
    "arr = np.random.randint(1,20,10)\n",
    "arr"
   ]
  },
  {
   "cell_type": "code",
   "execution_count": 71,
   "metadata": {},
   "outputs": [
    {
     "data": {
      "text/plain": [
       "15"
      ]
     },
     "execution_count": 71,
     "metadata": {},
     "output_type": "execute_result"
    }
   ],
   "source": [
    "arr.ptp()"
   ]
  },
  {
   "cell_type": "markdown",
   "metadata": {},
   "source": [
    "### <a name=\"markdown26\"></a> Percentile()\n",
    "[Indice](#markdown100)\n",
    "* La función np.percentile() en NumPy se utiliza para calcular los percentiles de un conjunto de datos. Un percentil es un valor que indica la posición relativa de un dato dentro de un conjunto, es decir, el porcentaje de datos que se encuentran por debajo de ese valor.\n",
    "\n",
    "* La sintaxis básica de la función np.percentile() es la siguiente:\n",
    "```python\n",
    "np.percentile(data, q, axis=None)\n",
    "```\n",
    "* **data:** Es el conjunto de datos del cual se desea calcular el percentil.\n",
    "* **q:** Es el percentil o lista de percentiles que se desean calcular. Puede ser un solo valor o una lista de valores.\n",
    "* **axis:** Es un parámetro opcional que indica a lo largo de qué eje se deben calcular los percentiles en el caso de arrays multidimensionales. Por defecto, se calculan los percentiles en todo el array.\n",
    "La función np.percentile() devuelve el valor del percentil o una lista de valores si se pasó una lista de percentiles como parámetro q.\n",
    "\n",
    "#### Nota: El percentil es una medida de posición usada en estadística que indica, una vez ordenados los datos de menor a mayor, el valor de la variable por debajo del cual se encuentra un porcentaje dado de observaciones en un grupo. Por ejemplo, el percentil 20 es el valor bajo el cual se encuentran el 20 % de las observaciones, y el 80 % restante son mayores.\n"
   ]
  },
  {
   "cell_type": "code",
   "execution_count": 4,
   "metadata": {},
   "outputs": [
    {
     "data": {
      "text/plain": [
       "array([82, 46, 42, 97, 89, 81, 49, 38, 93, 27])"
      ]
     },
     "execution_count": 4,
     "metadata": {},
     "output_type": "execute_result"
    }
   ],
   "source": [
    "arr = np.random.randint(1,100,10)\n",
    "arr"
   ]
  },
  {
   "cell_type": "code",
   "execution_count": 8,
   "metadata": {},
   "outputs": [
    {
     "data": {
      "text/plain": [
       "65.0"
      ]
     },
     "execution_count": 8,
     "metadata": {},
     "output_type": "execute_result"
    }
   ],
   "source": [
    "percentil = np.percentile(arr,50)\n",
    "percentil"
   ]
  },
  {
   "cell_type": "code",
   "execution_count": 14,
   "metadata": {},
   "outputs": [
    {
     "name": "stdout",
     "output_type": "stream",
     "text": [
      "1.0 5.5 10.0\n"
     ]
    }
   ],
   "source": [
    "arr_01 = [1,2,3,4,5,6,7,8,9,10]\n",
    "\n",
    "per_0 = np.percentile(arr_01,0)\n",
    "per_50 = np.percentile(arr_01,50)\n",
    "per_100 = np.percentile(arr_01,100)\n",
    "print(per_0, per_50, per_100)"
   ]
  },
  {
   "cell_type": "markdown",
   "metadata": {},
   "source": [
    "### <a name=\"markdown27\"></a> sort():\n",
    "[Indice](#markdown100)\n",
    "* ordena de menor a mayor.\n",
    "```python\n",
    "arr = arr.sort()\n",
    "```"
   ]
  },
  {
   "cell_type": "markdown",
   "metadata": {},
   "source": [
    "### <a name=\"markdown28\"></a> median():\n",
    "[Indice](#markdown100)\n",
    "* Entrega la mediana, el valor que está en la mitad."
   ]
  },
  {
   "cell_type": "code",
   "execution_count": 16,
   "metadata": {},
   "outputs": [
    {
     "name": "stdout",
     "output_type": "stream",
     "text": [
      "[14 38 59 13 10 25 24 97 94 57 41 32 41 63 97 93 10 83 97 78]\n",
      "49.0\n"
     ]
    }
   ],
   "source": [
    "arr = np.random.randint(1,100,20)\n",
    "print(arr)\n",
    "med = np.median(arr)\n",
    "print(med)"
   ]
  },
  {
   "cell_type": "markdown",
   "metadata": {},
   "source": [
    "### <a name=\"markdown29\"></a> median() con Matrices:\n",
    "[Indice](#markdown100)"
   ]
  },
  {
   "cell_type": "code",
   "execution_count": 23,
   "metadata": {},
   "outputs": [
    {
     "name": "stdout",
     "output_type": "stream",
     "text": [
      "[[14 38 59 13 10 25 24 97 94 57]\n",
      " [41 32 41 63 97 93 10 83 97 78]]\n",
      "by col: [27.5 35.  50.  38.  53.5 59.  17.  90.  95.5 67.5]\n",
      "by row: [31.5 70.5]\n"
     ]
    }
   ],
   "source": [
    "matrix = np.reshape(arr,(2,10))\n",
    "print(matrix)\n",
    "\n",
    "med_mat_col = np.median(matrix,0) #Por Columnas.\n",
    "print(f'by col: {med_mat_col}')\n",
    "\n",
    "med_mat_row = np.median(matrix,1)\n",
    "print(f'by row: {med_mat_row}')"
   ]
  },
  {
   "cell_type": "markdown",
   "metadata": {},
   "source": [
    "### <a name=\"markdown30\"></a> Desviación std():\n",
    "[Indice](#markdown100)"
   ]
  },
  {
   "cell_type": "code",
   "execution_count": 24,
   "metadata": {},
   "outputs": [
    {
     "name": "stdout",
     "output_type": "stream",
     "text": [
      "29.583610327341724\n"
     ]
    }
   ],
   "source": [
    "arr = np.random.randint(1,100,20)\n",
    "dsta = np.std(arr)\n",
    "print(dsta)"
   ]
  },
  {
   "cell_type": "markdown",
   "metadata": {},
   "source": [
    "### <a name=\"markdown31\"></a> Varianza var()\n",
    "[Indice](#markdown100)"
   ]
  },
  {
   "cell_type": "code",
   "execution_count": 34,
   "metadata": {},
   "outputs": [
    {
     "name": "stdout",
     "output_type": "stream",
     "text": [
      "var: 940.6899999999998, dsta: 30.670670028546812, dsta**2: 940.6899999999997\n"
     ]
    }
   ],
   "source": [
    "arr = np.random.randint(1,100,20)\n",
    "var = np.var(arr)\n",
    "\n",
    "#Nota, la var = dsta**2\n",
    "dsta = np.std(arr)\n",
    "var_01 = dsta**2 #La varianza = al cuadrado de la desv std.\n",
    "print(f'var: {var}, dsta: {dsta}, dsta**2: {var_01}')"
   ]
  },
  {
   "cell_type": "markdown",
   "metadata": {},
   "source": [
    "### <a name=\"markdown32\"></a> La Media mean()\n",
    "[Indice](#markdown100)\n",
    "* Es el promedio.\n",
    "```python\n",
    "arr = np.mean(arr)\n",
    "```"
   ]
  },
  {
   "cell_type": "markdown",
   "metadata": {},
   "source": [
    "### <a name=\"markdown33\"></a> Concatenar concatenate()\n",
    "[Indice](#markdown100)"
   ]
  },
  {
   "cell_type": "code",
   "execution_count": 40,
   "metadata": {},
   "outputs": [
    {
     "name": "stdout",
     "output_type": "stream",
     "text": [
      "[[1 2]\n",
      " [3 4]]\n",
      "[5 6]\n"
     ]
    }
   ],
   "source": [
    "a = np.array([[1,2],[3,4]])\n",
    "print(a)\n",
    "b = np.array([5,6]) # Tiene dim: 1\n",
    "print(b)"
   ]
  },
  {
   "cell_type": "markdown",
   "metadata": {},
   "source": [
    "#### **Tienen que tener las mismas dimensiones**"
   ]
  },
  {
   "cell_type": "code",
   "execution_count": 37,
   "metadata": {},
   "outputs": [
    {
     "name": "stdout",
     "output_type": "stream",
     "text": [
      "[[5 6]] dim: 2\n",
      "[[5]\n",
      " [6]] dim: 2\n"
     ]
    }
   ],
   "source": [
    "b_exp_col = np.expand_dims(b, axis=0)\n",
    "b_exp_row = np.expand_dims(b, axis=1)\n",
    "\n",
    "print(b_exp_col, f'dim: {b_exp_col.ndim}')\n",
    "print(b_exp_row, f'dim: {b_exp_row.ndim}')"
   ]
  },
  {
   "cell_type": "markdown",
   "metadata": {},
   "source": [
    "#### **A concatenar por columnas:**"
   ]
  },
  {
   "cell_type": "code",
   "execution_count": 38,
   "metadata": {},
   "outputs": [
    {
     "data": {
      "text/plain": [
       "array([[1, 2],\n",
       "       [3, 4],\n",
       "       [5, 6]])"
      ]
     },
     "execution_count": 38,
     "metadata": {},
     "output_type": "execute_result"
    }
   ],
   "source": [
    "conc_col = np.concatenate((a,b_exp_col), axis=0)\n",
    "conc_col"
   ]
  },
  {
   "cell_type": "markdown",
   "metadata": {},
   "source": [
    "#### Concatenamos por filas:"
   ]
  },
  {
   "cell_type": "code",
   "execution_count": 43,
   "metadata": {},
   "outputs": [
    {
     "data": {
      "text/plain": [
       "array([[1, 2, 5],\n",
       "       [3, 4, 6]])"
      ]
     },
     "execution_count": 43,
     "metadata": {},
     "output_type": "execute_result"
    }
   ],
   "source": [
    "conc_col = np.concatenate((a,b_exp_row), axis=1)\n",
    "conc_col"
   ]
  },
  {
   "cell_type": "markdown",
   "metadata": {},
   "source": [
    "### <a name=\"markdown34\"></a> Transpuesta T:\n",
    "[Indice](#markdown100)\n",
    "* ejemplo pasa de 3x2 --> 2x3"
   ]
  },
  {
   "cell_type": "code",
   "execution_count": 45,
   "metadata": {},
   "outputs": [
    {
     "name": "stdout",
     "output_type": "stream",
     "text": [
      "[[1 2]\n",
      " [3 4]]\n",
      "[[1 3]\n",
      " [2 4]]\n"
     ]
    }
   ],
   "source": [
    "a = np.array([[1,2],[3,4]])\n",
    "print(a)\n",
    "a_transp = a.T\n",
    "print(a_transp)"
   ]
  },
  {
   "cell_type": "markdown",
   "metadata": {},
   "source": [
    "### Entonces podemos utilizar para concatenar"
   ]
  },
  {
   "cell_type": "code",
   "execution_count": 47,
   "metadata": {},
   "outputs": [
    {
     "data": {
      "text/plain": [
       "array([[1, 2, 5],\n",
       "       [3, 4, 6]])"
      ]
     },
     "execution_count": 47,
     "metadata": {},
     "output_type": "execute_result"
    }
   ],
   "source": [
    "conc_col = np.concatenate((a,b_exp_col.T), axis=1) #Sin la \"T\" da error, y nos da igual que b_exp_row\n",
    "conc_col"
   ]
  },
  {
   "cell_type": "markdown",
   "metadata": {},
   "source": [
    "### <a name=\"markdown35\"></a> copy():\n",
    "[Indice](#markdown100)\n",
    "* Uno de los problemas más comunes es manipular una variable y modificarla, tal como se observa en el siguiente ejemplo."
   ]
  },
  {
   "cell_type": "code",
   "execution_count": 60,
   "metadata": {},
   "outputs": [
    {
     "name": "stdout",
     "output_type": "stream",
     "text": [
      "[ 1  2  3  4  5  6  7  8  9 10]\n"
     ]
    }
   ],
   "source": [
    "arr = np.arange(1,11)\n",
    "print(arr)"
   ]
  },
  {
   "cell_type": "code",
   "execution_count": 59,
   "metadata": {},
   "outputs": [
    {
     "name": "stdout",
     "output_type": "stream",
     "text": [
      "[1 2 3 4 5 6]\n",
      "[0 0 0 0 0 0]\n",
      "[ 0  0  0  0  0  0  7  8  9 10]\n"
     ]
    }
   ],
   "source": [
    "arr_cuted_01 = arr[0:6]\n",
    "print(arr_cuted_01)\n",
    "\n",
    "arr_cuted_01[:] = 0 #todos los valores en 0.\n",
    "print(arr_cuted_01)\n",
    "\n",
    "print(arr) #Se ve el cambio a la variable original"
   ]
  },
  {
   "cell_type": "markdown",
   "metadata": {},
   "source": [
    "#### Solución a Copy:"
   ]
  },
  {
   "cell_type": "code",
   "execution_count": 64,
   "metadata": {},
   "outputs": [
    {
     "name": "stdout",
     "output_type": "stream",
     "text": [
      "[ 1  2  3  4  5  6  7  8  9 10]\n",
      "[100 100 100 100 100 100 100 100 100 100]\n",
      "[ 1  2  3  4  5  6  7  8  9 10]\n"
     ]
    }
   ],
   "source": [
    "arr = np.arange(1,11)\n",
    "print(arr)\n",
    "\n",
    "arr_copy = arr.copy()\n",
    "arr_copy[:] = 100\n",
    "\n",
    "print(arr_copy)\n",
    "print(arr) #Se mantiene el original!!!"
   ]
  },
  {
   "cell_type": "markdown",
   "metadata": {},
   "source": [
    "### <a name=\"markdown36\"></a> Condiciones:\n",
    "[Indice](#markdown100)"
   ]
  },
  {
   "cell_type": "code",
   "execution_count": 67,
   "metadata": {},
   "outputs": [
    {
     "data": {
      "text/plain": [
       "array([ 1,  2,  3,  4,  5,  6,  7,  8,  9, 10], dtype=int8)"
      ]
     },
     "execution_count": 67,
     "metadata": {},
     "output_type": "execute_result"
    }
   ],
   "source": [
    "arr = np.linspace(1,10,10, dtype='int8')\n",
    "arr"
   ]
  },
  {
   "cell_type": "code",
   "execution_count": 69,
   "metadata": {},
   "outputs": [
    {
     "data": {
      "text/plain": [
       "array([False, False, False, False, False,  True,  True,  True,  True,\n",
       "        True])"
      ]
     },
     "execution_count": 69,
     "metadata": {},
     "output_type": "execute_result"
    }
   ],
   "source": [
    "cond_index = arr > 5\n",
    "cond_index"
   ]
  },
  {
   "cell_type": "code",
   "execution_count": 71,
   "metadata": {},
   "outputs": [
    {
     "data": {
      "text/plain": [
       "array([6, 7, 8], dtype=int8)"
      ]
     },
     "execution_count": 71,
     "metadata": {},
     "output_type": "execute_result"
    }
   ],
   "source": [
    "arr[(arr>5) & (arr<9)] "
   ]
  },
  {
   "cell_type": "code",
   "execution_count": 73,
   "metadata": {},
   "outputs": [
    {
     "data": {
      "text/plain": [
       "array([ 1,  2,  3,  4,  5, 99, 99, 99, 99, 99], dtype=int8)"
      ]
     },
     "execution_count": 73,
     "metadata": {},
     "output_type": "execute_result"
    }
   ],
   "source": [
    "arr[arr>5] = 99\n",
    "arr"
   ]
  },
  {
   "cell_type": "code",
   "execution_count": 75,
   "metadata": {},
   "outputs": [
    {
     "data": {
      "text/plain": [
       "array([99, 99, 99, 99, 99], dtype=int8)"
      ]
     },
     "execution_count": 75,
     "metadata": {},
     "output_type": "execute_result"
    }
   ],
   "source": [
    "arr[arr==99]"
   ]
  },
  {
   "cell_type": "markdown",
   "metadata": {},
   "source": [
    "### <a name=\"markdown37\"></a> Operaciones:\n",
    "[Indice](#markdown100)"
   ]
  },
  {
   "cell_type": "markdown",
   "metadata": {},
   "source": [
    "#### Con una lista de Python No multiplica cada valor por 2, sino que duplica la lista"
   ]
  },
  {
   "cell_type": "code",
   "execution_count": 77,
   "metadata": {},
   "outputs": [
    {
     "data": {
      "text/plain": [
       "[1, 2, 1, 2]"
      ]
     },
     "execution_count": 77,
     "metadata": {},
     "output_type": "execute_result"
    }
   ],
   "source": [
    "py_list = [1,2]\n",
    "py_list * 2 "
   ]
  },
  {
   "cell_type": "markdown",
   "metadata": {},
   "source": [
    "#### Con numpy si podemos hacerlo"
   ]
  },
  {
   "cell_type": "code",
   "execution_count": 83,
   "metadata": {},
   "outputs": [
    {
     "name": "stdout",
     "output_type": "stream",
     "text": [
      "[0 1 2 3 4 5 6 7 8 9]\n",
      "[ 0  2  4  6  8 10 12 14 16 18]\n",
      "[ 2  3  4  5  6  7  8  9 10 11]\n",
      "[       inf 1.         0.5        0.33333333 0.25       0.2\n",
      " 0.16666667 0.14285714 0.125      0.11111111]\n"
     ]
    },
    {
     "name": "stderr",
     "output_type": "stream",
     "text": [
      "/tmp/ipykernel_585/2374450473.py:6: RuntimeWarning: divide by zero encountered in divide\n",
      "  print(1/arr) #No detuvo la ejecución, pero si lanzó una advertencia de 1/0\n"
     ]
    }
   ],
   "source": [
    "arr = np.arange(0,10)\n",
    "arr_01 = arr.copy()\n",
    "print(arr)\n",
    "print(arr_01*2)\n",
    "print(arr_01+2)\n",
    "print(1/arr) #No detuvo la ejecución, pero si lanzó una advertencia de 1/0"
   ]
  },
  {
   "cell_type": "code",
   "execution_count": 82,
   "metadata": {},
   "outputs": [
    {
     "name": "stdout",
     "output_type": "stream",
     "text": [
      "[ 0  1  4  9 16 25 36 49 64 81]\n",
      "[ 0  2  4  6  8 10 12 14 16 18]\n"
     ]
    }
   ],
   "source": [
    "print(arr**2)\n",
    "print(arr + arr_01)"
   ]
  },
  {
   "cell_type": "code",
   "execution_count": 86,
   "metadata": {},
   "outputs": [
    {
     "name": "stdout",
     "output_type": "stream",
     "text": [
      "[[0 1 2 3 4]\n",
      " [5 6 7 8 9]]\n"
     ]
    }
   ],
   "source": [
    "matriz = arr.reshape(2,5)\n",
    "print(matriz)\n",
    "matriz_01 = matriz.copy()"
   ]
  },
  {
   "cell_type": "code",
   "execution_count": 88,
   "metadata": {},
   "outputs": [
    {
     "name": "stdout",
     "output_type": "stream",
     "text": [
      "[[ 0  2  4  6  8]\n",
      " [10 12 14 16 18]]\n"
     ]
    }
   ],
   "source": [
    "sum_matriz = matriz + matriz_01\n",
    "print(sum_matriz)"
   ]
  },
  {
   "cell_type": "markdown",
   "metadata": {},
   "source": [
    "### <a name=\"markdown38\"></a> Producto entre Matrices.\n",
    "[Indice](#markdown100)"
   ]
  },
  {
   "cell_type": "code",
   "execution_count": 92,
   "metadata": {},
   "outputs": [
    {
     "name": "stdout",
     "output_type": "stream",
     "text": [
      "[[ 30  80]\n",
      " [ 80 255]]\n",
      "[[ 30  80]\n",
      " [ 80 255]]\n"
     ]
    }
   ],
   "source": [
    "prod_matr = np.matmul(matriz, matriz_01.T)\n",
    "print(prod_matr)\n",
    "# Forma equivalente:\n",
    "prod_matr_01 = matriz @ matriz_01.T\n",
    "print(prod_matr_01)"
   ]
  },
  {
   "cell_type": "markdown",
   "metadata": {},
   "source": [
    "### Pandas:\n",
    "[Indice Pandas](#markdown1000)\n",
    "\n",
    "#### Pandas es una librería de Python especializada en el manejo y análisis de estructuras de datos. El nombre viene de “Panel data”.\n",
    "\n",
    "* Velocidad\n",
    "* Poco código\n",
    "* Múltiples formatos de archivos\n",
    "* Alineación inteligente"
   ]
  },
  {
   "cell_type": "markdown",
   "metadata": {},
   "source": [
    "### <a name=\"markdown39\"></a> Pandas Series.\n",
    "[Indice Pandas](#markdown1000)\n",
    "\n",
    "#### Es muy parecido a un array de una dimensión (o vector) de NumPy.\n",
    "\n",
    "* Arreglo unidimensional indexado --> El índice comienza en \"1\".\n",
    "* Búsqueda por índice\n",
    "* Slicing\n",
    "* Operaciones aritméticas\n",
    "* Distintos tipos de datos"
   ]
  },
  {
   "cell_type": "markdown",
   "metadata": {},
   "source": [
    "### <a name=\"markdown40\"></a> Creando lista con índices específicos\n",
    "[Indice Pandas](#markdown1000)"
   ]
  },
  {
   "cell_type": "code",
   "execution_count": 3,
   "metadata": {},
   "outputs": [
    {
     "data": {
      "text/plain": [
       "1      Navas\n",
       "7     Mbappe\n",
       "10    Neymar\n",
       "30     Messi\n",
       "dtype: object"
      ]
     },
     "execution_count": 3,
     "metadata": {},
     "output_type": "execute_result"
    }
   ],
   "source": [
    "psg_players = pd.Series(['Navas','Mbappe','Neymar','Messi'], index=[1,7,10,30])\n",
    "psg_players"
   ]
  },
  {
   "cell_type": "code",
   "execution_count": null,
   "metadata": {},
   "outputs": [],
   "source": [
    "dict = {1: 'Navas', 7: 'Mbappe', 10: 'Neymar', 30:'Messi'}\n",
    "pd.Series(dict)"
   ]
  },
  {
   "cell_type": "markdown",
   "metadata": {},
   "source": [
    "### <a name=\"markdown41\"></a> Pandas DataFrame\n",
    "[Indice Pandas](#markdown1000)\n",
    "#### Muy parecido a las estructuras matriciales trabajadas con NumPy.\n",
    "\n",
    "* Estructura principal\n",
    "* Arreglo de dos dimensiones\n",
    "* Búsqueda por índice (columnas (uso el nombre) o filas (inicia en 0 hasta la última)), \n",
    "* Slicing\n",
    "* Operaciones aritméticas\n",
    "* Distintos tipos de datos\n",
    "* Tamaño variable"
   ]
  },
  {
   "cell_type": "markdown",
   "metadata": {},
   "source": [
    "### <a name=\"markdown42\"></a> Creando una structura matricial con diccionarios.\n",
    "[Indice Pandas](#markdown1000)"
   ]
  },
  {
   "cell_type": "code",
   "execution_count": 7,
   "metadata": {},
   "outputs": [],
   "source": [
    "dict = {\n",
    "    'Jugador':['Navas','Mbappe','Neymar','Messi'],\n",
    "    'Altura':[183.0, 170.0, 170.0, 163.0],\n",
    "    'Goles':[2, 200, 150, 500]\n",
    "}"
   ]
  },
  {
   "cell_type": "code",
   "execution_count": 15,
   "metadata": {},
   "outputs": [
    {
     "data": {
      "text/html": [
       "<div>\n",
       "<style scoped>\n",
       "    .dataframe tbody tr th:only-of-type {\n",
       "        vertical-align: middle;\n",
       "    }\n",
       "\n",
       "    .dataframe tbody tr th {\n",
       "        vertical-align: top;\n",
       "    }\n",
       "\n",
       "    .dataframe thead th {\n",
       "        text-align: right;\n",
       "    }\n",
       "</style>\n",
       "<table border=\"1\" class=\"dataframe\">\n",
       "  <thead>\n",
       "    <tr style=\"text-align: right;\">\n",
       "      <th></th>\n",
       "      <th>Jugador</th>\n",
       "      <th>Altura</th>\n",
       "      <th>Goles</th>\n",
       "    </tr>\n",
       "  </thead>\n",
       "  <tbody>\n",
       "    <tr>\n",
       "      <th>1</th>\n",
       "      <td>Navas</td>\n",
       "      <td>183.0</td>\n",
       "      <td>2</td>\n",
       "    </tr>\n",
       "    <tr>\n",
       "      <th>7</th>\n",
       "      <td>Mbappe</td>\n",
       "      <td>170.0</td>\n",
       "      <td>200</td>\n",
       "    </tr>\n",
       "    <tr>\n",
       "      <th>10</th>\n",
       "      <td>Neymar</td>\n",
       "      <td>170.0</td>\n",
       "      <td>150</td>\n",
       "    </tr>\n",
       "    <tr>\n",
       "      <th>30</th>\n",
       "      <td>Messi</td>\n",
       "      <td>163.0</td>\n",
       "      <td>500</td>\n",
       "    </tr>\n",
       "  </tbody>\n",
       "</table>\n",
       "</div>"
      ],
      "text/plain": [
       "   Jugador  Altura  Goles\n",
       "1    Navas   183.0      2\n",
       "7   Mbappe   170.0    200\n",
       "10  Neymar   170.0    150\n",
       "30   Messi   163.0    500"
      ]
     },
     "metadata": {},
     "output_type": "display_data"
    }
   ],
   "source": [
    "df_players = pd.DataFrame(dict, index=[1,7,10,30]) # si no usamos el index usa el default.\n",
    "display(df_players)"
   ]
  },
  {
   "cell_type": "code",
   "execution_count": 14,
   "metadata": {},
   "outputs": [
    {
     "data": {
      "text/plain": [
       "Int64Index([1, 7, 10, 30], dtype='int64')"
      ]
     },
     "execution_count": 14,
     "metadata": {},
     "output_type": "execute_result"
    }
   ],
   "source": [
    "df_players.index"
   ]
  },
  {
   "cell_type": "markdown",
   "metadata": {},
   "source": [
    "### <a name=\"markdown43\"></a> Leyendo CSV:\n",
    "[Indice Pandas](#markdown1000)\n",
    "\n",
    "#### Sintaxis:\n",
    "```python\n",
    "df = pd.read_csv(filepath_or_buffer, sep=',', header='infer', names=None, ...)\n",
    "```\n",
    "Aquí hay una explicación de algunos de los parámetros más comunes de la función:\n",
    "\n",
    "* **filepath_or_buffer:** Especifica la ubicación del archivo CSV que se va a leer. Puede ser una cadena de ruta de archivo o una URL.\n",
    "* **sep:** Especifica el delimitador utilizado en el archivo CSV para separar las columnas. Por defecto, se utiliza la coma (,), pero se puede cambiar a otro carácter, como punto y coma (;), tabulación (\\t), etc.\n",
    "* **header:** Especifica la fila que contiene los nombres de las columnas. Por defecto, se toma la primera fila como encabezado (header='infer'), pero también se puede establecer en None si el archivo CSV no tiene una fila de encabezado.\n",
    "* **names:** Permite proporcionar una lista de nombres de columnas personalizados en caso de que el archivo CSV no tenga una fila de encabezado.\n",
    "* **Otros parámetros:** La función read_csv() también admite muchos otros parámetros, como dtype para especificar el tipo de datos de las columnas, na_values para manejar los valores nulos, parse_dates para analizar columnas como fechas, entre otros.\n",
    "\n",
    "### Sintaxis Completa:\n",
    "```python\n",
    "df = pd.read_csv(\n",
    "    filepath_or_buffer,  # Ruta del archivo CSV o una URL.\n",
    "    sep=',',  # Delimitador utilizado en el archivo CSV para separar las columnas.\n",
    "    delimiter=None,  # Delimitador adicional, si se necesita usar otro diferente al especificado en 'sep'.\n",
    "    header='infer',  # Fila que contiene los nombres de las columnas. Por defecto, se toma la primera fila como encabezado.\n",
    "    names=None,  # Lista de nombres de columnas personalizados en caso de que el archivo CSV no tenga una fila de encabezado.\n",
    "    index_col=None,  # Nombre de columna o índice de columna para usar como índice de fila del DataFrame resultante.\n",
    "    usecols=None,  # Lista de columnas a leer del archivo CSV.\n",
    "    squeeze=False,  # Si se establece en True y el archivo CSV contiene solo una columna, se devuelve una Serie en lugar de un DataFrame.\n",
    "    prefix=None,  # Prefijo a agregar a los nombres de las columnas si no hay encabezado.\n",
    "    mangle_dupe_cols=True,  # Renombrar las columnas duplicadas si es necesario.\n",
    "    dtype=None,  # Tipo de datos de las columnas.\n",
    "    engine=None,  # Motor de análisis a utilizar. Por defecto, se selecciona automáticamente según la extensión del archivo.\n",
    "    converters=None,  # Diccionario de funciones para convertir valores en determinadas columnas.\n",
    "    true_values=None,  # Lista de valores que se considerarán verdaderos.\n",
    "    false_values=None,  # Lista de valores que se considerarán falsos.\n",
    "    skiprows=None,  # Número de filas a omitir desde el comienzo del archivo CSV.\n",
    "    nrows=None,  # Número máximo de filas a leer desde el archivo CSV.\n",
    "    skip_blank_lines=True,  # Omitir las líneas en blanco.\n",
    "    na_values=None,  # Lista de valores que se considerarán como valores nulos.\n",
    "    keep_default_na=True,  # Mantener los valores por defecto que se consideran como valores nulos.\n",
    "    na_filter=True,  # Detectar y convertir los valores nulos.\n",
    "    verbose=False,  # Mostrar mensajes informativos durante la lectura del archivo.\n",
    "    skipinitialspace=False,  # Omitir espacios iniciales en las columnas.\n",
    "    skipfooter=0,  # Número de filas al final del archivo a omitir.\n",
    "    nrows=None,  # Número máximo de filas a leer desde el archivo CSV.\n",
    "    quotechar='\"',  # Carácter utilizado para citar campos.\n",
    "    quoting=csv.QUOTE_MINIMAL,  # Controla cuándo se citan los campos.\n",
    "    doublequote=True,  # Controla si se permite el uso de comillas dentro de los campos citados.\n",
    "    escapechar=None,  # Carácter de escape utilizado cuando se especifica `quoting` como QUOTE_NONE.\n",
    "    comment=None,  # Carácter que indica el inicio de un comentario en el archivo CSV.\n",
    "    encoding=None,  # Codificación utilizada para leer el archivo CSV.\n",
    "    dialect=None,  # Clase dialecto de CSV personalizado para el análisis.\n",
    "    error_bad_lines=True,  # Controla el comportamiento cuando se encuentran líneas inválidas.\n",
    "    warn_bad_lines=True,  # Mostrar advertencias cuando)\n",
    "```"
   ]
  },
  {
   "cell_type": "code",
   "execution_count": 3,
   "metadata": {},
   "outputs": [
    {
     "data": {
      "text/html": [
       "<div>\n",
       "<style scoped>\n",
       "    .dataframe tbody tr th:only-of-type {\n",
       "        vertical-align: middle;\n",
       "    }\n",
       "\n",
       "    .dataframe tbody tr th {\n",
       "        vertical-align: top;\n",
       "    }\n",
       "\n",
       "    .dataframe thead th {\n",
       "        text-align: right;\n",
       "    }\n",
       "</style>\n",
       "<table border=\"1\" class=\"dataframe\">\n",
       "  <thead>\n",
       "    <tr style=\"text-align: right;\">\n",
       "      <th></th>\n",
       "      <th>Name</th>\n",
       "      <th>Author</th>\n",
       "      <th>User Rating</th>\n",
       "      <th>Reviews</th>\n",
       "      <th>Price</th>\n",
       "      <th>Year</th>\n",
       "      <th>Genre</th>\n",
       "    </tr>\n",
       "  </thead>\n",
       "  <tbody>\n",
       "    <tr>\n",
       "      <th>0</th>\n",
       "      <td>10-Day Green Smoothie Cleanse</td>\n",
       "      <td>JJ Smith</td>\n",
       "      <td>4.7</td>\n",
       "      <td>17350</td>\n",
       "      <td>8</td>\n",
       "      <td>2016</td>\n",
       "      <td>Non Fiction</td>\n",
       "    </tr>\n",
       "    <tr>\n",
       "      <th>1</th>\n",
       "      <td>11/22/63: A Novel</td>\n",
       "      <td>Stephen King</td>\n",
       "      <td>4.6</td>\n",
       "      <td>2052</td>\n",
       "      <td>22</td>\n",
       "      <td>2011</td>\n",
       "      <td>Fiction</td>\n",
       "    </tr>\n",
       "    <tr>\n",
       "      <th>2</th>\n",
       "      <td>12 Rules for Life: An Antidote to Chaos</td>\n",
       "      <td>Jordan B. Peterson</td>\n",
       "      <td>4.7</td>\n",
       "      <td>18979</td>\n",
       "      <td>15</td>\n",
       "      <td>2018</td>\n",
       "      <td>Non Fiction</td>\n",
       "    </tr>\n",
       "    <tr>\n",
       "      <th>3</th>\n",
       "      <td>1984 (Signet Classics)</td>\n",
       "      <td>George Orwell</td>\n",
       "      <td>4.7</td>\n",
       "      <td>21424</td>\n",
       "      <td>6</td>\n",
       "      <td>2017</td>\n",
       "      <td>Fiction</td>\n",
       "    </tr>\n",
       "    <tr>\n",
       "      <th>4</th>\n",
       "      <td>5,000 Awesome Facts (About Everything!) (Natio...</td>\n",
       "      <td>National Geographic Kids</td>\n",
       "      <td>4.8</td>\n",
       "      <td>7665</td>\n",
       "      <td>12</td>\n",
       "      <td>2019</td>\n",
       "      <td>Non Fiction</td>\n",
       "    </tr>\n",
       "    <tr>\n",
       "      <th>...</th>\n",
       "      <td>...</td>\n",
       "      <td>...</td>\n",
       "      <td>...</td>\n",
       "      <td>...</td>\n",
       "      <td>...</td>\n",
       "      <td>...</td>\n",
       "      <td>...</td>\n",
       "    </tr>\n",
       "    <tr>\n",
       "      <th>545</th>\n",
       "      <td>Wrecking Ball (Diary of a Wimpy Kid Book 14)</td>\n",
       "      <td>Jeff Kinney</td>\n",
       "      <td>4.9</td>\n",
       "      <td>9413</td>\n",
       "      <td>8</td>\n",
       "      <td>2019</td>\n",
       "      <td>Fiction</td>\n",
       "    </tr>\n",
       "    <tr>\n",
       "      <th>546</th>\n",
       "      <td>You Are a Badass: How to Stop Doubting Your Gr...</td>\n",
       "      <td>Jen Sincero</td>\n",
       "      <td>4.7</td>\n",
       "      <td>14331</td>\n",
       "      <td>8</td>\n",
       "      <td>2016</td>\n",
       "      <td>Non Fiction</td>\n",
       "    </tr>\n",
       "    <tr>\n",
       "      <th>547</th>\n",
       "      <td>You Are a Badass: How to Stop Doubting Your Gr...</td>\n",
       "      <td>Jen Sincero</td>\n",
       "      <td>4.7</td>\n",
       "      <td>14331</td>\n",
       "      <td>8</td>\n",
       "      <td>2017</td>\n",
       "      <td>Non Fiction</td>\n",
       "    </tr>\n",
       "    <tr>\n",
       "      <th>548</th>\n",
       "      <td>You Are a Badass: How to Stop Doubting Your Gr...</td>\n",
       "      <td>Jen Sincero</td>\n",
       "      <td>4.7</td>\n",
       "      <td>14331</td>\n",
       "      <td>8</td>\n",
       "      <td>2018</td>\n",
       "      <td>Non Fiction</td>\n",
       "    </tr>\n",
       "    <tr>\n",
       "      <th>549</th>\n",
       "      <td>You Are a Badass: How to Stop Doubting Your Gr...</td>\n",
       "      <td>Jen Sincero</td>\n",
       "      <td>4.7</td>\n",
       "      <td>14331</td>\n",
       "      <td>8</td>\n",
       "      <td>2019</td>\n",
       "      <td>Non Fiction</td>\n",
       "    </tr>\n",
       "  </tbody>\n",
       "</table>\n",
       "<p>550 rows × 7 columns</p>\n",
       "</div>"
      ],
      "text/plain": [
       "                                                  Name  \\\n",
       "0                        10-Day Green Smoothie Cleanse   \n",
       "1                                    11/22/63: A Novel   \n",
       "2              12 Rules for Life: An Antidote to Chaos   \n",
       "3                               1984 (Signet Classics)   \n",
       "4    5,000 Awesome Facts (About Everything!) (Natio...   \n",
       "..                                                 ...   \n",
       "545       Wrecking Ball (Diary of a Wimpy Kid Book 14)   \n",
       "546  You Are a Badass: How to Stop Doubting Your Gr...   \n",
       "547  You Are a Badass: How to Stop Doubting Your Gr...   \n",
       "548  You Are a Badass: How to Stop Doubting Your Gr...   \n",
       "549  You Are a Badass: How to Stop Doubting Your Gr...   \n",
       "\n",
       "                       Author  User Rating  Reviews  Price  Year        Genre  \n",
       "0                    JJ Smith          4.7    17350      8  2016  Non Fiction  \n",
       "1                Stephen King          4.6     2052     22  2011      Fiction  \n",
       "2          Jordan B. Peterson          4.7    18979     15  2018  Non Fiction  \n",
       "3               George Orwell          4.7    21424      6  2017      Fiction  \n",
       "4    National Geographic Kids          4.8     7665     12  2019  Non Fiction  \n",
       "..                        ...          ...      ...    ...   ...          ...  \n",
       "545               Jeff Kinney          4.9     9413      8  2019      Fiction  \n",
       "546               Jen Sincero          4.7    14331      8  2016  Non Fiction  \n",
       "547               Jen Sincero          4.7    14331      8  2017  Non Fiction  \n",
       "548               Jen Sincero          4.7    14331      8  2018  Non Fiction  \n",
       "549               Jen Sincero          4.7    14331      8  2019  Non Fiction  \n",
       "\n",
       "[550 rows x 7 columns]"
      ]
     },
     "metadata": {},
     "output_type": "display_data"
    }
   ],
   "source": [
    "df_books = pd.read_csv('bestsellers-with-categories.csv')\n",
    "display(df_books)"
   ]
  },
  {
   "cell_type": "markdown",
   "metadata": {},
   "source": [
    "### Agregando parámetros:"
   ]
  },
  {
   "cell_type": "code",
   "execution_count": 5,
   "metadata": {},
   "outputs": [
    {
     "data": {
      "text/plain": [
       "Index(['Name', 'Author', 'User Rating', 'Reviews', 'Price', 'Year', 'Genre'], dtype='object')"
      ]
     },
     "execution_count": 5,
     "metadata": {},
     "output_type": "execute_result"
    }
   ],
   "source": [
    "df_books.columns"
   ]
  },
  {
   "cell_type": "code",
   "execution_count": 9,
   "metadata": {},
   "outputs": [
    {
     "data": {
      "text/html": [
       "<div>\n",
       "<style scoped>\n",
       "    .dataframe tbody tr th:only-of-type {\n",
       "        vertical-align: middle;\n",
       "    }\n",
       "\n",
       "    .dataframe tbody tr th {\n",
       "        vertical-align: top;\n",
       "    }\n",
       "\n",
       "    .dataframe thead th {\n",
       "        text-align: right;\n",
       "    }\n",
       "</style>\n",
       "<table border=\"1\" class=\"dataframe\">\n",
       "  <thead>\n",
       "    <tr style=\"text-align: right;\">\n",
       "      <th></th>\n",
       "      <th>BookName</th>\n",
       "      <th>BookAuthor</th>\n",
       "      <th>User Rating</th>\n",
       "      <th>Reviews</th>\n",
       "      <th>Price</th>\n",
       "      <th>Year</th>\n",
       "      <th>Genre</th>\n",
       "    </tr>\n",
       "  </thead>\n",
       "  <tbody>\n",
       "    <tr>\n",
       "      <th>0</th>\n",
       "      <td>10-Day Green Smoothie Cleanse</td>\n",
       "      <td>JJ Smith</td>\n",
       "      <td>4.7</td>\n",
       "      <td>17350</td>\n",
       "      <td>8</td>\n",
       "      <td>2016</td>\n",
       "      <td>Non Fiction</td>\n",
       "    </tr>\n",
       "    <tr>\n",
       "      <th>1</th>\n",
       "      <td>11/22/63: A Novel</td>\n",
       "      <td>Stephen King</td>\n",
       "      <td>4.6</td>\n",
       "      <td>2052</td>\n",
       "      <td>22</td>\n",
       "      <td>2011</td>\n",
       "      <td>Fiction</td>\n",
       "    </tr>\n",
       "    <tr>\n",
       "      <th>2</th>\n",
       "      <td>12 Rules for Life: An Antidote to Chaos</td>\n",
       "      <td>Jordan B. Peterson</td>\n",
       "      <td>4.7</td>\n",
       "      <td>18979</td>\n",
       "      <td>15</td>\n",
       "      <td>2018</td>\n",
       "      <td>Non Fiction</td>\n",
       "    </tr>\n",
       "    <tr>\n",
       "      <th>3</th>\n",
       "      <td>1984 (Signet Classics)</td>\n",
       "      <td>George Orwell</td>\n",
       "      <td>4.7</td>\n",
       "      <td>21424</td>\n",
       "      <td>6</td>\n",
       "      <td>2017</td>\n",
       "      <td>Fiction</td>\n",
       "    </tr>\n",
       "    <tr>\n",
       "      <th>4</th>\n",
       "      <td>5,000 Awesome Facts (About Everything!) (Natio...</td>\n",
       "      <td>National Geographic Kids</td>\n",
       "      <td>4.8</td>\n",
       "      <td>7665</td>\n",
       "      <td>12</td>\n",
       "      <td>2019</td>\n",
       "      <td>Non Fiction</td>\n",
       "    </tr>\n",
       "    <tr>\n",
       "      <th>...</th>\n",
       "      <td>...</td>\n",
       "      <td>...</td>\n",
       "      <td>...</td>\n",
       "      <td>...</td>\n",
       "      <td>...</td>\n",
       "      <td>...</td>\n",
       "      <td>...</td>\n",
       "    </tr>\n",
       "    <tr>\n",
       "      <th>545</th>\n",
       "      <td>Wrecking Ball (Diary of a Wimpy Kid Book 14)</td>\n",
       "      <td>Jeff Kinney</td>\n",
       "      <td>4.9</td>\n",
       "      <td>9413</td>\n",
       "      <td>8</td>\n",
       "      <td>2019</td>\n",
       "      <td>Fiction</td>\n",
       "    </tr>\n",
       "    <tr>\n",
       "      <th>546</th>\n",
       "      <td>You Are a Badass: How to Stop Doubting Your Gr...</td>\n",
       "      <td>Jen Sincero</td>\n",
       "      <td>4.7</td>\n",
       "      <td>14331</td>\n",
       "      <td>8</td>\n",
       "      <td>2016</td>\n",
       "      <td>Non Fiction</td>\n",
       "    </tr>\n",
       "    <tr>\n",
       "      <th>547</th>\n",
       "      <td>You Are a Badass: How to Stop Doubting Your Gr...</td>\n",
       "      <td>Jen Sincero</td>\n",
       "      <td>4.7</td>\n",
       "      <td>14331</td>\n",
       "      <td>8</td>\n",
       "      <td>2017</td>\n",
       "      <td>Non Fiction</td>\n",
       "    </tr>\n",
       "    <tr>\n",
       "      <th>548</th>\n",
       "      <td>You Are a Badass: How to Stop Doubting Your Gr...</td>\n",
       "      <td>Jen Sincero</td>\n",
       "      <td>4.7</td>\n",
       "      <td>14331</td>\n",
       "      <td>8</td>\n",
       "      <td>2018</td>\n",
       "      <td>Non Fiction</td>\n",
       "    </tr>\n",
       "    <tr>\n",
       "      <th>549</th>\n",
       "      <td>You Are a Badass: How to Stop Doubting Your Gr...</td>\n",
       "      <td>Jen Sincero</td>\n",
       "      <td>4.7</td>\n",
       "      <td>14331</td>\n",
       "      <td>8</td>\n",
       "      <td>2019</td>\n",
       "      <td>Non Fiction</td>\n",
       "    </tr>\n",
       "  </tbody>\n",
       "</table>\n",
       "<p>550 rows × 7 columns</p>\n",
       "</div>"
      ],
      "text/plain": [
       "                                              BookName  \\\n",
       "0                        10-Day Green Smoothie Cleanse   \n",
       "1                                    11/22/63: A Novel   \n",
       "2              12 Rules for Life: An Antidote to Chaos   \n",
       "3                               1984 (Signet Classics)   \n",
       "4    5,000 Awesome Facts (About Everything!) (Natio...   \n",
       "..                                                 ...   \n",
       "545       Wrecking Ball (Diary of a Wimpy Kid Book 14)   \n",
       "546  You Are a Badass: How to Stop Doubting Your Gr...   \n",
       "547  You Are a Badass: How to Stop Doubting Your Gr...   \n",
       "548  You Are a Badass: How to Stop Doubting Your Gr...   \n",
       "549  You Are a Badass: How to Stop Doubting Your Gr...   \n",
       "\n",
       "                   BookAuthor  User Rating  Reviews  Price  Year        Genre  \n",
       "0                    JJ Smith          4.7    17350      8  2016  Non Fiction  \n",
       "1                Stephen King          4.6     2052     22  2011      Fiction  \n",
       "2          Jordan B. Peterson          4.7    18979     15  2018  Non Fiction  \n",
       "3               George Orwell          4.7    21424      6  2017      Fiction  \n",
       "4    National Geographic Kids          4.8     7665     12  2019  Non Fiction  \n",
       "..                        ...          ...      ...    ...   ...          ...  \n",
       "545               Jeff Kinney          4.9     9413      8  2019      Fiction  \n",
       "546               Jen Sincero          4.7    14331      8  2016  Non Fiction  \n",
       "547               Jen Sincero          4.7    14331      8  2017  Non Fiction  \n",
       "548               Jen Sincero          4.7    14331      8  2018  Non Fiction  \n",
       "549               Jen Sincero          4.7    14331      8  2019  Non Fiction  \n",
       "\n",
       "[550 rows x 7 columns]"
      ]
     },
     "metadata": {},
     "output_type": "display_data"
    }
   ],
   "source": [
    "df_books = pd.read_csv('bestsellers-with-categories.csv', sep=',', header=0, names=['BookName', 'BookAuthor', 'User Rating', 'Reviews', 'Price', 'Year', 'Genre'])\n",
    "display(df_books)"
   ]
  },
  {
   "cell_type": "markdown",
   "metadata": {},
   "source": [
    "### <a name=\"markdown44\"></a> Leyendo JSON:\n",
    "[Indice Pandas](#markdown1000)\n",
    "\n",
    "### Sintaxis:\n",
    "```python\n",
    "df = pd.read_json(\n",
    "    path_or_buf,  # Ruta del archivo JSON o un objeto con contenido JSON.\n",
    "    orient=None,  # Orientación de los datos. Puede ser 'split', 'records', 'index', 'columns' o 'values'.\n",
    "    typ='frame',  # Define el tipo de objeto a crear. Por defecto, se crea un DataFrame, pero también puede ser 'series' para crear una Serie.\n",
    "    dtype=True,  # Controla si se infieren los tipos de datos de las columnas automáticamente.\n",
    "    convert_axes=True,  # Controla si se convierten los ejes del objeto JSON.\n",
    "    convert_dates=True,  # Controla si se convierten las fechas automáticamente.\n",
    "    keep_default_dates=True,  # Controla si se mantienen las fechas por defecto en caso de errores de conversión.\n",
    "    numpy=False,  # Controla si los objetos JSON se convierten en arrays NumPy.\n",
    "    precise_float=False,  # Controla si se utiliza una representación precisa de los números de punto flotante.\n",
    "    date_unit=None,  # Unidad de tiempo para las fechas. Puede ser 's', 'ms', 'us' o 'ns'.\n",
    "    encoding=None,  # Codificación utilizada para leer el archivo JSON.\n",
    "    lines=False,  # Indica si el archivo JSON contiene una serie de objetos JSON separados por líneas.\n",
    "    chunksize=None,  # Tamaño de los fragmentos para leer el archivo JSON de forma incremental.\n",
    "    compression='infer',  # Método de compresión utilizado. Por defecto, se infiere automáticamente.\n",
    "    nrows=None,  # Número máximo de filas a leer del archivo JSON.\n",
    "    json_module=None,  # Módulo personalizado a utilizar para el análisis JSON.\n",
    ")\n",
    "```"
   ]
  },
  {
   "cell_type": "code",
   "execution_count": 14,
   "metadata": {},
   "outputs": [
    {
     "data": {
      "text/html": [
       "<div>\n",
       "<style scoped>\n",
       "    .dataframe tbody tr th:only-of-type {\n",
       "        vertical-align: middle;\n",
       "    }\n",
       "\n",
       "    .dataframe tbody tr th {\n",
       "        vertical-align: top;\n",
       "    }\n",
       "\n",
       "    .dataframe thead th {\n",
       "        text-align: right;\n",
       "    }\n",
       "</style>\n",
       "<table border=\"1\" class=\"dataframe\">\n",
       "  <thead>\n",
       "    <tr style=\"text-align: right;\">\n",
       "      <th></th>\n",
       "      <th>Name</th>\n",
       "      <th>Link</th>\n",
       "      <th>Descr</th>\n",
       "      <th>Gender</th>\n",
       "      <th>Species/Race</th>\n",
       "      <th>Blood</th>\n",
       "      <th>School</th>\n",
       "      <th>Profession</th>\n",
       "    </tr>\n",
       "  </thead>\n",
       "  <tbody>\n",
       "    <tr>\n",
       "      <th>0</th>\n",
       "      <td>Mrs. Abbott</td>\n",
       "      <td>https://www.hp-lexicon.org/character/abbott-fa...</td>\n",
       "      <td>Mrs. Abbott was the mother of Hannah Abbott, a...</td>\n",
       "      <td>Female</td>\n",
       "      <td>Witch</td>\n",
       "      <td>Muggle-born</td>\n",
       "      <td>Unknown</td>\n",
       "      <td>Unknown</td>\n",
       "    </tr>\n",
       "    <tr>\n",
       "      <th>1</th>\n",
       "      <td>Hannah Abbott</td>\n",
       "      <td>https://www.hp-lexicon.org/character/abbott-fa...</td>\n",
       "      <td>Hannah Abbott is a Hufflepuff student in Harry...</td>\n",
       "      <td>Female</td>\n",
       "      <td>Witch</td>\n",
       "      <td>Half-blood</td>\n",
       "      <td>Hogwarts - Hufflepuff</td>\n",
       "      <td>Landlady of the Leaky Cauldron</td>\n",
       "    </tr>\n",
       "    <tr>\n",
       "      <th>2</th>\n",
       "      <td>Abel Treetops</td>\n",
       "      <td>https://www.hp-lexicon.org/character/abel-tree...</td>\n",
       "      <td>Abel Treetops was a wizard from Cincinnati who...</td>\n",
       "      <td>Male</td>\n",
       "      <td>Wizard</td>\n",
       "      <td>Unknown</td>\n",
       "      <td>Unknown</td>\n",
       "      <td>Unknown</td>\n",
       "    </tr>\n",
       "    <tr>\n",
       "      <th>3</th>\n",
       "      <td>Euan Abercrombie</td>\n",
       "      <td>https://www.hp-lexicon.org/character/abercromb...</td>\n",
       "      <td>Euan Abercrombie was a small boy with prominen...</td>\n",
       "      <td>Male</td>\n",
       "      <td>Wizard</td>\n",
       "      <td>Unknown</td>\n",
       "      <td>Hogwarts - Gryffindor</td>\n",
       "      <td>Unknown</td>\n",
       "    </tr>\n",
       "    <tr>\n",
       "      <th>4</th>\n",
       "      <td>Aberforth Dumbledore</td>\n",
       "      <td>https://www.hp-lexicon.org/character/dumbledor...</td>\n",
       "      <td>Aberforth Dumbledore was a tall, thin, grumpy-...</td>\n",
       "      <td>Male</td>\n",
       "      <td>Wizard</td>\n",
       "      <td>Half-blood</td>\n",
       "      <td>Hogwarts - Student</td>\n",
       "      <td>Barman</td>\n",
       "    </tr>\n",
       "    <tr>\n",
       "      <th>...</th>\n",
       "      <td>...</td>\n",
       "      <td>...</td>\n",
       "      <td>...</td>\n",
       "      <td>...</td>\n",
       "      <td>...</td>\n",
       "      <td>...</td>\n",
       "      <td>...</td>\n",
       "      <td>...</td>\n",
       "    </tr>\n",
       "    <tr>\n",
       "      <th>1935</th>\n",
       "      <td>Georgi Zdravko</td>\n",
       "      <td>https://www.hp-lexicon.org/character/georgi-zd...</td>\n",
       "      <td>Georgi Zdravko played Keeper for the Bulgarian...</td>\n",
       "      <td>Male</td>\n",
       "      <td>Wizard</td>\n",
       "      <td>Unknown</td>\n",
       "      <td>Unknown</td>\n",
       "      <td>Quidditch player (Seeker)</td>\n",
       "    </tr>\n",
       "    <tr>\n",
       "      <th>1936</th>\n",
       "      <td>Zograf</td>\n",
       "      <td>https://www.hp-lexicon.org/character/zograf/</td>\n",
       "      <td>Zograf played Keeper for the Bulgarian Nationa...</td>\n",
       "      <td>NaN</td>\n",
       "      <td>Wizard</td>\n",
       "      <td>Unknown</td>\n",
       "      <td>Unknown</td>\n",
       "      <td>Quidditch player (Keeper)</td>\n",
       "    </tr>\n",
       "    <tr>\n",
       "      <th>1937</th>\n",
       "      <td>Zonko</td>\n",
       "      <td>https://www.hp-lexicon.org/character/zonko/</td>\n",
       "      <td>Founder(?) of Zonko’s Joke Shop. Possibly a re...</td>\n",
       "      <td>NaN</td>\n",
       "      <td>Unknown</td>\n",
       "      <td>Unknown</td>\n",
       "      <td>Unknown</td>\n",
       "      <td>Unknown</td>\n",
       "    </tr>\n",
       "    <tr>\n",
       "      <th>1938</th>\n",
       "      <td>Valentina Vázquez</td>\n",
       "      <td>https://www.hp-lexicon.org/character/valentina...</td>\n",
       "      <td>Valentina Vázquez was President of the Argenti...</td>\n",
       "      <td>Female</td>\n",
       "      <td>Witch</td>\n",
       "      <td>Unknown</td>\n",
       "      <td>Unknown</td>\n",
       "      <td>President of the Argentinian Council of Magic</td>\n",
       "    </tr>\n",
       "    <tr>\n",
       "      <th>1939</th>\n",
       "      <td>Zygmunt Budge</td>\n",
       "      <td>https://www.hp-lexicon.org/character/zygmunt-b...</td>\n",
       "      <td>Zygmunt Budge is considered to be one of the m...</td>\n",
       "      <td>Male</td>\n",
       "      <td>Wizard</td>\n",
       "      <td>Unknown</td>\n",
       "      <td>Hogwarts - Student</td>\n",
       "      <td>Potions Master, Potioneer, Inventor, Author</td>\n",
       "    </tr>\n",
       "  </tbody>\n",
       "</table>\n",
       "<p>1940 rows × 8 columns</p>\n",
       "</div>"
      ],
      "text/plain": [
       "                      Name                                               Link  \\\n",
       "0              Mrs. Abbott  https://www.hp-lexicon.org/character/abbott-fa...   \n",
       "1            Hannah Abbott  https://www.hp-lexicon.org/character/abbott-fa...   \n",
       "2            Abel Treetops  https://www.hp-lexicon.org/character/abel-tree...   \n",
       "3         Euan Abercrombie  https://www.hp-lexicon.org/character/abercromb...   \n",
       "4     Aberforth Dumbledore  https://www.hp-lexicon.org/character/dumbledor...   \n",
       "...                    ...                                                ...   \n",
       "1935        Georgi Zdravko  https://www.hp-lexicon.org/character/georgi-zd...   \n",
       "1936                Zograf       https://www.hp-lexicon.org/character/zograf/   \n",
       "1937                 Zonko        https://www.hp-lexicon.org/character/zonko/   \n",
       "1938     Valentina Vázquez  https://www.hp-lexicon.org/character/valentina...   \n",
       "1939         Zygmunt Budge  https://www.hp-lexicon.org/character/zygmunt-b...   \n",
       "\n",
       "                                                  Descr  Gender Species/Race  \\\n",
       "0     Mrs. Abbott was the mother of Hannah Abbott, a...  Female        Witch   \n",
       "1     Hannah Abbott is a Hufflepuff student in Harry...  Female        Witch   \n",
       "2     Abel Treetops was a wizard from Cincinnati who...    Male       Wizard   \n",
       "3     Euan Abercrombie was a small boy with prominen...    Male       Wizard   \n",
       "4     Aberforth Dumbledore was a tall, thin, grumpy-...    Male       Wizard   \n",
       "...                                                 ...     ...          ...   \n",
       "1935  Georgi Zdravko played Keeper for the Bulgarian...    Male       Wizard   \n",
       "1936  Zograf played Keeper for the Bulgarian Nationa...     NaN       Wizard   \n",
       "1937  Founder(?) of Zonko’s Joke Shop. Possibly a re...     NaN      Unknown   \n",
       "1938  Valentina Vázquez was President of the Argenti...  Female        Witch   \n",
       "1939  Zygmunt Budge is considered to be one of the m...    Male       Wizard   \n",
       "\n",
       "            Blood                 School  \\\n",
       "0     Muggle-born                Unknown   \n",
       "1      Half-blood  Hogwarts - Hufflepuff   \n",
       "2         Unknown                Unknown   \n",
       "3         Unknown  Hogwarts - Gryffindor   \n",
       "4      Half-blood     Hogwarts - Student   \n",
       "...           ...                    ...   \n",
       "1935      Unknown                Unknown   \n",
       "1936      Unknown                Unknown   \n",
       "1937      Unknown                Unknown   \n",
       "1938      Unknown                Unknown   \n",
       "1939      Unknown     Hogwarts - Student   \n",
       "\n",
       "                                         Profession  \n",
       "0                                           Unknown  \n",
       "1                    Landlady of the Leaky Cauldron  \n",
       "2                                           Unknown  \n",
       "3                                           Unknown  \n",
       "4                                            Barman  \n",
       "...                                             ...  \n",
       "1935                      Quidditch player (Seeker)  \n",
       "1936                      Quidditch player (Keeper)  \n",
       "1937                                        Unknown  \n",
       "1938  President of the Argentinian Council of Magic  \n",
       "1939    Potions Master, Potioneer, Inventor, Author  \n",
       "\n",
       "[1940 rows x 8 columns]"
      ]
     },
     "metadata": {},
     "output_type": "display_data"
    }
   ],
   "source": [
    "df_json = pd.read_json('hpcharactersdataraw.json')\n",
    "display(df_json)"
   ]
  },
  {
   "cell_type": "code",
   "execution_count": 15,
   "metadata": {},
   "outputs": [
    {
     "data": {
      "text/plain": [
       "0       {'Name': 'Mrs. Abbott', 'Link': 'https://www.h...\n",
       "1       {'Name': 'Hannah Abbott', 'Link': 'https://www...\n",
       "2       {'Name': 'Abel Treetops', 'Link': 'https://www...\n",
       "3       {'Name': 'Euan Abercrombie', 'Link': 'https://...\n",
       "4       {'Name': 'Aberforth Dumbledore', 'Link': 'http...\n",
       "                              ...                        \n",
       "1935    {'Name': 'Georgi Zdravko', 'Link': 'https://ww...\n",
       "1936    {'Name': 'Zograf', 'Link': 'https://www.hp-lex...\n",
       "1937    {'Name': 'Zonko', 'Link': 'https://www.hp-lexi...\n",
       "1938    {'Name': 'Valentina Vázquez', 'Link': 'https:/...\n",
       "1939    {'Name': 'Zygmunt Budge', 'Link': 'https://www...\n",
       "Length: 1940, dtype: object"
      ]
     },
     "metadata": {},
     "output_type": "display_data"
    }
   ],
   "source": [
    "df_json = pd.read_json('hpcharactersdataraw.json', typ='Series')\n",
    "display(df_json)"
   ]
  },
  {
   "cell_type": "markdown",
   "metadata": {},
   "source": [
    "###### <a name=\"markdown45\"></a> Selectionando filas con slicing:\n",
    "[Indice Pandas](#markdown1000)"
   ]
  },
  {
   "cell_type": "code",
   "execution_count": 16,
   "metadata": {},
   "outputs": [
    {
     "data": {
      "text/html": [
       "<div>\n",
       "<style scoped>\n",
       "    .dataframe tbody tr th:only-of-type {\n",
       "        vertical-align: middle;\n",
       "    }\n",
       "\n",
       "    .dataframe tbody tr th {\n",
       "        vertical-align: top;\n",
       "    }\n",
       "\n",
       "    .dataframe thead th {\n",
       "        text-align: right;\n",
       "    }\n",
       "</style>\n",
       "<table border=\"1\" class=\"dataframe\">\n",
       "  <thead>\n",
       "    <tr style=\"text-align: right;\">\n",
       "      <th></th>\n",
       "      <th>BookName</th>\n",
       "      <th>BookAuthor</th>\n",
       "      <th>User Rating</th>\n",
       "      <th>Reviews</th>\n",
       "      <th>Price</th>\n",
       "      <th>Year</th>\n",
       "      <th>Genre</th>\n",
       "    </tr>\n",
       "  </thead>\n",
       "  <tbody>\n",
       "    <tr>\n",
       "      <th>0</th>\n",
       "      <td>10-Day Green Smoothie Cleanse</td>\n",
       "      <td>JJ Smith</td>\n",
       "      <td>4.7</td>\n",
       "      <td>17350</td>\n",
       "      <td>8</td>\n",
       "      <td>2016</td>\n",
       "      <td>Non Fiction</td>\n",
       "    </tr>\n",
       "    <tr>\n",
       "      <th>1</th>\n",
       "      <td>11/22/63: A Novel</td>\n",
       "      <td>Stephen King</td>\n",
       "      <td>4.6</td>\n",
       "      <td>2052</td>\n",
       "      <td>22</td>\n",
       "      <td>2011</td>\n",
       "      <td>Fiction</td>\n",
       "    </tr>\n",
       "    <tr>\n",
       "      <th>2</th>\n",
       "      <td>12 Rules for Life: An Antidote to Chaos</td>\n",
       "      <td>Jordan B. Peterson</td>\n",
       "      <td>4.7</td>\n",
       "      <td>18979</td>\n",
       "      <td>15</td>\n",
       "      <td>2018</td>\n",
       "      <td>Non Fiction</td>\n",
       "    </tr>\n",
       "    <tr>\n",
       "      <th>3</th>\n",
       "      <td>1984 (Signet Classics)</td>\n",
       "      <td>George Orwell</td>\n",
       "      <td>4.7</td>\n",
       "      <td>21424</td>\n",
       "      <td>6</td>\n",
       "      <td>2017</td>\n",
       "      <td>Fiction</td>\n",
       "    </tr>\n",
       "  </tbody>\n",
       "</table>\n",
       "</div>"
      ],
      "text/plain": [
       "                                  BookName          BookAuthor  User Rating  \\\n",
       "0            10-Day Green Smoothie Cleanse            JJ Smith          4.7   \n",
       "1                        11/22/63: A Novel        Stephen King          4.6   \n",
       "2  12 Rules for Life: An Antidote to Chaos  Jordan B. Peterson          4.7   \n",
       "3                   1984 (Signet Classics)       George Orwell          4.7   \n",
       "\n",
       "   Reviews  Price  Year        Genre  \n",
       "0    17350      8  2016  Non Fiction  \n",
       "1     2052     22  2011      Fiction  \n",
       "2    18979     15  2018  Non Fiction  \n",
       "3    21424      6  2017      Fiction  "
      ]
     },
     "execution_count": 16,
     "metadata": {},
     "output_type": "execute_result"
    }
   ],
   "source": [
    "df_books[0:4]"
   ]
  },
  {
   "cell_type": "markdown",
   "metadata": {},
   "source": [
    "### <a name=\"markdown46\"></a> Selectionando columnas con una lista:\n",
    "[Indice Pandas](#markdown1000)"
   ]
  },
  {
   "cell_type": "code",
   "execution_count": 20,
   "metadata": {},
   "outputs": [
    {
     "data": {
      "text/html": [
       "<div>\n",
       "<style scoped>\n",
       "    .dataframe tbody tr th:only-of-type {\n",
       "        vertical-align: middle;\n",
       "    }\n",
       "\n",
       "    .dataframe tbody tr th {\n",
       "        vertical-align: top;\n",
       "    }\n",
       "\n",
       "    .dataframe thead th {\n",
       "        text-align: right;\n",
       "    }\n",
       "</style>\n",
       "<table border=\"1\" class=\"dataframe\">\n",
       "  <thead>\n",
       "    <tr style=\"text-align: right;\">\n",
       "      <th></th>\n",
       "      <th>BookName</th>\n",
       "      <th>BookAuthor</th>\n",
       "      <th>Price</th>\n",
       "      <th>Year</th>\n",
       "    </tr>\n",
       "  </thead>\n",
       "  <tbody>\n",
       "    <tr>\n",
       "      <th>0</th>\n",
       "      <td>10-Day Green Smoothie Cleanse</td>\n",
       "      <td>JJ Smith</td>\n",
       "      <td>8</td>\n",
       "      <td>2016</td>\n",
       "    </tr>\n",
       "    <tr>\n",
       "      <th>1</th>\n",
       "      <td>11/22/63: A Novel</td>\n",
       "      <td>Stephen King</td>\n",
       "      <td>22</td>\n",
       "      <td>2011</td>\n",
       "    </tr>\n",
       "    <tr>\n",
       "      <th>2</th>\n",
       "      <td>12 Rules for Life: An Antidote to Chaos</td>\n",
       "      <td>Jordan B. Peterson</td>\n",
       "      <td>15</td>\n",
       "      <td>2018</td>\n",
       "    </tr>\n",
       "    <tr>\n",
       "      <th>3</th>\n",
       "      <td>1984 (Signet Classics)</td>\n",
       "      <td>George Orwell</td>\n",
       "      <td>6</td>\n",
       "      <td>2017</td>\n",
       "    </tr>\n",
       "    <tr>\n",
       "      <th>4</th>\n",
       "      <td>5,000 Awesome Facts (About Everything!) (Natio...</td>\n",
       "      <td>National Geographic Kids</td>\n",
       "      <td>12</td>\n",
       "      <td>2019</td>\n",
       "    </tr>\n",
       "    <tr>\n",
       "      <th>...</th>\n",
       "      <td>...</td>\n",
       "      <td>...</td>\n",
       "      <td>...</td>\n",
       "      <td>...</td>\n",
       "    </tr>\n",
       "    <tr>\n",
       "      <th>545</th>\n",
       "      <td>Wrecking Ball (Diary of a Wimpy Kid Book 14)</td>\n",
       "      <td>Jeff Kinney</td>\n",
       "      <td>8</td>\n",
       "      <td>2019</td>\n",
       "    </tr>\n",
       "    <tr>\n",
       "      <th>546</th>\n",
       "      <td>You Are a Badass: How to Stop Doubting Your Gr...</td>\n",
       "      <td>Jen Sincero</td>\n",
       "      <td>8</td>\n",
       "      <td>2016</td>\n",
       "    </tr>\n",
       "    <tr>\n",
       "      <th>547</th>\n",
       "      <td>You Are a Badass: How to Stop Doubting Your Gr...</td>\n",
       "      <td>Jen Sincero</td>\n",
       "      <td>8</td>\n",
       "      <td>2017</td>\n",
       "    </tr>\n",
       "    <tr>\n",
       "      <th>548</th>\n",
       "      <td>You Are a Badass: How to Stop Doubting Your Gr...</td>\n",
       "      <td>Jen Sincero</td>\n",
       "      <td>8</td>\n",
       "      <td>2018</td>\n",
       "    </tr>\n",
       "    <tr>\n",
       "      <th>549</th>\n",
       "      <td>You Are a Badass: How to Stop Doubting Your Gr...</td>\n",
       "      <td>Jen Sincero</td>\n",
       "      <td>8</td>\n",
       "      <td>2019</td>\n",
       "    </tr>\n",
       "  </tbody>\n",
       "</table>\n",
       "<p>550 rows × 4 columns</p>\n",
       "</div>"
      ],
      "text/plain": [
       "                                              BookName  \\\n",
       "0                        10-Day Green Smoothie Cleanse   \n",
       "1                                    11/22/63: A Novel   \n",
       "2              12 Rules for Life: An Antidote to Chaos   \n",
       "3                               1984 (Signet Classics)   \n",
       "4    5,000 Awesome Facts (About Everything!) (Natio...   \n",
       "..                                                 ...   \n",
       "545       Wrecking Ball (Diary of a Wimpy Kid Book 14)   \n",
       "546  You Are a Badass: How to Stop Doubting Your Gr...   \n",
       "547  You Are a Badass: How to Stop Doubting Your Gr...   \n",
       "548  You Are a Badass: How to Stop Doubting Your Gr...   \n",
       "549  You Are a Badass: How to Stop Doubting Your Gr...   \n",
       "\n",
       "                   BookAuthor  Price  Year  \n",
       "0                    JJ Smith      8  2016  \n",
       "1                Stephen King     22  2011  \n",
       "2          Jordan B. Peterson     15  2018  \n",
       "3               George Orwell      6  2017  \n",
       "4    National Geographic Kids     12  2019  \n",
       "..                        ...    ...   ...  \n",
       "545               Jeff Kinney      8  2019  \n",
       "546               Jen Sincero      8  2016  \n",
       "547               Jen Sincero      8  2017  \n",
       "548               Jen Sincero      8  2018  \n",
       "549               Jen Sincero      8  2019  \n",
       "\n",
       "[550 rows x 4 columns]"
      ]
     },
     "execution_count": 20,
     "metadata": {},
     "output_type": "execute_result"
    }
   ],
   "source": [
    "df_books[['BookName', 'BookAuthor', 'Price', 'Year']]"
   ]
  },
  {
   "cell_type": "markdown",
   "metadata": {},
   "source": [
    "### <a name=\"markdown47\"></a> loc:\n",
    "[Indice Pandas](#markdown1000)\n",
    "```python\n",
    "df.loc[row_indexer, column_indexer]\n",
    "```\n",
    "* **row_indexer:** Especifica las etiquetas o condiciones booleanas para las filas que se desean seleccionar. Puede ser un solo valor, una lista, un array NumPy booleano o una expresión booleana.\n",
    "* **column_indexer:** Especifica las etiquetas o condiciones booleanas para las columnas que se desean seleccionar. Puede ser un solo valor, una lista, un array NumPy booleano o una expresión booleana."
   ]
  },
  {
   "cell_type": "code",
   "execution_count": 22,
   "metadata": {},
   "outputs": [
    {
     "data": {
      "text/plain": [
       "BookName       12 Rules for Life: An Antidote to Chaos\n",
       "BookAuthor                          Jordan B. Peterson\n",
       "User Rating                                        4.7\n",
       "Reviews                                          18979\n",
       "Price                                               15\n",
       "Year                                              2018\n",
       "Genre                                      Non Fiction\n",
       "Name: 2, dtype: object"
      ]
     },
     "execution_count": 22,
     "metadata": {},
     "output_type": "execute_result"
    }
   ],
   "source": [
    "df_books.loc[2]  # Accede a la fila con etiqueta 2"
   ]
  },
  {
   "cell_type": "code",
   "execution_count": 24,
   "metadata": {},
   "outputs": [
    {
     "data": {
      "text/plain": [
       "Index(['BookName', 'BookAuthor', 'User Rating', 'Reviews', 'Price', 'Year',\n",
       "       'Genre'],\n",
       "      dtype='object')"
      ]
     },
     "execution_count": 24,
     "metadata": {},
     "output_type": "execute_result"
    }
   ],
   "source": [
    "df_books.columns"
   ]
  },
  {
   "cell_type": "code",
   "execution_count": 25,
   "metadata": {},
   "outputs": [
    {
     "data": {
      "text/html": [
       "<div>\n",
       "<style scoped>\n",
       "    .dataframe tbody tr th:only-of-type {\n",
       "        vertical-align: middle;\n",
       "    }\n",
       "\n",
       "    .dataframe tbody tr th {\n",
       "        vertical-align: top;\n",
       "    }\n",
       "\n",
       "    .dataframe thead th {\n",
       "        text-align: right;\n",
       "    }\n",
       "</style>\n",
       "<table border=\"1\" class=\"dataframe\">\n",
       "  <thead>\n",
       "    <tr style=\"text-align: right;\">\n",
       "      <th></th>\n",
       "      <th>User Rating</th>\n",
       "      <th>Reviews</th>\n",
       "      <th>Price</th>\n",
       "      <th>Year</th>\n",
       "    </tr>\n",
       "  </thead>\n",
       "  <tbody>\n",
       "    <tr>\n",
       "      <th>2</th>\n",
       "      <td>4.7</td>\n",
       "      <td>18979</td>\n",
       "      <td>15</td>\n",
       "      <td>2018</td>\n",
       "    </tr>\n",
       "    <tr>\n",
       "      <th>3</th>\n",
       "      <td>4.7</td>\n",
       "      <td>21424</td>\n",
       "      <td>6</td>\n",
       "      <td>2017</td>\n",
       "    </tr>\n",
       "    <tr>\n",
       "      <th>4</th>\n",
       "      <td>4.8</td>\n",
       "      <td>7665</td>\n",
       "      <td>12</td>\n",
       "      <td>2019</td>\n",
       "    </tr>\n",
       "    <tr>\n",
       "      <th>5</th>\n",
       "      <td>4.4</td>\n",
       "      <td>12643</td>\n",
       "      <td>11</td>\n",
       "      <td>2011</td>\n",
       "    </tr>\n",
       "  </tbody>\n",
       "</table>\n",
       "</div>"
      ],
      "text/plain": [
       "   User Rating  Reviews  Price  Year\n",
       "2          4.7    18979     15  2018\n",
       "3          4.7    21424      6  2017\n",
       "4          4.8     7665     12  2019\n",
       "5          4.4    12643     11  2011"
      ]
     },
     "execution_count": 25,
     "metadata": {},
     "output_type": "execute_result"
    }
   ],
   "source": [
    "df_books.loc[2:5, 'User Rating':'Year']  # Accede a las filas 2 a 5 y las columnas 'User Rating' a 'Year'\n"
   ]
  },
  {
   "cell_type": "code",
   "execution_count": 29,
   "metadata": {},
   "outputs": [
    {
     "data": {
      "text/html": [
       "<div>\n",
       "<style scoped>\n",
       "    .dataframe tbody tr th:only-of-type {\n",
       "        vertical-align: middle;\n",
       "    }\n",
       "\n",
       "    .dataframe tbody tr th {\n",
       "        vertical-align: top;\n",
       "    }\n",
       "\n",
       "    .dataframe thead th {\n",
       "        text-align: right;\n",
       "    }\n",
       "</style>\n",
       "<table border=\"1\" class=\"dataframe\">\n",
       "  <thead>\n",
       "    <tr style=\"text-align: right;\">\n",
       "      <th></th>\n",
       "      <th>BookName</th>\n",
       "      <th>BookAuthor</th>\n",
       "      <th>User Rating</th>\n",
       "      <th>Reviews</th>\n",
       "      <th>Price</th>\n",
       "      <th>Year</th>\n",
       "      <th>Genre</th>\n",
       "    </tr>\n",
       "  </thead>\n",
       "  <tbody>\n",
       "    <tr>\n",
       "      <th>42</th>\n",
       "      <td>Cabin Fever (Diary of a Wimpy Kid, Book 6)</td>\n",
       "      <td>Jeff Kinney</td>\n",
       "      <td>4.8</td>\n",
       "      <td>4505</td>\n",
       "      <td>0</td>\n",
       "      <td>2011</td>\n",
       "      <td>Fiction</td>\n",
       "    </tr>\n",
       "    <tr>\n",
       "      <th>71</th>\n",
       "      <td>Diary of a Wimpy Kid: Hard Luck, Book 8</td>\n",
       "      <td>Jeff Kinney</td>\n",
       "      <td>4.8</td>\n",
       "      <td>6812</td>\n",
       "      <td>0</td>\n",
       "      <td>2013</td>\n",
       "      <td>Fiction</td>\n",
       "    </tr>\n",
       "    <tr>\n",
       "      <th>116</th>\n",
       "      <td>Frozen (Little Golden Book)</td>\n",
       "      <td>RH Disney</td>\n",
       "      <td>4.7</td>\n",
       "      <td>3642</td>\n",
       "      <td>0</td>\n",
       "      <td>2014</td>\n",
       "      <td>Fiction</td>\n",
       "    </tr>\n",
       "    <tr>\n",
       "      <th>193</th>\n",
       "      <td>JOURNEY TO THE ICE P</td>\n",
       "      <td>RH Disney</td>\n",
       "      <td>4.6</td>\n",
       "      <td>978</td>\n",
       "      <td>0</td>\n",
       "      <td>2014</td>\n",
       "      <td>Fiction</td>\n",
       "    </tr>\n",
       "    <tr>\n",
       "      <th>219</th>\n",
       "      <td>Little Blue Truck</td>\n",
       "      <td>Alice Schertle</td>\n",
       "      <td>4.9</td>\n",
       "      <td>1884</td>\n",
       "      <td>0</td>\n",
       "      <td>2014</td>\n",
       "      <td>Fiction</td>\n",
       "    </tr>\n",
       "    <tr>\n",
       "      <th>358</th>\n",
       "      <td>The Constitution of the United States</td>\n",
       "      <td>Delegates of the Constitutional</td>\n",
       "      <td>4.8</td>\n",
       "      <td>2774</td>\n",
       "      <td>0</td>\n",
       "      <td>2016</td>\n",
       "      <td>Non Fiction</td>\n",
       "    </tr>\n",
       "    <tr>\n",
       "      <th>381</th>\n",
       "      <td>The Getaway</td>\n",
       "      <td>Jeff Kinney</td>\n",
       "      <td>4.8</td>\n",
       "      <td>5836</td>\n",
       "      <td>0</td>\n",
       "      <td>2017</td>\n",
       "      <td>Fiction</td>\n",
       "    </tr>\n",
       "    <tr>\n",
       "      <th>461</th>\n",
       "      <td>The Short Second Life of Bree Tanner: An Eclip...</td>\n",
       "      <td>Stephenie Meyer</td>\n",
       "      <td>4.6</td>\n",
       "      <td>2122</td>\n",
       "      <td>0</td>\n",
       "      <td>2010</td>\n",
       "      <td>Fiction</td>\n",
       "    </tr>\n",
       "    <tr>\n",
       "      <th>505</th>\n",
       "      <td>To Kill a Mockingbird</td>\n",
       "      <td>Harper Lee</td>\n",
       "      <td>4.8</td>\n",
       "      <td>26234</td>\n",
       "      <td>0</td>\n",
       "      <td>2013</td>\n",
       "      <td>Fiction</td>\n",
       "    </tr>\n",
       "    <tr>\n",
       "      <th>506</th>\n",
       "      <td>To Kill a Mockingbird</td>\n",
       "      <td>Harper Lee</td>\n",
       "      <td>4.8</td>\n",
       "      <td>26234</td>\n",
       "      <td>0</td>\n",
       "      <td>2014</td>\n",
       "      <td>Fiction</td>\n",
       "    </tr>\n",
       "    <tr>\n",
       "      <th>507</th>\n",
       "      <td>To Kill a Mockingbird</td>\n",
       "      <td>Harper Lee</td>\n",
       "      <td>4.8</td>\n",
       "      <td>26234</td>\n",
       "      <td>0</td>\n",
       "      <td>2015</td>\n",
       "      <td>Fiction</td>\n",
       "    </tr>\n",
       "    <tr>\n",
       "      <th>508</th>\n",
       "      <td>To Kill a Mockingbird</td>\n",
       "      <td>Harper Lee</td>\n",
       "      <td>4.8</td>\n",
       "      <td>26234</td>\n",
       "      <td>0</td>\n",
       "      <td>2016</td>\n",
       "      <td>Fiction</td>\n",
       "    </tr>\n",
       "  </tbody>\n",
       "</table>\n",
       "</div>"
      ],
      "text/plain": [
       "                                              BookName  \\\n",
       "42          Cabin Fever (Diary of a Wimpy Kid, Book 6)   \n",
       "71             Diary of a Wimpy Kid: Hard Luck, Book 8   \n",
       "116                        Frozen (Little Golden Book)   \n",
       "193                               JOURNEY TO THE ICE P   \n",
       "219                                  Little Blue Truck   \n",
       "358              The Constitution of the United States   \n",
       "381                                        The Getaway   \n",
       "461  The Short Second Life of Bree Tanner: An Eclip...   \n",
       "505                              To Kill a Mockingbird   \n",
       "506                              To Kill a Mockingbird   \n",
       "507                              To Kill a Mockingbird   \n",
       "508                              To Kill a Mockingbird   \n",
       "\n",
       "                           BookAuthor  User Rating  Reviews  Price  Year  \\\n",
       "42                        Jeff Kinney          4.8     4505      0  2011   \n",
       "71                        Jeff Kinney          4.8     6812      0  2013   \n",
       "116                         RH Disney          4.7     3642      0  2014   \n",
       "193                         RH Disney          4.6      978      0  2014   \n",
       "219                    Alice Schertle          4.9     1884      0  2014   \n",
       "358  Delegates of the Constitutional\n",
       "          4.8     2774      0  2016   \n",
       "381                       Jeff Kinney          4.8     5836      0  2017   \n",
       "461                   Stephenie Meyer          4.6     2122      0  2010   \n",
       "505                        Harper Lee          4.8    26234      0  2013   \n",
       "506                        Harper Lee          4.8    26234      0  2014   \n",
       "507                        Harper Lee          4.8    26234      0  2015   \n",
       "508                        Harper Lee          4.8    26234      0  2016   \n",
       "\n",
       "           Genre  \n",
       "42       Fiction  \n",
       "71       Fiction  \n",
       "116      Fiction  \n",
       "193      Fiction  \n",
       "219      Fiction  \n",
       "358  Non Fiction  \n",
       "381      Fiction  \n",
       "461      Fiction  \n",
       "505      Fiction  \n",
       "506      Fiction  \n",
       "507      Fiction  \n",
       "508      Fiction  "
      ]
     },
     "execution_count": 29,
     "metadata": {},
     "output_type": "execute_result"
    }
   ],
   "source": [
    "df_books.loc[df_books['Price'] > 5]  # Filtra las filas donde el valor en 'Price' es mayor a 5"
   ]
  },
  {
   "cell_type": "code",
   "execution_count": 37,
   "metadata": {},
   "outputs": [
    {
     "data": {
      "text/plain": [
       "0      False\n",
       "1      False\n",
       "2      False\n",
       "3      False\n",
       "4      False\n",
       "       ...  \n",
       "545    False\n",
       "546    False\n",
       "547    False\n",
       "548    False\n",
       "549    False\n",
       "Name: Price, Length: 550, dtype: bool"
      ]
     },
     "metadata": {},
     "output_type": "display_data"
    }
   ],
   "source": [
    "df_01 = df_books.loc[df_books['Price'] < 1, 'Year'] = 2222  # Asigna el valor 2222 a 'Year' en las filas que cumplen la condición\n",
    "display(df_books['Price']<1)"
   ]
  },
  {
   "cell_type": "code",
   "execution_count": 38,
   "metadata": {},
   "outputs": [
    {
     "data": {
      "text/html": [
       "<div>\n",
       "<style scoped>\n",
       "    .dataframe tbody tr th:only-of-type {\n",
       "        vertical-align: middle;\n",
       "    }\n",
       "\n",
       "    .dataframe tbody tr th {\n",
       "        vertical-align: top;\n",
       "    }\n",
       "\n",
       "    .dataframe thead th {\n",
       "        text-align: right;\n",
       "    }\n",
       "</style>\n",
       "<table border=\"1\" class=\"dataframe\">\n",
       "  <thead>\n",
       "    <tr style=\"text-align: right;\">\n",
       "      <th></th>\n",
       "      <th>Reviews</th>\n",
       "    </tr>\n",
       "  </thead>\n",
       "  <tbody>\n",
       "    <tr>\n",
       "      <th>0</th>\n",
       "      <td>-17350</td>\n",
       "    </tr>\n",
       "    <tr>\n",
       "      <th>1</th>\n",
       "      <td>-2052</td>\n",
       "    </tr>\n",
       "    <tr>\n",
       "      <th>2</th>\n",
       "      <td>-18979</td>\n",
       "    </tr>\n",
       "    <tr>\n",
       "      <th>3</th>\n",
       "      <td>-21424</td>\n",
       "    </tr>\n",
       "    <tr>\n",
       "      <th>4</th>\n",
       "      <td>-7665</td>\n",
       "    </tr>\n",
       "    <tr>\n",
       "      <th>...</th>\n",
       "      <td>...</td>\n",
       "    </tr>\n",
       "    <tr>\n",
       "      <th>545</th>\n",
       "      <td>-9413</td>\n",
       "    </tr>\n",
       "    <tr>\n",
       "      <th>546</th>\n",
       "      <td>-14331</td>\n",
       "    </tr>\n",
       "    <tr>\n",
       "      <th>547</th>\n",
       "      <td>-14331</td>\n",
       "    </tr>\n",
       "    <tr>\n",
       "      <th>548</th>\n",
       "      <td>-14331</td>\n",
       "    </tr>\n",
       "    <tr>\n",
       "      <th>549</th>\n",
       "      <td>-14331</td>\n",
       "    </tr>\n",
       "  </tbody>\n",
       "</table>\n",
       "<p>550 rows × 1 columns</p>\n",
       "</div>"
      ],
      "text/plain": [
       "     Reviews\n",
       "0     -17350\n",
       "1      -2052\n",
       "2     -18979\n",
       "3     -21424\n",
       "4      -7665\n",
       "..       ...\n",
       "545    -9413\n",
       "546   -14331\n",
       "547   -14331\n",
       "548   -14331\n",
       "549   -14331\n",
       "\n",
       "[550 rows x 1 columns]"
      ]
     },
     "execution_count": 38,
     "metadata": {},
     "output_type": "execute_result"
    }
   ],
   "source": [
    "df_books.loc[:, ['Reviews']] * -1 #multiplica por -1 todos los valores de la columna Reviews"
   ]
  },
  {
   "cell_type": "code",
   "execution_count": 44,
   "metadata": {},
   "outputs": [
    {
     "data": {
      "text/html": [
       "<div>\n",
       "<style scoped>\n",
       "    .dataframe tbody tr th:only-of-type {\n",
       "        vertical-align: middle;\n",
       "    }\n",
       "\n",
       "    .dataframe tbody tr th {\n",
       "        vertical-align: top;\n",
       "    }\n",
       "\n",
       "    .dataframe thead th {\n",
       "        text-align: right;\n",
       "    }\n",
       "</style>\n",
       "<table border=\"1\" class=\"dataframe\">\n",
       "  <thead>\n",
       "    <tr style=\"text-align: right;\">\n",
       "      <th></th>\n",
       "      <th>BookAuthor</th>\n",
       "    </tr>\n",
       "  </thead>\n",
       "  <tbody>\n",
       "    <tr>\n",
       "      <th>0</th>\n",
       "      <td>True</td>\n",
       "    </tr>\n",
       "    <tr>\n",
       "      <th>1</th>\n",
       "      <td>False</td>\n",
       "    </tr>\n",
       "    <tr>\n",
       "      <th>2</th>\n",
       "      <td>False</td>\n",
       "    </tr>\n",
       "    <tr>\n",
       "      <th>3</th>\n",
       "      <td>False</td>\n",
       "    </tr>\n",
       "    <tr>\n",
       "      <th>4</th>\n",
       "      <td>False</td>\n",
       "    </tr>\n",
       "    <tr>\n",
       "      <th>...</th>\n",
       "      <td>...</td>\n",
       "    </tr>\n",
       "    <tr>\n",
       "      <th>545</th>\n",
       "      <td>False</td>\n",
       "    </tr>\n",
       "    <tr>\n",
       "      <th>546</th>\n",
       "      <td>False</td>\n",
       "    </tr>\n",
       "    <tr>\n",
       "      <th>547</th>\n",
       "      <td>False</td>\n",
       "    </tr>\n",
       "    <tr>\n",
       "      <th>548</th>\n",
       "      <td>False</td>\n",
       "    </tr>\n",
       "    <tr>\n",
       "      <th>549</th>\n",
       "      <td>False</td>\n",
       "    </tr>\n",
       "  </tbody>\n",
       "</table>\n",
       "<p>550 rows × 1 columns</p>\n",
       "</div>"
      ],
      "text/plain": [
       "     BookAuthor\n",
       "0          True\n",
       "1         False\n",
       "2         False\n",
       "3         False\n",
       "4         False\n",
       "..          ...\n",
       "545       False\n",
       "546       False\n",
       "547       False\n",
       "548       False\n",
       "549       False\n",
       "\n",
       "[550 rows x 1 columns]"
      ]
     },
     "execution_count": 44,
     "metadata": {},
     "output_type": "execute_result"
    }
   ],
   "source": [
    "df_books.loc[:, ['BookAuthor']] == 'JJ Smith' #muestra la columna Author con True en los valores que cumplen la condicion y False para los que no la cumplen"
   ]
  },
  {
   "cell_type": "markdown",
   "metadata": {},
   "source": [
    "### <a name=\"markdown48\"></a> iloc():\n",
    "[Indice Pandas](#markdown1000)\n",
    "* La función iloc() en Pandas se utiliza para acceder y seleccionar datos en un DataFrame mediante índices enteros en lugar de etiquetas. Proporciona una forma de filtrar y manipular datos basándose en posiciones numéricas de filas y columnas."
   ]
  },
  {
   "cell_type": "code",
   "execution_count": 12,
   "metadata": {},
   "outputs": [
    {
     "data": {
      "text/html": [
       "<div>\n",
       "<style scoped>\n",
       "    .dataframe tbody tr th:only-of-type {\n",
       "        vertical-align: middle;\n",
       "    }\n",
       "\n",
       "    .dataframe tbody tr th {\n",
       "        vertical-align: top;\n",
       "    }\n",
       "\n",
       "    .dataframe thead th {\n",
       "        text-align: right;\n",
       "    }\n",
       "</style>\n",
       "<table border=\"1\" class=\"dataframe\">\n",
       "  <thead>\n",
       "    <tr style=\"text-align: right;\">\n",
       "      <th></th>\n",
       "      <th>Name</th>\n",
       "      <th>Author</th>\n",
       "      <th>User Rating</th>\n",
       "    </tr>\n",
       "  </thead>\n",
       "  <tbody>\n",
       "    <tr>\n",
       "      <th>0</th>\n",
       "      <td>10-Day Green Smoothie Cleanse</td>\n",
       "      <td>JJ Smith</td>\n",
       "      <td>4.7</td>\n",
       "    </tr>\n",
       "    <tr>\n",
       "      <th>1</th>\n",
       "      <td>11/22/63: A Novel</td>\n",
       "      <td>Stephen King</td>\n",
       "      <td>4.6</td>\n",
       "    </tr>\n",
       "    <tr>\n",
       "      <th>2</th>\n",
       "      <td>12 Rules for Life: An Antidote to Chaos</td>\n",
       "      <td>Jordan B. Peterson</td>\n",
       "      <td>4.7</td>\n",
       "    </tr>\n",
       "    <tr>\n",
       "      <th>3</th>\n",
       "      <td>1984 (Signet Classics)</td>\n",
       "      <td>George Orwell</td>\n",
       "      <td>4.7</td>\n",
       "    </tr>\n",
       "    <tr>\n",
       "      <th>4</th>\n",
       "      <td>5,000 Awesome Facts (About Everything!) (Natio...</td>\n",
       "      <td>National Geographic Kids</td>\n",
       "      <td>4.8</td>\n",
       "    </tr>\n",
       "    <tr>\n",
       "      <th>...</th>\n",
       "      <td>...</td>\n",
       "      <td>...</td>\n",
       "      <td>...</td>\n",
       "    </tr>\n",
       "    <tr>\n",
       "      <th>545</th>\n",
       "      <td>Wrecking Ball (Diary of a Wimpy Kid Book 14)</td>\n",
       "      <td>Jeff Kinney</td>\n",
       "      <td>4.9</td>\n",
       "    </tr>\n",
       "    <tr>\n",
       "      <th>546</th>\n",
       "      <td>You Are a Badass: How to Stop Doubting Your Gr...</td>\n",
       "      <td>Jen Sincero</td>\n",
       "      <td>4.7</td>\n",
       "    </tr>\n",
       "    <tr>\n",
       "      <th>547</th>\n",
       "      <td>You Are a Badass: How to Stop Doubting Your Gr...</td>\n",
       "      <td>Jen Sincero</td>\n",
       "      <td>4.7</td>\n",
       "    </tr>\n",
       "    <tr>\n",
       "      <th>548</th>\n",
       "      <td>You Are a Badass: How to Stop Doubting Your Gr...</td>\n",
       "      <td>Jen Sincero</td>\n",
       "      <td>4.7</td>\n",
       "    </tr>\n",
       "    <tr>\n",
       "      <th>549</th>\n",
       "      <td>You Are a Badass: How to Stop Doubting Your Gr...</td>\n",
       "      <td>Jen Sincero</td>\n",
       "      <td>4.7</td>\n",
       "    </tr>\n",
       "  </tbody>\n",
       "</table>\n",
       "<p>550 rows × 3 columns</p>\n",
       "</div>"
      ],
      "text/plain": [
       "                                                  Name  \\\n",
       "0                        10-Day Green Smoothie Cleanse   \n",
       "1                                    11/22/63: A Novel   \n",
       "2              12 Rules for Life: An Antidote to Chaos   \n",
       "3                               1984 (Signet Classics)   \n",
       "4    5,000 Awesome Facts (About Everything!) (Natio...   \n",
       "..                                                 ...   \n",
       "545       Wrecking Ball (Diary of a Wimpy Kid Book 14)   \n",
       "546  You Are a Badass: How to Stop Doubting Your Gr...   \n",
       "547  You Are a Badass: How to Stop Doubting Your Gr...   \n",
       "548  You Are a Badass: How to Stop Doubting Your Gr...   \n",
       "549  You Are a Badass: How to Stop Doubting Your Gr...   \n",
       "\n",
       "                       Author  User Rating  \n",
       "0                    JJ Smith          4.7  \n",
       "1                Stephen King          4.6  \n",
       "2          Jordan B. Peterson          4.7  \n",
       "3               George Orwell          4.7  \n",
       "4    National Geographic Kids          4.8  \n",
       "..                        ...          ...  \n",
       "545               Jeff Kinney          4.9  \n",
       "546               Jen Sincero          4.7  \n",
       "547               Jen Sincero          4.7  \n",
       "548               Jen Sincero          4.7  \n",
       "549               Jen Sincero          4.7  \n",
       "\n",
       "[550 rows x 3 columns]"
      ]
     },
     "execution_count": 12,
     "metadata": {},
     "output_type": "execute_result"
    }
   ],
   "source": [
    "df_books.iloc[:, 0:3] # quiero todas las filas de las columnas desde 0 a 3"
   ]
  },
  {
   "cell_type": "code",
   "execution_count": 13,
   "metadata": {},
   "outputs": [
    {
     "data": {
      "text/plain": [
       "-2052"
      ]
     },
     "execution_count": 13,
     "metadata": {},
     "output_type": "execute_result"
    }
   ],
   "source": [
    "df_books.iloc[1,3]*-1 # multiplica por -1 el valor en intersección fila índice 1 columna índice 3"
   ]
  },
  {
   "cell_type": "code",
   "execution_count": 14,
   "metadata": {},
   "outputs": [
    {
     "data": {
      "text/html": [
       "<div>\n",
       "<style scoped>\n",
       "    .dataframe tbody tr th:only-of-type {\n",
       "        vertical-align: middle;\n",
       "    }\n",
       "\n",
       "    .dataframe tbody tr th {\n",
       "        vertical-align: top;\n",
       "    }\n",
       "\n",
       "    .dataframe thead th {\n",
       "        text-align: right;\n",
       "    }\n",
       "</style>\n",
       "<table border=\"1\" class=\"dataframe\">\n",
       "  <thead>\n",
       "    <tr style=\"text-align: right;\">\n",
       "      <th></th>\n",
       "      <th>User Rating</th>\n",
       "      <th>Reviews</th>\n",
       "      <th>Price</th>\n",
       "      <th>Year</th>\n",
       "      <th>Genre</th>\n",
       "    </tr>\n",
       "  </thead>\n",
       "  <tbody>\n",
       "    <tr>\n",
       "      <th>0</th>\n",
       "      <td>4.7</td>\n",
       "      <td>17350</td>\n",
       "      <td>8</td>\n",
       "      <td>2016</td>\n",
       "      <td>Non Fiction</td>\n",
       "    </tr>\n",
       "    <tr>\n",
       "      <th>1</th>\n",
       "      <td>4.6</td>\n",
       "      <td>2052</td>\n",
       "      <td>22</td>\n",
       "      <td>2011</td>\n",
       "      <td>Fiction</td>\n",
       "    </tr>\n",
       "  </tbody>\n",
       "</table>\n",
       "</div>"
      ],
      "text/plain": [
       "   User Rating  Reviews  Price  Year        Genre\n",
       "0          4.7    17350      8  2016  Non Fiction\n",
       "1          4.6     2052     22  2011      Fiction"
      ]
     },
     "execution_count": 14,
     "metadata": {},
     "output_type": "execute_result"
    }
   ],
   "source": [
    "df_books.iloc[:2, 2:] # desde la fila desde el inicio al índice 2, y columna índice 2 al final"
   ]
  },
  {
   "cell_type": "code",
   "execution_count": 15,
   "metadata": {},
   "outputs": [
    {
     "data": {
      "text/plain": [
       "Name           12 Rules for Life: An Antidote to Chaos\n",
       "Author                              Jordan B. Peterson\n",
       "User Rating                                        4.7\n",
       "Reviews                                          18979\n",
       "Price                                               15\n",
       "Year                                              2018\n",
       "Genre                                      Non Fiction\n",
       "Name: 2, dtype: object"
      ]
     },
     "execution_count": 15,
     "metadata": {},
     "output_type": "execute_result"
    }
   ],
   "source": [
    "df_books.iloc[2]  # Accede a la tercera fila del DataFrame"
   ]
  },
  {
   "cell_type": "code",
   "execution_count": 16,
   "metadata": {},
   "outputs": [
    {
     "data": {
      "text/html": [
       "<div>\n",
       "<style scoped>\n",
       "    .dataframe tbody tr th:only-of-type {\n",
       "        vertical-align: middle;\n",
       "    }\n",
       "\n",
       "    .dataframe tbody tr th {\n",
       "        vertical-align: top;\n",
       "    }\n",
       "\n",
       "    .dataframe thead th {\n",
       "        text-align: right;\n",
       "    }\n",
       "</style>\n",
       "<table border=\"1\" class=\"dataframe\">\n",
       "  <thead>\n",
       "    <tr style=\"text-align: right;\">\n",
       "      <th></th>\n",
       "      <th>Name</th>\n",
       "      <th>Author</th>\n",
       "      <th>User Rating</th>\n",
       "    </tr>\n",
       "  </thead>\n",
       "  <tbody>\n",
       "    <tr>\n",
       "      <th>2</th>\n",
       "      <td>12 Rules for Life: An Antidote to Chaos</td>\n",
       "      <td>Jordan B. Peterson</td>\n",
       "      <td>4.7</td>\n",
       "    </tr>\n",
       "    <tr>\n",
       "      <th>3</th>\n",
       "      <td>1984 (Signet Classics)</td>\n",
       "      <td>George Orwell</td>\n",
       "      <td>4.7</td>\n",
       "    </tr>\n",
       "    <tr>\n",
       "      <th>4</th>\n",
       "      <td>5,000 Awesome Facts (About Everything!) (Natio...</td>\n",
       "      <td>National Geographic Kids</td>\n",
       "      <td>4.8</td>\n",
       "    </tr>\n",
       "  </tbody>\n",
       "</table>\n",
       "</div>"
      ],
      "text/plain": [
       "                                                Name  \\\n",
       "2            12 Rules for Life: An Antidote to Chaos   \n",
       "3                             1984 (Signet Classics)   \n",
       "4  5,000 Awesome Facts (About Everything!) (Natio...   \n",
       "\n",
       "                     Author  User Rating  \n",
       "2        Jordan B. Peterson          4.7  \n",
       "3             George Orwell          4.7  \n",
       "4  National Geographic Kids          4.8  "
      ]
     },
     "execution_count": 16,
     "metadata": {},
     "output_type": "execute_result"
    }
   ],
   "source": [
    "df_books.iloc[2:5, 0:3]  # Accede a las filas 3 a 5 y las columnas 1 a 3 del DataFrame\n"
   ]
  },
  {
   "cell_type": "code",
   "execution_count": 17,
   "metadata": {},
   "outputs": [
    {
     "data": {
      "text/plain": [
       "18979"
      ]
     },
     "execution_count": 17,
     "metadata": {},
     "output_type": "execute_result"
    }
   ],
   "source": [
    "df_books.iloc[2, 3]  # Accede al elemento en la tercera fila y cuarta columna del DataFrame\n"
   ]
  },
  {
   "cell_type": "markdown",
   "metadata": {},
   "source": [
    "### <a name=\"markdown49\"></a> Eliminar columnas de un df:\n",
    "[Indice Pandas](#markdown1000)"
   ]
  },
  {
   "cell_type": "code",
   "execution_count": 18,
   "metadata": {},
   "outputs": [
    {
     "data": {
      "text/html": [
       "<div>\n",
       "<style scoped>\n",
       "    .dataframe tbody tr th:only-of-type {\n",
       "        vertical-align: middle;\n",
       "    }\n",
       "\n",
       "    .dataframe tbody tr th {\n",
       "        vertical-align: top;\n",
       "    }\n",
       "\n",
       "    .dataframe thead th {\n",
       "        text-align: right;\n",
       "    }\n",
       "</style>\n",
       "<table border=\"1\" class=\"dataframe\">\n",
       "  <thead>\n",
       "    <tr style=\"text-align: right;\">\n",
       "      <th></th>\n",
       "      <th>Name</th>\n",
       "      <th>Author</th>\n",
       "      <th>User Rating</th>\n",
       "      <th>Reviews</th>\n",
       "      <th>Price</th>\n",
       "      <th>Year</th>\n",
       "    </tr>\n",
       "  </thead>\n",
       "  <tbody>\n",
       "    <tr>\n",
       "      <th>0</th>\n",
       "      <td>10-Day Green Smoothie Cleanse</td>\n",
       "      <td>JJ Smith</td>\n",
       "      <td>4.7</td>\n",
       "      <td>17350</td>\n",
       "      <td>8</td>\n",
       "      <td>2016</td>\n",
       "    </tr>\n",
       "    <tr>\n",
       "      <th>1</th>\n",
       "      <td>11/22/63: A Novel</td>\n",
       "      <td>Stephen King</td>\n",
       "      <td>4.6</td>\n",
       "      <td>2052</td>\n",
       "      <td>22</td>\n",
       "      <td>2011</td>\n",
       "    </tr>\n",
       "    <tr>\n",
       "      <th>2</th>\n",
       "      <td>12 Rules for Life: An Antidote to Chaos</td>\n",
       "      <td>Jordan B. Peterson</td>\n",
       "      <td>4.7</td>\n",
       "      <td>18979</td>\n",
       "      <td>15</td>\n",
       "      <td>2018</td>\n",
       "    </tr>\n",
       "    <tr>\n",
       "      <th>3</th>\n",
       "      <td>1984 (Signet Classics)</td>\n",
       "      <td>George Orwell</td>\n",
       "      <td>4.7</td>\n",
       "      <td>21424</td>\n",
       "      <td>6</td>\n",
       "      <td>2017</td>\n",
       "    </tr>\n",
       "    <tr>\n",
       "      <th>4</th>\n",
       "      <td>5,000 Awesome Facts (About Everything!) (Natio...</td>\n",
       "      <td>National Geographic Kids</td>\n",
       "      <td>4.8</td>\n",
       "      <td>7665</td>\n",
       "      <td>12</td>\n",
       "      <td>2019</td>\n",
       "    </tr>\n",
       "    <tr>\n",
       "      <th>...</th>\n",
       "      <td>...</td>\n",
       "      <td>...</td>\n",
       "      <td>...</td>\n",
       "      <td>...</td>\n",
       "      <td>...</td>\n",
       "      <td>...</td>\n",
       "    </tr>\n",
       "    <tr>\n",
       "      <th>545</th>\n",
       "      <td>Wrecking Ball (Diary of a Wimpy Kid Book 14)</td>\n",
       "      <td>Jeff Kinney</td>\n",
       "      <td>4.9</td>\n",
       "      <td>9413</td>\n",
       "      <td>8</td>\n",
       "      <td>2019</td>\n",
       "    </tr>\n",
       "    <tr>\n",
       "      <th>546</th>\n",
       "      <td>You Are a Badass: How to Stop Doubting Your Gr...</td>\n",
       "      <td>Jen Sincero</td>\n",
       "      <td>4.7</td>\n",
       "      <td>14331</td>\n",
       "      <td>8</td>\n",
       "      <td>2016</td>\n",
       "    </tr>\n",
       "    <tr>\n",
       "      <th>547</th>\n",
       "      <td>You Are a Badass: How to Stop Doubting Your Gr...</td>\n",
       "      <td>Jen Sincero</td>\n",
       "      <td>4.7</td>\n",
       "      <td>14331</td>\n",
       "      <td>8</td>\n",
       "      <td>2017</td>\n",
       "    </tr>\n",
       "    <tr>\n",
       "      <th>548</th>\n",
       "      <td>You Are a Badass: How to Stop Doubting Your Gr...</td>\n",
       "      <td>Jen Sincero</td>\n",
       "      <td>4.7</td>\n",
       "      <td>14331</td>\n",
       "      <td>8</td>\n",
       "      <td>2018</td>\n",
       "    </tr>\n",
       "    <tr>\n",
       "      <th>549</th>\n",
       "      <td>You Are a Badass: How to Stop Doubting Your Gr...</td>\n",
       "      <td>Jen Sincero</td>\n",
       "      <td>4.7</td>\n",
       "      <td>14331</td>\n",
       "      <td>8</td>\n",
       "      <td>2019</td>\n",
       "    </tr>\n",
       "  </tbody>\n",
       "</table>\n",
       "<p>550 rows × 6 columns</p>\n",
       "</div>"
      ],
      "text/plain": [
       "                                                  Name  \\\n",
       "0                        10-Day Green Smoothie Cleanse   \n",
       "1                                    11/22/63: A Novel   \n",
       "2              12 Rules for Life: An Antidote to Chaos   \n",
       "3                               1984 (Signet Classics)   \n",
       "4    5,000 Awesome Facts (About Everything!) (Natio...   \n",
       "..                                                 ...   \n",
       "545       Wrecking Ball (Diary of a Wimpy Kid Book 14)   \n",
       "546  You Are a Badass: How to Stop Doubting Your Gr...   \n",
       "547  You Are a Badass: How to Stop Doubting Your Gr...   \n",
       "548  You Are a Badass: How to Stop Doubting Your Gr...   \n",
       "549  You Are a Badass: How to Stop Doubting Your Gr...   \n",
       "\n",
       "                       Author  User Rating  Reviews  Price  Year  \n",
       "0                    JJ Smith          4.7    17350      8  2016  \n",
       "1                Stephen King          4.6     2052     22  2011  \n",
       "2          Jordan B. Peterson          4.7    18979     15  2018  \n",
       "3               George Orwell          4.7    21424      6  2017  \n",
       "4    National Geographic Kids          4.8     7665     12  2019  \n",
       "..                        ...          ...      ...    ...   ...  \n",
       "545               Jeff Kinney          4.9     9413      8  2019  \n",
       "546               Jen Sincero          4.7    14331      8  2016  \n",
       "547               Jen Sincero          4.7    14331      8  2017  \n",
       "548               Jen Sincero          4.7    14331      8  2018  \n",
       "549               Jen Sincero          4.7    14331      8  2019  \n",
       "\n",
       "[550 rows x 6 columns]"
      ]
     },
     "execution_count": 18,
     "metadata": {},
     "output_type": "execute_result"
    }
   ],
   "source": [
    "df_books.drop('Genre', axis=1) \n",
    "'''\n",
    "axis=0 Filas, axis=1 Columnas, solo lo borra de la salida NO elemina el df original\n",
    "\n",
    "Para borrarlo directamente desde el df:\n",
    "df_books.drop('Genre', axis=1, inplace=True)\n",
    "\n",
    "Tambíen lo borra asociandolo nuevamente al data frame, ej:\n",
    "df_books = df_books.drop('Genre', axis=1)\n",
    "\n",
    "Otra forma de borrado directamente desde el df con features the Python:\n",
    "del def_books['Price']\n",
    "''' "
   ]
  },
  {
   "cell_type": "markdown",
   "metadata": {},
   "source": [
    "### <a name=\"markdown50\"></a> Eliminar filas de un df:\n",
    "[Indice Pandas](#markdown1000)"
   ]
  },
  {
   "cell_type": "code",
   "execution_count": null,
   "metadata": {},
   "outputs": [],
   "source": [
    "df_books.drop(0, axis=0) #borrado de la fila ínidce \"0\""
   ]
  },
  {
   "cell_type": "code",
   "execution_count": null,
   "metadata": {},
   "outputs": [],
   "source": [
    "df_books.drop([0,1,2], axis=0) #elimina las filas 0, 1 y 2 del dataFrame"
   ]
  },
  {
   "cell_type": "code",
   "execution_count": null,
   "metadata": {},
   "outputs": [],
   "source": [
    "df_books.drop(range(0,10), axis=0) #elimina las primeras 10 filas del dataFrame"
   ]
  },
  {
   "cell_type": "markdown",
   "metadata": {},
   "source": [
    "### <a name=\"markdown51\"></a> Agregar columnas a un df:\n",
    "[Indice Pandas](#markdown1000)"
   ]
  },
  {
   "cell_type": "code",
   "execution_count": 20,
   "metadata": {},
   "outputs": [
    {
     "data": {
      "text/html": [
       "<div>\n",
       "<style scoped>\n",
       "    .dataframe tbody tr th:only-of-type {\n",
       "        vertical-align: middle;\n",
       "    }\n",
       "\n",
       "    .dataframe tbody tr th {\n",
       "        vertical-align: top;\n",
       "    }\n",
       "\n",
       "    .dataframe thead th {\n",
       "        text-align: right;\n",
       "    }\n",
       "</style>\n",
       "<table border=\"1\" class=\"dataframe\">\n",
       "  <thead>\n",
       "    <tr style=\"text-align: right;\">\n",
       "      <th></th>\n",
       "      <th>Name</th>\n",
       "      <th>Author</th>\n",
       "      <th>User Rating</th>\n",
       "      <th>Reviews</th>\n",
       "      <th>Price</th>\n",
       "      <th>Year</th>\n",
       "      <th>Genre</th>\n",
       "      <th>Nueva_columna</th>\n",
       "    </tr>\n",
       "  </thead>\n",
       "  <tbody>\n",
       "    <tr>\n",
       "      <th>0</th>\n",
       "      <td>10-Day Green Smoothie Cleanse</td>\n",
       "      <td>JJ Smith</td>\n",
       "      <td>4.7</td>\n",
       "      <td>17350</td>\n",
       "      <td>8</td>\n",
       "      <td>2016</td>\n",
       "      <td>Non Fiction</td>\n",
       "      <td>NaN</td>\n",
       "    </tr>\n",
       "    <tr>\n",
       "      <th>1</th>\n",
       "      <td>11/22/63: A Novel</td>\n",
       "      <td>Stephen King</td>\n",
       "      <td>4.6</td>\n",
       "      <td>2052</td>\n",
       "      <td>22</td>\n",
       "      <td>2011</td>\n",
       "      <td>Fiction</td>\n",
       "      <td>NaN</td>\n",
       "    </tr>\n",
       "    <tr>\n",
       "      <th>2</th>\n",
       "      <td>12 Rules for Life: An Antidote to Chaos</td>\n",
       "      <td>Jordan B. Peterson</td>\n",
       "      <td>4.7</td>\n",
       "      <td>18979</td>\n",
       "      <td>15</td>\n",
       "      <td>2018</td>\n",
       "      <td>Non Fiction</td>\n",
       "      <td>NaN</td>\n",
       "    </tr>\n",
       "    <tr>\n",
       "      <th>3</th>\n",
       "      <td>1984 (Signet Classics)</td>\n",
       "      <td>George Orwell</td>\n",
       "      <td>4.7</td>\n",
       "      <td>21424</td>\n",
       "      <td>6</td>\n",
       "      <td>2017</td>\n",
       "      <td>Fiction</td>\n",
       "      <td>NaN</td>\n",
       "    </tr>\n",
       "    <tr>\n",
       "      <th>4</th>\n",
       "      <td>5,000 Awesome Facts (About Everything!) (Natio...</td>\n",
       "      <td>National Geographic Kids</td>\n",
       "      <td>4.8</td>\n",
       "      <td>7665</td>\n",
       "      <td>12</td>\n",
       "      <td>2019</td>\n",
       "      <td>Non Fiction</td>\n",
       "      <td>NaN</td>\n",
       "    </tr>\n",
       "    <tr>\n",
       "      <th>...</th>\n",
       "      <td>...</td>\n",
       "      <td>...</td>\n",
       "      <td>...</td>\n",
       "      <td>...</td>\n",
       "      <td>...</td>\n",
       "      <td>...</td>\n",
       "      <td>...</td>\n",
       "      <td>...</td>\n",
       "    </tr>\n",
       "    <tr>\n",
       "      <th>545</th>\n",
       "      <td>Wrecking Ball (Diary of a Wimpy Kid Book 14)</td>\n",
       "      <td>Jeff Kinney</td>\n",
       "      <td>4.9</td>\n",
       "      <td>9413</td>\n",
       "      <td>8</td>\n",
       "      <td>2019</td>\n",
       "      <td>Fiction</td>\n",
       "      <td>NaN</td>\n",
       "    </tr>\n",
       "    <tr>\n",
       "      <th>546</th>\n",
       "      <td>You Are a Badass: How to Stop Doubting Your Gr...</td>\n",
       "      <td>Jen Sincero</td>\n",
       "      <td>4.7</td>\n",
       "      <td>14331</td>\n",
       "      <td>8</td>\n",
       "      <td>2016</td>\n",
       "      <td>Non Fiction</td>\n",
       "      <td>NaN</td>\n",
       "    </tr>\n",
       "    <tr>\n",
       "      <th>547</th>\n",
       "      <td>You Are a Badass: How to Stop Doubting Your Gr...</td>\n",
       "      <td>Jen Sincero</td>\n",
       "      <td>4.7</td>\n",
       "      <td>14331</td>\n",
       "      <td>8</td>\n",
       "      <td>2017</td>\n",
       "      <td>Non Fiction</td>\n",
       "      <td>NaN</td>\n",
       "    </tr>\n",
       "    <tr>\n",
       "      <th>548</th>\n",
       "      <td>You Are a Badass: How to Stop Doubting Your Gr...</td>\n",
       "      <td>Jen Sincero</td>\n",
       "      <td>4.7</td>\n",
       "      <td>14331</td>\n",
       "      <td>8</td>\n",
       "      <td>2018</td>\n",
       "      <td>Non Fiction</td>\n",
       "      <td>NaN</td>\n",
       "    </tr>\n",
       "    <tr>\n",
       "      <th>549</th>\n",
       "      <td>You Are a Badass: How to Stop Doubting Your Gr...</td>\n",
       "      <td>Jen Sincero</td>\n",
       "      <td>4.7</td>\n",
       "      <td>14331</td>\n",
       "      <td>8</td>\n",
       "      <td>2019</td>\n",
       "      <td>Non Fiction</td>\n",
       "      <td>NaN</td>\n",
       "    </tr>\n",
       "  </tbody>\n",
       "</table>\n",
       "<p>550 rows × 8 columns</p>\n",
       "</div>"
      ],
      "text/plain": [
       "                                                  Name  \\\n",
       "0                        10-Day Green Smoothie Cleanse   \n",
       "1                                    11/22/63: A Novel   \n",
       "2              12 Rules for Life: An Antidote to Chaos   \n",
       "3                               1984 (Signet Classics)   \n",
       "4    5,000 Awesome Facts (About Everything!) (Natio...   \n",
       "..                                                 ...   \n",
       "545       Wrecking Ball (Diary of a Wimpy Kid Book 14)   \n",
       "546  You Are a Badass: How to Stop Doubting Your Gr...   \n",
       "547  You Are a Badass: How to Stop Doubting Your Gr...   \n",
       "548  You Are a Badass: How to Stop Doubting Your Gr...   \n",
       "549  You Are a Badass: How to Stop Doubting Your Gr...   \n",
       "\n",
       "                       Author  User Rating  Reviews  Price  Year        Genre  \\\n",
       "0                    JJ Smith          4.7    17350      8  2016  Non Fiction   \n",
       "1                Stephen King          4.6     2052     22  2011      Fiction   \n",
       "2          Jordan B. Peterson          4.7    18979     15  2018  Non Fiction   \n",
       "3               George Orwell          4.7    21424      6  2017      Fiction   \n",
       "4    National Geographic Kids          4.8     7665     12  2019  Non Fiction   \n",
       "..                        ...          ...      ...    ...   ...          ...   \n",
       "545               Jeff Kinney          4.9     9413      8  2019      Fiction   \n",
       "546               Jen Sincero          4.7    14331      8  2016  Non Fiction   \n",
       "547               Jen Sincero          4.7    14331      8  2017  Non Fiction   \n",
       "548               Jen Sincero          4.7    14331      8  2018  Non Fiction   \n",
       "549               Jen Sincero          4.7    14331      8  2019  Non Fiction   \n",
       "\n",
       "     Nueva_columna  \n",
       "0              NaN  \n",
       "1              NaN  \n",
       "2              NaN  \n",
       "3              NaN  \n",
       "4              NaN  \n",
       "..             ...  \n",
       "545            NaN  \n",
       "546            NaN  \n",
       "547            NaN  \n",
       "548            NaN  \n",
       "549            NaN  \n",
       "\n",
       "[550 rows x 8 columns]"
      ]
     },
     "metadata": {},
     "output_type": "display_data"
    }
   ],
   "source": [
    "#Crea una nueva columna con el nombre de Nueva_columna de valores Nan\n",
    "#nan --> valor no numérico.\n",
    "df_books['Nueva_columna'] = np.nan \n",
    "display(df_books)"
   ]
  },
  {
   "cell_type": "code",
   "execution_count": 21,
   "metadata": {},
   "outputs": [
    {
     "data": {
      "text/plain": [
       "550"
      ]
     },
     "execution_count": 21,
     "metadata": {},
     "output_type": "execute_result"
    }
   ],
   "source": [
    "df_books.shape[0] #Devuelve el número de filas."
   ]
  },
  {
   "cell_type": "code",
   "execution_count": 22,
   "metadata": {},
   "outputs": [
    {
     "data": {
      "text/plain": [
       "8"
      ]
     },
     "execution_count": 22,
     "metadata": {},
     "output_type": "execute_result"
    }
   ],
   "source": [
    "df_books.shape[1] #Devuelve el número de columnas."
   ]
  },
  {
   "cell_type": "code",
   "execution_count": 27,
   "metadata": {},
   "outputs": [],
   "source": [
    "total_row_num = df_books.shape[0]\n",
    "data = np.arange(0, total_row_num)"
   ]
  },
  {
   "cell_type": "code",
   "execution_count": 29,
   "metadata": {},
   "outputs": [
    {
     "data": {
      "text/html": [
       "<div>\n",
       "<style scoped>\n",
       "    .dataframe tbody tr th:only-of-type {\n",
       "        vertical-align: middle;\n",
       "    }\n",
       "\n",
       "    .dataframe tbody tr th {\n",
       "        vertical-align: top;\n",
       "    }\n",
       "\n",
       "    .dataframe thead th {\n",
       "        text-align: right;\n",
       "    }\n",
       "</style>\n",
       "<table border=\"1\" class=\"dataframe\">\n",
       "  <thead>\n",
       "    <tr style=\"text-align: right;\">\n",
       "      <th></th>\n",
       "      <th>Name</th>\n",
       "      <th>Author</th>\n",
       "      <th>User Rating</th>\n",
       "      <th>Reviews</th>\n",
       "      <th>Price</th>\n",
       "      <th>Year</th>\n",
       "      <th>Genre</th>\n",
       "      <th>Nueva_columna</th>\n",
       "      <th>range</th>\n",
       "    </tr>\n",
       "  </thead>\n",
       "  <tbody>\n",
       "    <tr>\n",
       "      <th>0</th>\n",
       "      <td>10-Day Green Smoothie Cleanse</td>\n",
       "      <td>JJ Smith</td>\n",
       "      <td>4.7</td>\n",
       "      <td>17350</td>\n",
       "      <td>8</td>\n",
       "      <td>2016</td>\n",
       "      <td>Non Fiction</td>\n",
       "      <td>NaN</td>\n",
       "      <td>0</td>\n",
       "    </tr>\n",
       "    <tr>\n",
       "      <th>1</th>\n",
       "      <td>11/22/63: A Novel</td>\n",
       "      <td>Stephen King</td>\n",
       "      <td>4.6</td>\n",
       "      <td>2052</td>\n",
       "      <td>22</td>\n",
       "      <td>2011</td>\n",
       "      <td>Fiction</td>\n",
       "      <td>NaN</td>\n",
       "      <td>1</td>\n",
       "    </tr>\n",
       "    <tr>\n",
       "      <th>2</th>\n",
       "      <td>12 Rules for Life: An Antidote to Chaos</td>\n",
       "      <td>Jordan B. Peterson</td>\n",
       "      <td>4.7</td>\n",
       "      <td>18979</td>\n",
       "      <td>15</td>\n",
       "      <td>2018</td>\n",
       "      <td>Non Fiction</td>\n",
       "      <td>NaN</td>\n",
       "      <td>2</td>\n",
       "    </tr>\n",
       "    <tr>\n",
       "      <th>3</th>\n",
       "      <td>1984 (Signet Classics)</td>\n",
       "      <td>George Orwell</td>\n",
       "      <td>4.7</td>\n",
       "      <td>21424</td>\n",
       "      <td>6</td>\n",
       "      <td>2017</td>\n",
       "      <td>Fiction</td>\n",
       "      <td>NaN</td>\n",
       "      <td>3</td>\n",
       "    </tr>\n",
       "    <tr>\n",
       "      <th>4</th>\n",
       "      <td>5,000 Awesome Facts (About Everything!) (Natio...</td>\n",
       "      <td>National Geographic Kids</td>\n",
       "      <td>4.8</td>\n",
       "      <td>7665</td>\n",
       "      <td>12</td>\n",
       "      <td>2019</td>\n",
       "      <td>Non Fiction</td>\n",
       "      <td>NaN</td>\n",
       "      <td>4</td>\n",
       "    </tr>\n",
       "    <tr>\n",
       "      <th>...</th>\n",
       "      <td>...</td>\n",
       "      <td>...</td>\n",
       "      <td>...</td>\n",
       "      <td>...</td>\n",
       "      <td>...</td>\n",
       "      <td>...</td>\n",
       "      <td>...</td>\n",
       "      <td>...</td>\n",
       "      <td>...</td>\n",
       "    </tr>\n",
       "    <tr>\n",
       "      <th>545</th>\n",
       "      <td>Wrecking Ball (Diary of a Wimpy Kid Book 14)</td>\n",
       "      <td>Jeff Kinney</td>\n",
       "      <td>4.9</td>\n",
       "      <td>9413</td>\n",
       "      <td>8</td>\n",
       "      <td>2019</td>\n",
       "      <td>Fiction</td>\n",
       "      <td>NaN</td>\n",
       "      <td>545</td>\n",
       "    </tr>\n",
       "    <tr>\n",
       "      <th>546</th>\n",
       "      <td>You Are a Badass: How to Stop Doubting Your Gr...</td>\n",
       "      <td>Jen Sincero</td>\n",
       "      <td>4.7</td>\n",
       "      <td>14331</td>\n",
       "      <td>8</td>\n",
       "      <td>2016</td>\n",
       "      <td>Non Fiction</td>\n",
       "      <td>NaN</td>\n",
       "      <td>546</td>\n",
       "    </tr>\n",
       "    <tr>\n",
       "      <th>547</th>\n",
       "      <td>You Are a Badass: How to Stop Doubting Your Gr...</td>\n",
       "      <td>Jen Sincero</td>\n",
       "      <td>4.7</td>\n",
       "      <td>14331</td>\n",
       "      <td>8</td>\n",
       "      <td>2017</td>\n",
       "      <td>Non Fiction</td>\n",
       "      <td>NaN</td>\n",
       "      <td>547</td>\n",
       "    </tr>\n",
       "    <tr>\n",
       "      <th>548</th>\n",
       "      <td>You Are a Badass: How to Stop Doubting Your Gr...</td>\n",
       "      <td>Jen Sincero</td>\n",
       "      <td>4.7</td>\n",
       "      <td>14331</td>\n",
       "      <td>8</td>\n",
       "      <td>2018</td>\n",
       "      <td>Non Fiction</td>\n",
       "      <td>NaN</td>\n",
       "      <td>548</td>\n",
       "    </tr>\n",
       "    <tr>\n",
       "      <th>549</th>\n",
       "      <td>You Are a Badass: How to Stop Doubting Your Gr...</td>\n",
       "      <td>Jen Sincero</td>\n",
       "      <td>4.7</td>\n",
       "      <td>14331</td>\n",
       "      <td>8</td>\n",
       "      <td>2019</td>\n",
       "      <td>Non Fiction</td>\n",
       "      <td>NaN</td>\n",
       "      <td>549</td>\n",
       "    </tr>\n",
       "  </tbody>\n",
       "</table>\n",
       "<p>550 rows × 9 columns</p>\n",
       "</div>"
      ],
      "text/plain": [
       "                                                  Name  \\\n",
       "0                        10-Day Green Smoothie Cleanse   \n",
       "1                                    11/22/63: A Novel   \n",
       "2              12 Rules for Life: An Antidote to Chaos   \n",
       "3                               1984 (Signet Classics)   \n",
       "4    5,000 Awesome Facts (About Everything!) (Natio...   \n",
       "..                                                 ...   \n",
       "545       Wrecking Ball (Diary of a Wimpy Kid Book 14)   \n",
       "546  You Are a Badass: How to Stop Doubting Your Gr...   \n",
       "547  You Are a Badass: How to Stop Doubting Your Gr...   \n",
       "548  You Are a Badass: How to Stop Doubting Your Gr...   \n",
       "549  You Are a Badass: How to Stop Doubting Your Gr...   \n",
       "\n",
       "                       Author  User Rating  Reviews  Price  Year        Genre  \\\n",
       "0                    JJ Smith          4.7    17350      8  2016  Non Fiction   \n",
       "1                Stephen King          4.6     2052     22  2011      Fiction   \n",
       "2          Jordan B. Peterson          4.7    18979     15  2018  Non Fiction   \n",
       "3               George Orwell          4.7    21424      6  2017      Fiction   \n",
       "4    National Geographic Kids          4.8     7665     12  2019  Non Fiction   \n",
       "..                        ...          ...      ...    ...   ...          ...   \n",
       "545               Jeff Kinney          4.9     9413      8  2019      Fiction   \n",
       "546               Jen Sincero          4.7    14331      8  2016  Non Fiction   \n",
       "547               Jen Sincero          4.7    14331      8  2017  Non Fiction   \n",
       "548               Jen Sincero          4.7    14331      8  2018  Non Fiction   \n",
       "549               Jen Sincero          4.7    14331      8  2019  Non Fiction   \n",
       "\n",
       "     Nueva_columna  range  \n",
       "0              NaN      0  \n",
       "1              NaN      1  \n",
       "2              NaN      2  \n",
       "3              NaN      3  \n",
       "4              NaN      4  \n",
       "..             ...    ...  \n",
       "545            NaN    545  \n",
       "546            NaN    546  \n",
       "547            NaN    547  \n",
       "548            NaN    548  \n",
       "549            NaN    549  \n",
       "\n",
       "[550 rows x 9 columns]"
      ]
     },
     "metadata": {},
     "output_type": "display_data"
    }
   ],
   "source": [
    "df_books['range'] = data #Agrego una nueva columna con los valores de data\n",
    "display(df_books)"
   ]
  },
  {
   "cell_type": "markdown",
   "metadata": {},
   "source": [
    "### <a name=\"markdown52\"></a> Agregar filas **append()** a un df:\n",
    "[Indice Pandas](#markdown1000)\n",
    "\n",
    "* La función append() en pandas se utiliza para concatenar o unir dos o más DataFrames o Series. Permite agregar filas adicionales a un DataFrame existente.\n",
    "\n",
    "* La sintaxis básica de la función append() es la siguiente:\n",
    "\n",
    "```python\n",
    "df1.append(df2)\n",
    "```\n",
    "* La función append() crea un nuevo DataFrame que contiene todas las filas de df1 seguidas de todas las filas de df2. El índice del nuevo DataFrame se mantiene o se reinicia dependiendo del parámetro ignore_index. Si ignore_index=True, se crea un nuevo índice numérico secuencial para el DataFrame resultante. Si ignore_index=False o no se especifica, se conserva el índice original de cada DataFrame.\n",
    "\n",
    "* Es importante tener en cuenta que la función append() no modifica los DataFrames originales, sino que crea un nuevo DataFrame con las filas adicionales.\n",
    "```python\n",
    "import pandas as pd\n",
    "\n",
    "df1 = pd.DataFrame({'A': [1, 2, 3], 'B': [4, 5, 6]})\n",
    "df2 = pd.DataFrame({'A': [7, 8, 9], 'B': [10, 11, 12]})\n",
    "\n",
    "df_combined = df1.append(df2)\n",
    "print(df_combined)\n",
    "```\n",
    "* Este código creará un nuevo DataFrame df_combined que contendrá todas las filas de df1 seguidas de todas las filas de df2.\n",
    "\n",
    "* Es importante tener en cuenta que la función append() puede ser costosa en términos de rendimiento si se utiliza repetidamente para agregar muchas filas a un DataFrame grande. En tales casos, puede ser más eficiente crear una lista de DataFrames y luego usar la función concat() para combinarlos en un solo DataFrame."
   ]
  },
  {
   "cell_type": "markdown",
   "metadata": {},
   "source": [
    "### <a name=\"markdown53\"></a> Agregar filas **concat()** a un df:\n",
    "[Indice Pandas](#markdown1000)\n",
    "\n",
    "* La función concat() en pandas se utiliza para concatenar o unir dos o más DataFrames a lo largo de un eje específico (por defecto, el eje 0, que representa las filas).\n",
    "\n",
    "* La sintaxis básica de la función concat() es la siguiente:\n",
    "```python\n",
    "pd.concat([df1, df2, df3, ...])\n",
    "```\n",
    "* donde df1, df2, df3, etc., son los DataFrames que se desean concatenar.\n",
    "\n",
    "* La función concat() toma una lista de DataFrames como argumento y devuelve un nuevo DataFrame que contiene la concatenación de los DataFrames de la lista. Los DataFrames se concatenan uno tras otro a lo largo del eje especificado.\n",
    "\n",
    "* Es posible especificar el eje a lo largo del cual se realiza la concatenación utilizando el parámetro axis. Si axis=0 (o no se especifica), los DataFrames se concatenan a lo largo de las filas, lo que resulta en un DataFrame con más filas. Si axis=1, los DataFrames se concatenan a lo largo de las columnas, lo que resulta en un DataFrame con más columnas.\n",
    "\n",
    "* Es posible controlar el manejo de los índices de los DataFrames utilizando el parámetro ignore_index. Si ignore_index=True, se crea un nuevo índice numérico secuencial para el DataFrame resultante. Si ignore_index=False (por defecto) o no se especifica, se conservan los índices originales de cada DataFrame.\n",
    "\n",
    "* Aquí hay un ejemplo de cómo usar la función concat() en pandas:\n",
    "```python\n",
    "import pandas as pd\n",
    "\n",
    "df1 = pd.DataFrame({'A': [1, 2, 3], 'B': [4, 5, 6]})\n",
    "df2 = pd.DataFrame({'A': [7, 8, 9], 'B': [10, 11, 12]})\n",
    "\n",
    "df_combined = pd.concat([df1, df2])\n",
    "print(df_combined)\n",
    "```\n",
    "* Este código creará un nuevo DataFrame df_combined que contiene la concatenación de df1 y df2 a lo largo del eje 0 (filas).\n",
    "\n",
    "* La función concat() también permite especificar otros parámetros, como join para controlar cómo se manejan las columnas que no coinciden entre los DataFrames y keys para agregar claves de nivel superior en el índice resultante.\n",
    "\n",
    "* En resumen, la función concat() es útil cuando se desea combinar DataFrames en función de un eje específico, ya sea a lo largo de las filas o las columnas."
   ]
  },
  {
   "cell_type": "code",
   "execution_count": null,
   "metadata": {},
   "outputs": [],
   "source": []
  },
  {
   "cell_type": "code",
   "execution_count": null,
   "metadata": {},
   "outputs": [],
   "source": []
  },
  {
   "cell_type": "code",
   "execution_count": null,
   "metadata": {},
   "outputs": [],
   "source": []
  },
  {
   "cell_type": "code",
   "execution_count": null,
   "metadata": {},
   "outputs": [],
   "source": []
  }
 ],
 "metadata": {
  "celltoolbar": "Slideshow",
  "kernelspec": {
   "display_name": "jupyter_kernel_01",
   "language": "python",
   "name": "data_trans_env"
  },
  "language_info": {
   "codemirror_mode": {
    "name": "ipython",
    "version": 3
   },
   "file_extension": ".py",
   "mimetype": "text/x-python",
   "name": "python",
   "nbconvert_exporter": "python",
   "pygments_lexer": "ipython3",
   "version": "3.11.3"
  }
 },
 "nbformat": 4,
 "nbformat_minor": 2
}
