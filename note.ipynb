{
 "cells": [
  {
   "cell_type": "markdown",
   "metadata": {},
   "source": [
    "## <a name=\"markdown100\"></a> Indice Numpy:\n",
    "[Numpy](#markdown1)\n",
    "\n",
    "[¿Por qué Pandas?](#markdown2)\n",
    "\n",
    "[Formas de importarlas:](#markdown3)\n",
    "\n",
    "[Slicing List](#markdown0)\n",
    "\n",
    "[ Sclicing Matrix:](#markdown4)\n",
    "\n",
    "[Tipos de datos](#markdown5)\n",
    "\n",
    "[Dimensiones en los datos](#markdown6)\n",
    "\n",
    "[Agregar o Eliminar dimensiones](#markdown7)\n",
    "\n",
    "[Expandir dimensiones](#markdown8)\n",
    "\n",
    "[Remover/comprimir las dimensiones que no están siendo usadas.](#markdown9)\n",
    "\n",
    "[Creando Arrays con **NumPy**](#markdown10)\n",
    "\n",
    "[Creando listas solo con ceros](#markdown11)\n",
    "\n",
    "[Creando Matrices solo con ceros](#markdown12)\n",
    "\n",
    "[Creando Matrices solo con unos.](#markdown13)\n",
    "\n",
    "[Creando listas con valores equidistantes entre ellos](#markdown14)\n",
    "\n",
    "[Matríz Identidad](#markdown15)\n",
    "\n",
    "[Valores Aleatoreos \"un valor\"](#markdown16)\n",
    "\n",
    "[Valores Aleatoreos \"una lista de valores\"](#markdown17)\n",
    "\n",
    "[Valores Aleatoreos \"una matriz de valores\"](#markdown18)\n",
    "\n",
    "[Valores Aleatoreos \"Enteros\"](#markdown19)\n",
    "\n",
    "[Shape](#markdown20)\n",
    "\n",
    "[Reshape](#markdown21)\n",
    "\n",
    "[Funciones Principales de NumPy](#markdown22)\n",
    "\n",
    "[Devuelve el máx número por columna](#markdown23)\n",
    "\n",
    "[Devuelve el máx número por fila](#markdown24)\n",
    "\n",
    "[ptp(), pico a pico](#markdown25)\n",
    "\n",
    "[Percentile()](#markdown26)\n",
    "\n",
    "[sort()](#markdown27)\n",
    "\n",
    "[median()](#markdown28)\n",
    "\n",
    "[median() con Matrices](#markdown29)\n",
    "\n",
    "[Desviación std()](#markdown30)\n",
    "\n",
    "[Varianza var()](#markdown31)\n",
    "\n",
    "[La Media mean()](#markdown32)\n",
    "\n",
    "[Concatenar concatenate()](#markdown33)\n",
    "\n",
    "[Transpuesta](#markdown34)\n",
    "\n",
    "[copy()](#markdown35)\n",
    "\n",
    "[Condiciones](#markdown36)\n",
    "\n",
    "[Operaciones](#markdown37)\n",
    "\n",
    "[Producto entre Matrices](#markdown38)\n",
    "\n",
    "## <a name=\"markdown1000\"></a> Indice Pandas:\n",
    "\n",
    "[Series](#markdown39)\n",
    "\n",
    "[Creando lista con índices específicos](#markdown40)\n",
    "\n",
    "[Creando una structura matricial con diccionarios](#markdown41)"
   ]
  },
  {
   "cell_type": "markdown",
   "metadata": {},
   "source": [
    "# Numpy\n",
    "* Cálculo numérico\n",
    "* Manejo de Arrays.\n",
    "\n",
    "# pandas:\n",
    "* Manipulación y análisis de datos.\n",
    "# <a name=\"markdown1\"></a> ¿Por qué Numpy?\n",
    "* Es una librería enfocada al cálculo numérico y manejo de Arrays.\n",
    "\n",
    "* Es muy veloz, hasta 50 veces más rápido que usar una lista de Python o C.\n",
    "* Optimiza el almacenamiento en memoria.\n",
    "* Maneja distintos tipos de datos.\n",
    "* Es una librería muy poderosa, se pueden crear redes neuronales desde cero.\n",
    "\n",
    "# <a name=\"markdown2\"></a> ¿Por qué Pandas?\n",
    "* Pandas está enfocada a la manipulación y análisis de datos.\n",
    "\n",
    "* Al estar construido sobre NumPy es veloz.\n",
    "* Requiere poco código para manipular los datos.\n",
    "* Soporta múltiples formatos de archivos.\n",
    "* Ordena los datos en una alienación inteligente.\n",
    "* Se pueden manejar grandes cantidades de datos, hacer analítica y generar dashboards.\n",
    "* Anilisis inteligente."
   ]
  },
  {
   "cell_type": "markdown",
   "metadata": {},
   "source": [
    "#### El array es el principal objeto de la librería. Representa datos de manera estructurada y se puede acceder a ellos a través del indexado, a un dato específico o un grupo de muchos datos específicos."
   ]
  },
  {
   "cell_type": "markdown",
   "metadata": {},
   "source": [
    "# <a name=\"markdown3\"></a> Formas de importarlas:\n",
    "[Indice](#markdown100)"
   ]
  },
  {
   "cell_type": "code",
   "execution_count": 1,
   "metadata": {},
   "outputs": [],
   "source": [
    "import numpy as np\n",
    "import pandas as pd"
   ]
  },
  {
   "cell_type": "code",
   "execution_count": null,
   "metadata": {},
   "outputs": [],
   "source": [
    "lista = [1, 2 , 3, 4, 5, 6, 7, 8, 9]\n",
    "\n",
    "#Volvemos nuestra lista, un array\n",
    "arr = np.array(lista)"
   ]
  },
  {
   "cell_type": "code",
   "execution_count": 2,
   "metadata": {},
   "outputs": [],
   "source": [
    "matriz = [[1, 2, 3], [4, 5, 6], [7, 8, 9]]\n",
    "matriz = np.array(matriz)"
   ]
  },
  {
   "cell_type": "code",
   "execution_count": 3,
   "metadata": {},
   "outputs": [
    {
     "name": "stdout",
     "output_type": "stream",
     "text": [
      "[[1 2 3]\n",
      " [4 5 6]\n",
      " [7 8 9]]\n"
     ]
    }
   ],
   "source": [
    "print(matriz)"
   ]
  },
  {
   "cell_type": "markdown",
   "metadata": {},
   "source": [
    "### <a name=\"markdown0\"></a> Slicing List\n",
    "[Indice](#markdown100)"
   ]
  },
  {
   "cell_type": "code",
   "execution_count": 12,
   "metadata": {},
   "outputs": [
    {
     "name": "stdout",
     "output_type": "stream",
     "text": [
      "[2 3 4 5 6]\n",
      "[1 2 3 4 5 6]\n",
      "[3 4 5 6 7 8 9]\n",
      "[1 4 7]\n",
      "9\n",
      "7\n"
     ]
    }
   ],
   "source": [
    "lista = [1, 2 , 3, 4, 5, 6, 7, 8, 9]\n",
    "lista = np.array(lista)\n",
    "print(lista[1:6])\n",
    "print(lista[:6])\n",
    "print(lista[2:])\n",
    "print(lista[::3])\n",
    "print(lista[-1])\n",
    "print(lista[-3])"
   ]
  },
  {
   "cell_type": "markdown",
   "metadata": {},
   "source": [
    "### <a name=\"markdown4\"></a>  Sclicing Matrix:\n",
    "[Indice](#markdown100)"
   ]
  },
  {
   "cell_type": "code",
   "execution_count": 16,
   "metadata": {},
   "outputs": [
    {
     "name": "stdout",
     "output_type": "stream",
     "text": [
      "[[1 2 3]\n",
      " [4 5 6]\n",
      " [7 8 9]]\n",
      "***************\n",
      "[[4 5 6]\n",
      " [7 8 9]]\n",
      "***************\n",
      "[[4 5]\n",
      " [7 8]]\n"
     ]
    }
   ],
   "source": [
    "matrix = [[1, 2, 3], [4, 5, 6], [7, 8, 9]]\n",
    "matrix = np.array(matrix)\n",
    "print(matrix)\n",
    "print(\"*\"*15)\n",
    "print(matrix[1:]) #Desde la fila 1 en adelante.\n",
    "print(\"*\"*15)\n",
    "print(matrix[1:,0:2])"
   ]
  },
  {
   "cell_type": "markdown",
   "metadata": {},
   "source": [
    "* **matrix[fila, columna]** --> devuelve el valor en esa fila intersección esa columna"
   ]
  },
  {
   "cell_type": "markdown",
   "metadata": {},
   "source": [
    "### <a name=\"markdown5\"></a> Tipos de datos\n",
    "### [Tipos de datos numpy](https://numpy.org/doc/stable/user/basics.types.html):\n",
    "[Indice](#markdown100)"
   ]
  },
  {
   "cell_type": "code",
   "execution_count": 17,
   "metadata": {},
   "outputs": [
    {
     "data": {
      "text/plain": [
       "dtype('int64')"
      ]
     },
     "execution_count": 17,
     "metadata": {},
     "output_type": "execute_result"
    }
   ],
   "source": [
    "arr = np.array([1, 2, 3, 4])\n",
    "arr.dtype #Muestra el tipo de dato de los componenetes de array."
   ]
  },
  {
   "cell_type": "code",
   "execution_count": 18,
   "metadata": {},
   "outputs": [
    {
     "data": {
      "text/plain": [
       "dtype('float64')"
      ]
     },
     "execution_count": 18,
     "metadata": {},
     "output_type": "execute_result"
    }
   ],
   "source": [
    "arr = np.array([1, 2, 3, 4], dtype='float64') #Cambiamos el tipo de dato!!!\n",
    "arr.dtype"
   ]
  },
  {
   "cell_type": "code",
   "execution_count": 20,
   "metadata": {},
   "outputs": [
    {
     "data": {
      "text/plain": [
       "dtype('float64')"
      ]
     },
     "execution_count": 20,
     "metadata": {},
     "output_type": "execute_result"
    }
   ],
   "source": [
    "arr = np.array([1, 2, 3, 4]) # type int64\n",
    "arr = arr.astype(np.float64) # otra forma de cambiar el tipo de dato.\n",
    "arr.dtype"
   ]
  },
  {
   "cell_type": "markdown",
   "metadata": {},
   "source": [
    "* En términos de resultado final, no hay diferencia entre las dos formas de cambiar el tipo de datos de un arreglo NumPy. Ambas líneas de código logran el mismo resultado: cambiar el tipo de datos del arreglo arr a float64.\n",
    "\n",
    "* La diferencia radica en el enfoque utilizado para realizar la conversión:\n",
    "\n",
    "* En la primera línea de código, se especifica el tipo de datos deseado directamente al crear el arreglo mediante el argumento dtype='float64'. Esto significa que el arreglo se crea inicialmente con el tipo de datos especificado.\n",
    "\n",
    "* En la segunda línea de código, se utiliza el método astype() de NumPy para realizar la conversión explícita del tipo de datos del arreglo. El método astype() toma como argumento el tipo de datos al que se desea convertir el arreglo.\n",
    "También se podría definir como sigue:\n",
    "```python\n",
    "arr = [1, 2, 3, 4]\n",
    "arr = np.array(arr, dtype='float64') #Cambiamos el tipo de dato!!!\n",
    "arr.dtype\n",
    "```"
   ]
  },
  {
   "cell_type": "code",
   "execution_count": 25,
   "metadata": {},
   "outputs": [
    {
     "data": {
      "text/plain": [
       "array([False,  True,  True,  True,  True])"
      ]
     },
     "execution_count": 25,
     "metadata": {},
     "output_type": "execute_result"
    }
   ],
   "source": [
    "arr = np.array([0, 1, 2, 3, 4])\n",
    "arr = arr.astype(np.bool_) #Cambiando a Booleano!!!\n",
    "arr"
   ]
  },
  {
   "cell_type": "code",
   "execution_count": 28,
   "metadata": {},
   "outputs": [
    {
     "data": {
      "text/plain": [
       "array([b'0', b'1', b'2', b'3', b'4'], dtype='|S21')"
      ]
     },
     "execution_count": 28,
     "metadata": {},
     "output_type": "execute_result"
    }
   ],
   "source": [
    "arr = np.array([0, 1, 2, 3, 4])\n",
    "arr = arr.astype(np.string_) #Cambiando a Booleano!!!\n",
    "arr"
   ]
  },
  {
   "cell_type": "code",
   "execution_count": 29,
   "metadata": {},
   "outputs": [
    {
     "data": {
      "text/plain": [
       "array([0, 1, 2, 3, 4], dtype=int8)"
      ]
     },
     "execution_count": 29,
     "metadata": {},
     "output_type": "execute_result"
    }
   ],
   "source": [
    "arr = np.array(['0', '1', '2', '3', '4'])\n",
    "arr = arr.astype(np.int8) #Cambiando a Booleano!!!\n",
    "arr"
   ]
  },
  {
   "cell_type": "markdown",
   "metadata": {},
   "source": [
    "### <a name=\"markdown6\"></a> Dimensiones en los datos:\n",
    "[Indice](#markdown100)\n",
    "* **Scalar: 0 Un solo dato o valor --> 2 o \"r\", un solo valor.**\n",
    "```python\n",
    "scalar = np.array(42)\n",
    "print(scalar) \n",
    "scalar.ndim #muestra las dimensiones.\n",
    "```\n",
    "* **Vector: Listas de Python --> [1,2,3,4]**\n",
    "```python\n",
    "scalar = np.array([1,2,3,4])\n",
    "print(scalar) \n",
    "scalar.ndim #muestra las dimensiones.\n",
    "```\n",
    "* **Matriz: Hoja de cálculo --> algo que tenga 2 dimensiones (fila, columna).**\n",
    "```python\n",
    "scalar = np.array([[1, 2, 3], [4, 5, 6], [7, 8, 9]])\n",
    "print(scalar) \n",
    "scalar.ndim #muestra las dimensiones.\n",
    "```\n",
    "* **Tensor: Series de tiempo o Imágenes**\n",
    "![tensor](https://static.platzi.com/media/articlases/Images/tensor.JPG)\n",
    "```python\n",
    "tensor = np.array([\n",
    "    [\n",
    "        [1, 2, 3], [4, 5, 6], [7, 8, 9], [10, 11, 12]\n",
    "    ],\n",
    "    [\n",
    "        [13, 13, 15], [16, 17, 18], [19, 20, 21], [22, 23, 24]\n",
    "    ]\n",
    "]) #Matríz 4x3 en la primer posición, matríz 4x3 en la segunda posición.\n",
    "print(tensor)\n",
    "tensor.ndim\n",
    "```\n",
    "* **Nota, el tensor tiene tres dimensiones**: \n",
    "* la primera dimensión corresponde a las dos matrices internas. \n",
    "* La segunda dimensión corresponde a las filas de cada matriz.\n",
    "* La tercera dimensión corresponde a las columnas de cada matriz."
   ]
  },
  {
   "cell_type": "code",
   "execution_count": 13,
   "metadata": {},
   "outputs": [
    {
     "name": "stdout",
     "output_type": "stream",
     "text": [
      "[[[[ 1  2  3]\n",
      "   [ 4  5  6]\n",
      "   [ 7  8  9]\n",
      "   [10 11 12]]\n",
      "\n",
      "  [[13 13 15]\n",
      "   [16 17 18]\n",
      "   [19 20 21]\n",
      "   [22 23 24]]]]\n"
     ]
    },
    {
     "data": {
      "text/plain": [
       "4"
      ]
     },
     "execution_count": 13,
     "metadata": {},
     "output_type": "execute_result"
    }
   ],
   "source": [
    "tensor = np.array([\n",
    "                        [        \n",
    "                            [\n",
    "                                [1, 2, 3], [4, 5, 6], [7, 8, 9], [10, 11, 12]\n",
    "                            ],\n",
    "                            [\n",
    "                                [13, 13, 15], [16, 17, 18], [19, 20, 21], [22, 23, 24]\n",
    "                            ]\n",
    "                        ]\n",
    "                    ]) #Matríz 4x3 en la primer posición, matríz 4x3 en la segunda posición.\n",
    "print(tensor)\n",
    "tensor.ndim # Con 4 dimensiones."
   ]
  },
  {
   "cell_type": "markdown",
   "metadata": {},
   "source": [
    "### <a name=\"markdown7\"></a>  Agregar o eliminar dimensiones\n",
    "[Indice](#markdown100)\n",
    "* Se puede definir el número de dimensiones desde la declaración del array"
   ]
  },
  {
   "cell_type": "code",
   "execution_count": 16,
   "metadata": {},
   "outputs": [
    {
     "name": "stdout",
     "output_type": "stream",
     "text": [
      "[[[[[[[[[[1 2 3]]]]]]]]]]\n"
     ]
    },
    {
     "data": {
      "text/plain": [
       "10"
      ]
     },
     "execution_count": 16,
     "metadata": {},
     "output_type": "execute_result"
    }
   ],
   "source": [
    "vector = np.array([1, 2, 3], ndmin = 10)\n",
    "print(vector) \n",
    "vector.ndim"
   ]
  },
  {
   "cell_type": "markdown",
   "metadata": {},
   "source": [
    "### <a name=\"markdown8\"></a>  Expandir dimensiones\n",
    "[Indice](#markdown100)\n",
    "* Se pueden expandir dimensiones a los array ya existentes con expand_dims(). Axis = 0 hace referencia a las filas, mientras que axis = 1 a las columnas."
   ]
  },
  {
   "cell_type": "code",
   "execution_count": 14,
   "metadata": {},
   "outputs": [
    {
     "name": "stdout",
     "output_type": "stream",
     "text": [
      "[[1 2 3]]\n"
     ]
    },
    {
     "data": {
      "text/plain": [
       "2"
      ]
     },
     "execution_count": 14,
     "metadata": {},
     "output_type": "execute_result"
    }
   ],
   "source": [
    "expand = np.expand_dims(np.array([1, 2, 3]), axis = 0)\n",
    "print(expand)\n",
    "expand.ndim "
   ]
  },
  {
   "cell_type": "code",
   "execution_count": 15,
   "metadata": {},
   "outputs": [
    {
     "name": "stdout",
     "output_type": "stream",
     "text": [
      "[[1]\n",
      " [2]\n",
      " [3]]\n"
     ]
    },
    {
     "data": {
      "text/plain": [
       "2"
      ]
     },
     "execution_count": 15,
     "metadata": {},
     "output_type": "execute_result"
    }
   ],
   "source": [
    "expand = np.expand_dims(np.array([1, 2, 3]), axis = 1)\n",
    "print(expand)\n",
    "expand.ndim "
   ]
  },
  {
   "cell_type": "markdown",
   "metadata": {},
   "source": [
    "### <a name=\"markdown9\"></a>  Remover/comprimir las dimensiones que no están siendo usadas.\n",
    "[Indice](#markdown100)"
   ]
  },
  {
   "cell_type": "code",
   "execution_count": 18,
   "metadata": {},
   "outputs": [
    {
     "name": "stdout",
     "output_type": "stream",
     "text": [
      "[[[[[[[[[[1 2 3]]]]]]]]]] 10\n",
      "[1 2 3] 1\n"
     ]
    }
   ],
   "source": [
    "vector = np.array([1, 2, 3], ndmin = 10)\n",
    "print(vector, vector.ndim) \n",
    "vector_2 = np.squeeze(vector)\n",
    "print(vector_2, vector_2.ndim)"
   ]
  },
  {
   "cell_type": "markdown",
   "metadata": {},
   "source": [
    "### <a name=\"markdown10\"></a>  Creando Arrays con **numpy**\n",
    "[Indice](#markdown100)\n",
    "* Numpy nos da varios métodos muy eficientes para poder crear arrays desde 0.\n",
    "\n",
    "* Este método de NumPy nos permite generar arrays sin definir previamente una lista"
   ]
  },
  {
   "cell_type": "code",
   "execution_count": 20,
   "metadata": {},
   "outputs": [
    {
     "data": {
      "text/plain": [
       "[1, 2, 3, 4, 5, 6, 7, 8, 9]"
      ]
     },
     "execution_count": 20,
     "metadata": {},
     "output_type": "execute_result"
    }
   ],
   "source": [
    "# forma tradicional con python.\n",
    "list(range(1,10))"
   ]
  },
  {
   "cell_type": "code",
   "execution_count": 24,
   "metadata": {},
   "outputs": [
    {
     "name": "stdout",
     "output_type": "stream",
     "text": [
      "[1 2 3 4 5 6 7 8 9]\n",
      "[1 3 5 7 9]\n"
     ]
    }
   ],
   "source": [
    "# numpy\n",
    "list_01 = np.arange(1,10)\n",
    "print(list_01)\n",
    "list_02 = np.arange(1,10,2) # De 2 en 2\n",
    "print(list_02)"
   ]
  },
  {
   "cell_type": "markdown",
   "metadata": {},
   "source": [
    "### <a name=\"markdown11\"></a>  Creando listas solo con ceros\n",
    "[Indice](#markdown100)"
   ]
  },
  {
   "cell_type": "code",
   "execution_count": 25,
   "metadata": {},
   "outputs": [
    {
     "data": {
      "text/plain": [
       "array([0., 0., 0.])"
      ]
     },
     "execution_count": 25,
     "metadata": {},
     "output_type": "execute_result"
    }
   ],
   "source": [
    "np.zeros(3)"
   ]
  },
  {
   "cell_type": "markdown",
   "metadata": {},
   "source": [
    "### <a name=\"markdown12\"></a> Creando Matrices solo con ceros.\n",
    "[Indice](#markdown100)"
   ]
  },
  {
   "cell_type": "code",
   "execution_count": 27,
   "metadata": {},
   "outputs": [
    {
     "data": {
      "text/plain": [
       "array([[0., 0., 0., 0., 0.],\n",
       "       [0., 0., 0., 0., 0.],\n",
       "       [0., 0., 0., 0., 0.],\n",
       "       [0., 0., 0., 0., 0.],\n",
       "       [0., 0., 0., 0., 0.],\n",
       "       [0., 0., 0., 0., 0.],\n",
       "       [0., 0., 0., 0., 0.],\n",
       "       [0., 0., 0., 0., 0.],\n",
       "       [0., 0., 0., 0., 0.],\n",
       "       [0., 0., 0., 0., 0.]])"
      ]
     },
     "execution_count": 27,
     "metadata": {},
     "output_type": "execute_result"
    }
   ],
   "source": [
    "np.zeros((10,5))"
   ]
  },
  {
   "cell_type": "markdown",
   "metadata": {},
   "source": [
    "### <a name=\"markdown13\"></a>  Creando Matrces solo con unos.\n",
    "[Indice](#markdown100)"
   ]
  },
  {
   "cell_type": "code",
   "execution_count": 28,
   "metadata": {},
   "outputs": [
    {
     "data": {
      "text/plain": [
       "array([[1., 1., 1., 1., 1.],\n",
       "       [1., 1., 1., 1., 1.],\n",
       "       [1., 1., 1., 1., 1.],\n",
       "       [1., 1., 1., 1., 1.],\n",
       "       [1., 1., 1., 1., 1.],\n",
       "       [1., 1., 1., 1., 1.],\n",
       "       [1., 1., 1., 1., 1.],\n",
       "       [1., 1., 1., 1., 1.],\n",
       "       [1., 1., 1., 1., 1.],\n",
       "       [1., 1., 1., 1., 1.]])"
      ]
     },
     "execution_count": 28,
     "metadata": {},
     "output_type": "execute_result"
    }
   ],
   "source": [
    "np.ones((10,5))"
   ]
  },
  {
   "cell_type": "markdown",
   "metadata": {},
   "source": [
    "### <a name=\"markdown14\"></a> Crea listas con valores equidistantes entre ellos.\n",
    "[Indice](#markdown100)\n",
    "* Sintaxis:\n",
    "```python\n",
    "numpy.linspace(start, stop, num=50, endpoint=True, retstep=False, dtype=None)\n",
    "```\n",
    "* **start:** Es el valor inicial del rango.\n",
    "* **stop:** Es el valor final del rango.\n",
    "* **num:** Es el número de elementos que se generarán en el arreglo. Por defecto es 50.\n",
    "* **endpoint:** Un valor booleano que indica si el valor final está incluido en el arreglo. Si es True, el valor final está incluido; si es False, el valor final no está incluido. Por defecto es True.\n",
    "* **retstep:** Un valor booleano que indica si se debe retornar el espaciado entre los valores del arreglo. Si es True, se retorna el arreglo y el espaciado; si es False, solo se retorna el arreglo. Por defecto es False.\n",
    "* **dtype:** El tipo de dato de los elementos en el arreglo. Por defecto es None, lo que significa que se utilizará el tipo de dato por defecto de NumPy."
   ]
  },
  {
   "cell_type": "code",
   "execution_count": 35,
   "metadata": {},
   "outputs": [
    {
     "name": "stdout",
     "output_type": "stream",
     "text": [
      "(array([ 0.        ,  0.90909091,  1.81818182,  2.72727273,  3.63636364,\n",
      "        4.54545455,  5.45454545,  6.36363636,  7.27272727,  8.18181818,\n",
      "        9.09090909, 10.        ]), 0.9090909090909091)\n"
     ]
    }
   ],
   "source": [
    "values = np.linspace(0,10,num=12, retstep=True)# desde 0 hasta 10 con 12 valores\n",
    "print(values)"
   ]
  },
  {
   "cell_type": "markdown",
   "metadata": {},
   "source": [
    "### <a name=\"markdown15\"></a>  Matriz identidad\n",
    "[Indice](#markdown100)\n",
    "* El comando eye es una función de NumPy que se utiliza para crear una matriz identidad. Una matriz identidad es una matriz cuadrada en la que todos los elementos de la diagonal principal son iguales a 1 y los demás elementos son iguales a 0.\n",
    "\n",
    "* La sintaxis general de eye es la siguiente:\n",
    "```python\n",
    "numpy.eye(N, M=None, k=0, dtype=<class 'float'>, order='C')\n",
    "```\n",
    "* **N:** Es el número de filas de la matriz.\n",
    "* **M:** (Opcional) Es el número de columnas de la matriz. Si no se especifica, se asume que M=N, por lo que la matriz será cuadrada.\n",
    "* **k:** (Opcional) Es el desplazamiento de la diagonal principal. Un valor positivo indica una diagonal por encima de la diagonal principal, y un valor negativo indica una diagonal por debajo de la diagonal principal. Por defecto, k=0 y la diagonal principal estará compuesta de unos.\n",
    "* **dtype:** (Opcional) El tipo de dato de los elementos en la matriz. Por defecto, es un tipo de dato flotante (float).\n",
    "* **order:** (Opcional) Especifica el orden en que se almacenan los elementos en la matriz. Puede ser 'C' (por filas) o 'F' (por columnas). Por defecto, es 'C'."
   ]
  },
  {
   "cell_type": "code",
   "execution_count": 36,
   "metadata": {},
   "outputs": [
    {
     "name": "stdout",
     "output_type": "stream",
     "text": [
      "[[1. 0. 0.]\n",
      " [0. 1. 0.]\n",
      " [0. 0. 1.]]\n"
     ]
    }
   ],
   "source": [
    "matriz_identidad = np.eye(3)\n",
    "\n",
    "print(matriz_identidad)"
   ]
  },
  {
   "cell_type": "markdown",
   "metadata": {},
   "source": [
    "### <a name=\"markdown16\"></a> Valores Aleatoreos \"un valor\":\n",
    "[Indice](#markdown100)"
   ]
  },
  {
   "cell_type": "code",
   "execution_count": 37,
   "metadata": {},
   "outputs": [
    {
     "data": {
      "text/plain": [
       "0.6507831363398214"
      ]
     },
     "execution_count": 37,
     "metadata": {},
     "output_type": "execute_result"
    }
   ],
   "source": [
    "np.random.rand()"
   ]
  },
  {
   "cell_type": "markdown",
   "metadata": {},
   "source": [
    "### <a name=\"markdown17\"></a> Valores Aleatoreos \"una lista de valores\":\n",
    "[Indice](#markdown100)"
   ]
  },
  {
   "cell_type": "code",
   "execution_count": 38,
   "metadata": {},
   "outputs": [
    {
     "data": {
      "text/plain": [
       "array([0.58510919, 0.11935745, 0.40646536, 0.49571867])"
      ]
     },
     "execution_count": 38,
     "metadata": {},
     "output_type": "execute_result"
    }
   ],
   "source": [
    "np.random.rand(4)"
   ]
  },
  {
   "cell_type": "markdown",
   "metadata": {},
   "source": [
    "### <a name=\"markdown18\"></a> Valores Aleatoreos \"una Matríz de valores\":\n",
    "[Indice](#markdown100)"
   ]
  },
  {
   "cell_type": "code",
   "execution_count": 39,
   "metadata": {},
   "outputs": [
    {
     "data": {
      "text/plain": [
       "array([[0.56556431, 0.77719616, 0.71526729],\n",
       "       [0.61868235, 0.6897348 , 0.36030092]])"
      ]
     },
     "execution_count": 39,
     "metadata": {},
     "output_type": "execute_result"
    }
   ],
   "source": [
    "np.random.rand(2,3)"
   ]
  },
  {
   "cell_type": "markdown",
   "metadata": {},
   "source": [
    "### <a name=\"markdown19\"></a>  Valores Aleatoreos \"Enteros\":\n",
    "[Indice](#markdown100)\n",
    "```python\n",
    "numpy.random.randint(low, high=None, size=None, dtype=int)\n",
    "```\n",
    "* **low:** es el límite inferior del rango (inclusive).\n",
    "* **high:** es el límite superior del rango (exclusivo). Si no se proporciona, se asume que es el límite superior y el límite inferior se establece en 0.\n",
    "* **size:** es la forma o dimensiones del array que se desea generar. Puede ser un número entero para generar un único número aleatorio o una tupla de enteros para generar un array multidimensional. Si no se proporciona, se devuelve un único número entero.\n",
    "* **dtype:** es el tipo de datos de los elementos generados. Por defecto, se utiliza int."
   ]
  },
  {
   "cell_type": "code",
   "execution_count": 40,
   "metadata": {},
   "outputs": [
    {
     "data": {
      "text/plain": [
       "6"
      ]
     },
     "execution_count": 40,
     "metadata": {},
     "output_type": "execute_result"
    }
   ],
   "source": [
    "np.random.randint(1,15)"
   ]
  },
  {
   "cell_type": "code",
   "execution_count": 41,
   "metadata": {},
   "outputs": [
    {
     "data": {
      "text/plain": [
       "array([[44, 73, 76, 79, 83, 57, 42, 51, 41, 55],\n",
       "       [29, 83, 71, 53, 55, 30, 74, 84, 17, 16],\n",
       "       [70, 20, 74, 39, 51, 59,  7, 82, 13, 71],\n",
       "       [25, 79, 36, 90,  1, 24, 61, 16, 75,  2],\n",
       "       [71, 55, 90, 78, 78, 90, 38, 71, 16, 11],\n",
       "       [81, 62, 42, 92, 74, 56,  6, 14, 10, 13],\n",
       "       [72, 11, 98, 57, 26, 76, 64, 90, 36, 39],\n",
       "       [82, 52, 14, 10, 29, 46, 28, 41, 14, 50],\n",
       "       [88, 59, 25, 92, 30, 50, 10, 29, 12, 73],\n",
       "       [14, 74, 36, 35, 62,  3, 82, 15, 16, 38]])"
      ]
     },
     "execution_count": 41,
     "metadata": {},
     "output_type": "execute_result"
    }
   ],
   "source": [
    "np.random.randint(1,100,(10,10))"
   ]
  },
  {
   "cell_type": "markdown",
   "metadata": {},
   "source": [
    "### <a name=\"markdown20\"></a>  Shape:\n",
    "[Indice](#markdown100)\n",
    "* Forma del arreglo."
   ]
  },
  {
   "cell_type": "code",
   "execution_count": 44,
   "metadata": {},
   "outputs": [
    {
     "name": "stdout",
     "output_type": "stream",
     "text": [
      "[[6 2]\n",
      " [3 8]\n",
      " [3 4]]\n"
     ]
    },
    {
     "data": {
      "text/plain": [
       "(3, 2)"
      ]
     },
     "execution_count": 44,
     "metadata": {},
     "output_type": "execute_result"
    }
   ],
   "source": [
    "arr = np.random.randint(1,10,(3,2))\n",
    "print(arr)\n",
    "arr.shape # retorna la forma, en este caso una matríz de 3x2"
   ]
  },
  {
   "cell_type": "markdown",
   "metadata": {},
   "source": [
    "### <a name=\"markdown21\"></a> Reshape:\n",
    "[Indice](#markdown100)\n",
    "* Cambia la forma del arreglo.\n",
    "```python\n",
    "numpy.reshape(array, newshape, order='C')\n",
    "```\n",
    "* **array:** El array original que se desea redimensionar.\n",
    "* **newshape:** La nueva forma que se desea dar al array. Puede ser especificada como una tupla de enteros o como una lista de enteros separados por comas. Es importante tener en cuenta que la cantidad total de elementos en el array original debe ser igual a la cantidad total de elementos en el nuevo array.\n",
    "* **order (opcional):** Especifica el orden en que se deben leer los elementos del array original para reorganizarlos en el nuevo array. Los posibles valores son 'C' (orden C-contiguo, por defecto), 'F' (orden Fortran-contiguo), o 'A' (lo ordena según la mejor performance del computador).\n",
    "\n",
    "#### Nota: los parámetros 'C' y 'F' se refieren al orden en el que los elementos del array original se almacenan en la memoria.\n",
    "\n",
    "#### 'C' hace referencia al estilo de orden C-contiguo, también conocido como orden de fila principal (row-major order) o almacenamiento en el estilo C. En este orden, los elementos de una matriz bidimensional se almacenan por filas, es decir, los elementos de una misma fila se almacenan de forma contigua en la memoria. Este es el orden por defecto en NumPy.\n",
    "![C-style contiguous segment](https://static.platzi.com/media/user_upload/Apilar%20por%20filas%20V-ca01870a-aaaf-4bdb-8203-6885bd220f20.jpg)\n",
    "#### 'F' se refiere al estilo de orden Fortran-contiguo, también conocido como orden de columna principal (column-major order) o almacenamiento en el estilo Fortran. En este orden, los elementos de una matriz bidimensional se almacenan por columnas, es decir, los elementos de una misma columna se almacenan de forma contigua en la memoria.\n",
    "![Fortran-style contiguous segment](https://static.platzi.com/media/user_upload/Apilar%20por%20Columnas-0b5370fe-2271-4d55-bd10-5b290114678b.jpg)\n",
    "#### La diferencia entre ambos órdenes radica en cómo se accede a los elementos de la matriz en la memoria. Al trabajar con arrays multidimensionales grandes, el orden de almacenamiento puede afectar el rendimiento y la eficiencia del acceso a los elementos.\n",
    "\n",
    "#### En la mayoría de los casos, el orden 'C' es utilizado por defecto y es adecuado para la mayoría de las operaciones y algoritmos. Sin embargo, en algunos casos particulares, como cuando se trabaja con operaciones lineales algebraicas o algoritmos específicos que requieren un acceso eficiente por columnas, se puede utilizar el orden 'F'.\n",
    "\n",
    "#### Además, existe la opción de hacer reshape según como esté optimizado nuestro computador. En este caso es como en A."
   ]
  },
  {
   "cell_type": "code",
   "execution_count": 47,
   "metadata": {},
   "outputs": [
    {
     "name": "stdout",
     "output_type": "stream",
     "text": [
      "[[3 2]\n",
      " [8 5]\n",
      " [6 4]]\n"
     ]
    },
    {
     "data": {
      "text/plain": [
       "array([[3, 2, 8, 5, 6, 4]])"
      ]
     },
     "execution_count": 47,
     "metadata": {},
     "output_type": "execute_result"
    }
   ],
   "source": [
    "arr = np.random.randint(1,10,(3,2))\n",
    "print(arr)\n",
    "arr.reshape(1,6) # 1x6, está límitado por la cantidad de valores individuales."
   ]
  },
  {
   "cell_type": "code",
   "execution_count": 48,
   "metadata": {},
   "outputs": [
    {
     "data": {
      "text/plain": [
       "array([[3, 2, 8, 5, 6, 4]])"
      ]
     },
     "execution_count": 48,
     "metadata": {},
     "output_type": "execute_result"
    }
   ],
   "source": [
    "np.reshape(arr,(1,6)) #otra forma equivalente y válida."
   ]
  },
  {
   "cell_type": "code",
   "execution_count": 50,
   "metadata": {},
   "outputs": [
    {
     "data": {
      "text/plain": [
       "array([[3, 2, 8],\n",
       "       [5, 6, 4]])"
      ]
     },
     "execution_count": 50,
     "metadata": {},
     "output_type": "execute_result"
    }
   ],
   "source": [
    "np.reshape(arr,(2,3), 'C')"
   ]
  },
  {
   "cell_type": "code",
   "execution_count": 51,
   "metadata": {},
   "outputs": [
    {
     "data": {
      "text/plain": [
       "array([[3, 6, 5],\n",
       "       [8, 2, 4]])"
      ]
     },
     "execution_count": 51,
     "metadata": {},
     "output_type": "execute_result"
    }
   ],
   "source": [
    "np.reshape(arr,(2,3), 'F')"
   ]
  },
  {
   "cell_type": "code",
   "execution_count": 52,
   "metadata": {},
   "outputs": [
    {
     "data": {
      "text/plain": [
       "array([[3, 2, 8],\n",
       "       [5, 6, 4]])"
      ]
     },
     "execution_count": 52,
     "metadata": {},
     "output_type": "execute_result"
    }
   ],
   "source": [
    "np.reshape(arr,(2,3), 'A')"
   ]
  },
  {
   "cell_type": "markdown",
   "metadata": {},
   "source": [
    "### <a name=\"markdown22\"></a> Funciones Principales de NumPy:\n",
    "[Indice](#markdown100)"
   ]
  },
  {
   "cell_type": "code",
   "execution_count": 55,
   "metadata": {},
   "outputs": [
    {
     "data": {
      "text/plain": [
       "array([19, 16, 14,  7,  9,  8,  5, 19, 18, 12])"
      ]
     },
     "execution_count": 55,
     "metadata": {},
     "output_type": "execute_result"
    }
   ],
   "source": [
    "arr = np.random.randint(1,20,10)\n",
    "arr"
   ]
  },
  {
   "cell_type": "code",
   "execution_count": 56,
   "metadata": {},
   "outputs": [
    {
     "data": {
      "text/plain": [
       "array([[19, 16, 14,  7,  9],\n",
       "       [ 8,  5, 19, 18, 12]])"
      ]
     },
     "execution_count": 56,
     "metadata": {},
     "output_type": "execute_result"
    }
   ],
   "source": [
    "matriz = arr.reshape(2,5)\n",
    "matriz"
   ]
  },
  {
   "cell_type": "code",
   "execution_count": 57,
   "metadata": {},
   "outputs": [
    {
     "data": {
      "text/plain": [
       "19"
      ]
     },
     "execution_count": 57,
     "metadata": {},
     "output_type": "execute_result"
    }
   ],
   "source": [
    "np.max(arr) #arr.max() también funciona."
   ]
  },
  {
   "cell_type": "code",
   "execution_count": 58,
   "metadata": {},
   "outputs": [
    {
     "data": {
      "text/plain": [
       "19"
      ]
     },
     "execution_count": 58,
     "metadata": {},
     "output_type": "execute_result"
    }
   ],
   "source": [
    "np.max(matriz) #matriz.max() también funciona."
   ]
  },
  {
   "cell_type": "markdown",
   "metadata": {},
   "source": [
    "### <a name=\"markdown23\"></a>  Devuelve el máx número por columna.\n",
    "[Indice](#markdown100)\n",
    "* matriz.max(0) también funciona."
   ]
  },
  {
   "cell_type": "code",
   "execution_count": 60,
   "metadata": {},
   "outputs": [
    {
     "data": {
      "text/plain": [
       "array([19, 16, 19, 18, 12])"
      ]
     },
     "execution_count": 60,
     "metadata": {},
     "output_type": "execute_result"
    }
   ],
   "source": [
    "np.max(matriz, 0) "
   ]
  },
  {
   "cell_type": "markdown",
   "metadata": {},
   "source": [
    "### <a name=\"markdown24\"></a>  Devuelve el máx número por fila.\n",
    "[Indice](#markdown100)\n",
    "* matriz.max(1) también funciona."
   ]
  },
  {
   "cell_type": "code",
   "execution_count": 61,
   "metadata": {},
   "outputs": [
    {
     "data": {
      "text/plain": [
       "array([19, 19])"
      ]
     },
     "execution_count": 61,
     "metadata": {},
     "output_type": "execute_result"
    }
   ],
   "source": [
    "np.max(matriz, 1)"
   ]
  },
  {
   "cell_type": "markdown",
   "metadata": {},
   "source": [
    "#### También tenemos .argmax() que nos devuelve la posición del Máx. elemento"
   ]
  },
  {
   "cell_type": "code",
   "execution_count": 64,
   "metadata": {},
   "outputs": [
    {
     "name": "stdout",
     "output_type": "stream",
     "text": [
      "[11  8  5  6  7 12 15  7  8  1]\n"
     ]
    },
    {
     "data": {
      "text/plain": [
       "6"
      ]
     },
     "execution_count": 64,
     "metadata": {},
     "output_type": "execute_result"
    }
   ],
   "source": [
    "arr = np.random.randint(1,20,10)\n",
    "print(arr)\n",
    "arr.argmax()"
   ]
  },
  {
   "cell_type": "code",
   "execution_count": 67,
   "metadata": {},
   "outputs": [
    {
     "name": "stdout",
     "output_type": "stream",
     "text": [
      "[[11  8  5  6  7]\n",
      " [12 15  7  8  1]]\n"
     ]
    },
    {
     "data": {
      "text/plain": [
       "array([1, 1, 1, 1, 0])"
      ]
     },
     "execution_count": 67,
     "metadata": {},
     "output_type": "execute_result"
    }
   ],
   "source": [
    "matriz = arr.reshape(2,5)\n",
    "print(matriz)\n",
    "matriz.argmax(0)"
   ]
  },
  {
   "cell_type": "code",
   "execution_count": 68,
   "metadata": {},
   "outputs": [
    {
     "data": {
      "text/plain": [
       "array([0, 1])"
      ]
     },
     "execution_count": 68,
     "metadata": {},
     "output_type": "execute_result"
    }
   ],
   "source": [
    "matriz.argmax(1)"
   ]
  },
  {
   "cell_type": "markdown",
   "metadata": {},
   "source": [
    "#### Nota: Funcionamiento contrario remplazando \"max\" por \"min\""
   ]
  },
  {
   "cell_type": "markdown",
   "metadata": {},
   "source": [
    "### <a name=\"markdown25\"></a> ptp(), pico a pico:\n",
    "[Indice](#markdown100)\n",
    "* Devuelve la diferencia entre Máx y Mín."
   ]
  },
  {
   "cell_type": "code",
   "execution_count": 70,
   "metadata": {},
   "outputs": [
    {
     "data": {
      "text/plain": [
       "array([16, 14, 14,  6,  3,  6,  8, 14,  5, 18])"
      ]
     },
     "execution_count": 70,
     "metadata": {},
     "output_type": "execute_result"
    }
   ],
   "source": [
    "arr = np.random.randint(1,20,10)\n",
    "arr"
   ]
  },
  {
   "cell_type": "code",
   "execution_count": 71,
   "metadata": {},
   "outputs": [
    {
     "data": {
      "text/plain": [
       "15"
      ]
     },
     "execution_count": 71,
     "metadata": {},
     "output_type": "execute_result"
    }
   ],
   "source": [
    "arr.ptp()"
   ]
  },
  {
   "cell_type": "markdown",
   "metadata": {},
   "source": [
    "### <a name=\"markdown26\"></a> Percentile()\n",
    "[Indice](#markdown100)\n",
    "* La función np.percentile() en NumPy se utiliza para calcular los percentiles de un conjunto de datos. Un percentil es un valor que indica la posición relativa de un dato dentro de un conjunto, es decir, el porcentaje de datos que se encuentran por debajo de ese valor.\n",
    "\n",
    "* La sintaxis básica de la función np.percentile() es la siguiente:\n",
    "```python\n",
    "np.percentile(data, q, axis=None)\n",
    "```\n",
    "* **data:** Es el conjunto de datos del cual se desea calcular el percentil.\n",
    "* **q:** Es el percentil o lista de percentiles que se desean calcular. Puede ser un solo valor o una lista de valores.\n",
    "* **axis:** Es un parámetro opcional que indica a lo largo de qué eje se deben calcular los percentiles en el caso de arrays multidimensionales. Por defecto, se calculan los percentiles en todo el array.\n",
    "La función np.percentile() devuelve el valor del percentil o una lista de valores si se pasó una lista de percentiles como parámetro q.\n",
    "\n",
    "#### Nota: El percentil es una medida de posición usada en estadística que indica, una vez ordenados los datos de menor a mayor, el valor de la variable por debajo del cual se encuentra un porcentaje dado de observaciones en un grupo. Por ejemplo, el percentil 20 es el valor bajo el cual se encuentran el 20 % de las observaciones, y el 80 % restante son mayores.\n"
   ]
  },
  {
   "cell_type": "code",
   "execution_count": 4,
   "metadata": {},
   "outputs": [
    {
     "data": {
      "text/plain": [
       "array([82, 46, 42, 97, 89, 81, 49, 38, 93, 27])"
      ]
     },
     "execution_count": 4,
     "metadata": {},
     "output_type": "execute_result"
    }
   ],
   "source": [
    "arr = np.random.randint(1,100,10)\n",
    "arr"
   ]
  },
  {
   "cell_type": "code",
   "execution_count": 8,
   "metadata": {},
   "outputs": [
    {
     "data": {
      "text/plain": [
       "65.0"
      ]
     },
     "execution_count": 8,
     "metadata": {},
     "output_type": "execute_result"
    }
   ],
   "source": [
    "percentil = np.percentile(arr,50)\n",
    "percentil"
   ]
  },
  {
   "cell_type": "code",
   "execution_count": 14,
   "metadata": {},
   "outputs": [
    {
     "name": "stdout",
     "output_type": "stream",
     "text": [
      "1.0 5.5 10.0\n"
     ]
    }
   ],
   "source": [
    "arr_01 = [1,2,3,4,5,6,7,8,9,10]\n",
    "\n",
    "per_0 = np.percentile(arr_01,0)\n",
    "per_50 = np.percentile(arr_01,50)\n",
    "per_100 = np.percentile(arr_01,100)\n",
    "print(per_0, per_50, per_100)"
   ]
  },
  {
   "cell_type": "markdown",
   "metadata": {},
   "source": [
    "### <a name=\"markdown27\"></a> sort():\n",
    "[Indice](#markdown100)\n",
    "* ordena de menor a mayor.\n",
    "```python\n",
    "arr = arr.sort()\n",
    "```"
   ]
  },
  {
   "cell_type": "markdown",
   "metadata": {},
   "source": [
    "### <a name=\"markdown28\"></a> median():\n",
    "[Indice](#markdown100)\n",
    "* Entrega la mediana, el valor que está en la mitad."
   ]
  },
  {
   "cell_type": "code",
   "execution_count": 16,
   "metadata": {},
   "outputs": [
    {
     "name": "stdout",
     "output_type": "stream",
     "text": [
      "[14 38 59 13 10 25 24 97 94 57 41 32 41 63 97 93 10 83 97 78]\n",
      "49.0\n"
     ]
    }
   ],
   "source": [
    "arr = np.random.randint(1,100,20)\n",
    "print(arr)\n",
    "med = np.median(arr)\n",
    "print(med)"
   ]
  },
  {
   "cell_type": "markdown",
   "metadata": {},
   "source": [
    "### <a name=\"markdown29\"></a> median() con Matrices:\n",
    "[Indice](#markdown100)"
   ]
  },
  {
   "cell_type": "code",
   "execution_count": 23,
   "metadata": {},
   "outputs": [
    {
     "name": "stdout",
     "output_type": "stream",
     "text": [
      "[[14 38 59 13 10 25 24 97 94 57]\n",
      " [41 32 41 63 97 93 10 83 97 78]]\n",
      "by col: [27.5 35.  50.  38.  53.5 59.  17.  90.  95.5 67.5]\n",
      "by row: [31.5 70.5]\n"
     ]
    }
   ],
   "source": [
    "matrix = np.reshape(arr,(2,10))\n",
    "print(matrix)\n",
    "\n",
    "med_mat_col = np.median(matrix,0) #Por Columnas.\n",
    "print(f'by col: {med_mat_col}')\n",
    "\n",
    "med_mat_row = np.median(matrix,1)\n",
    "print(f'by row: {med_mat_row}')"
   ]
  },
  {
   "cell_type": "markdown",
   "metadata": {},
   "source": [
    "### <a name=\"markdown30\"></a> Desviación std():\n",
    "[Indice](#markdown100)"
   ]
  },
  {
   "cell_type": "code",
   "execution_count": 24,
   "metadata": {},
   "outputs": [
    {
     "name": "stdout",
     "output_type": "stream",
     "text": [
      "29.583610327341724\n"
     ]
    }
   ],
   "source": [
    "arr = np.random.randint(1,100,20)\n",
    "dsta = np.std(arr)\n",
    "print(dsta)"
   ]
  },
  {
   "cell_type": "markdown",
   "metadata": {},
   "source": [
    "### <a name=\"markdown31\"></a> Varianza var()\n",
    "[Indice](#markdown100)"
   ]
  },
  {
   "cell_type": "code",
   "execution_count": 34,
   "metadata": {},
   "outputs": [
    {
     "name": "stdout",
     "output_type": "stream",
     "text": [
      "var: 940.6899999999998, dsta: 30.670670028546812, dsta**2: 940.6899999999997\n"
     ]
    }
   ],
   "source": [
    "arr = np.random.randint(1,100,20)\n",
    "var = np.var(arr)\n",
    "\n",
    "#Nota, la var = dsta**2\n",
    "dsta = np.std(arr)\n",
    "var_01 = dsta**2 #La varianza = al cuadrado de la desv std.\n",
    "print(f'var: {var}, dsta: {dsta}, dsta**2: {var_01}')"
   ]
  },
  {
   "cell_type": "markdown",
   "metadata": {},
   "source": [
    "### <a name=\"markdown32\"></a> La Media mean()\n",
    "[Indice](#markdown100)\n",
    "* Es el promedio.\n",
    "```python\n",
    "arr = np.mean(arr)\n",
    "```"
   ]
  },
  {
   "cell_type": "markdown",
   "metadata": {},
   "source": [
    "### <a name=\"markdown33\"></a> Concatenar concatenate()\n",
    "[Indice](#markdown100)"
   ]
  },
  {
   "cell_type": "code",
   "execution_count": 40,
   "metadata": {},
   "outputs": [
    {
     "name": "stdout",
     "output_type": "stream",
     "text": [
      "[[1 2]\n",
      " [3 4]]\n",
      "[5 6]\n"
     ]
    }
   ],
   "source": [
    "a = np.array([[1,2],[3,4]])\n",
    "print(a)\n",
    "b = np.array([5,6]) # Tiene dim: 1\n",
    "print(b)"
   ]
  },
  {
   "cell_type": "markdown",
   "metadata": {},
   "source": [
    "#### **Tienen que tener las mismas dimensiones**"
   ]
  },
  {
   "cell_type": "code",
   "execution_count": 37,
   "metadata": {},
   "outputs": [
    {
     "name": "stdout",
     "output_type": "stream",
     "text": [
      "[[5 6]] dim: 2\n",
      "[[5]\n",
      " [6]] dim: 2\n"
     ]
    }
   ],
   "source": [
    "b_exp_col = np.expand_dims(b, axis=0)\n",
    "b_exp_row = np.expand_dims(b, axis=1)\n",
    "\n",
    "print(b_exp_col, f'dim: {b_exp_col.ndim}')\n",
    "print(b_exp_row, f'dim: {b_exp_row.ndim}')"
   ]
  },
  {
   "cell_type": "markdown",
   "metadata": {},
   "source": [
    "#### **A concatenar por columnas:**"
   ]
  },
  {
   "cell_type": "code",
   "execution_count": 38,
   "metadata": {},
   "outputs": [
    {
     "data": {
      "text/plain": [
       "array([[1, 2],\n",
       "       [3, 4],\n",
       "       [5, 6]])"
      ]
     },
     "execution_count": 38,
     "metadata": {},
     "output_type": "execute_result"
    }
   ],
   "source": [
    "conc_col = np.concatenate((a,b_exp_col), axis=0)\n",
    "conc_col"
   ]
  },
  {
   "cell_type": "markdown",
   "metadata": {},
   "source": [
    "#### Concatenamos por filas:"
   ]
  },
  {
   "cell_type": "code",
   "execution_count": 43,
   "metadata": {},
   "outputs": [
    {
     "data": {
      "text/plain": [
       "array([[1, 2, 5],\n",
       "       [3, 4, 6]])"
      ]
     },
     "execution_count": 43,
     "metadata": {},
     "output_type": "execute_result"
    }
   ],
   "source": [
    "conc_col = np.concatenate((a,b_exp_row), axis=1)\n",
    "conc_col"
   ]
  },
  {
   "cell_type": "markdown",
   "metadata": {},
   "source": [
    "### <a name=\"markdown34\"></a> Transpuesta T:\n",
    "[Indice](#markdown100)\n",
    "* ejemplo pasa de 3x2 --> 2x3"
   ]
  },
  {
   "cell_type": "code",
   "execution_count": 45,
   "metadata": {},
   "outputs": [
    {
     "name": "stdout",
     "output_type": "stream",
     "text": [
      "[[1 2]\n",
      " [3 4]]\n",
      "[[1 3]\n",
      " [2 4]]\n"
     ]
    }
   ],
   "source": [
    "a = np.array([[1,2],[3,4]])\n",
    "print(a)\n",
    "a_transp = a.T\n",
    "print(a_transp)"
   ]
  },
  {
   "cell_type": "markdown",
   "metadata": {},
   "source": [
    "### Entonces podemos utilizar para concatenar"
   ]
  },
  {
   "cell_type": "code",
   "execution_count": 47,
   "metadata": {},
   "outputs": [
    {
     "data": {
      "text/plain": [
       "array([[1, 2, 5],\n",
       "       [3, 4, 6]])"
      ]
     },
     "execution_count": 47,
     "metadata": {},
     "output_type": "execute_result"
    }
   ],
   "source": [
    "conc_col = np.concatenate((a,b_exp_col.T), axis=1) #Sin la \"T\" da error, y nos da igual que b_exp_row\n",
    "conc_col"
   ]
  },
  {
   "cell_type": "markdown",
   "metadata": {},
   "source": [
    "### <a name=\"markdown35\"></a> copy():\n",
    "[Indice](#markdown100)\n",
    "* Uno de los problemas más comunes es manipular una variable y modificarla, tal como se observa en el siguiente ejemplo."
   ]
  },
  {
   "cell_type": "code",
   "execution_count": 60,
   "metadata": {},
   "outputs": [
    {
     "name": "stdout",
     "output_type": "stream",
     "text": [
      "[ 1  2  3  4  5  6  7  8  9 10]\n"
     ]
    }
   ],
   "source": [
    "arr = np.arange(1,11)\n",
    "print(arr)"
   ]
  },
  {
   "cell_type": "code",
   "execution_count": 59,
   "metadata": {},
   "outputs": [
    {
     "name": "stdout",
     "output_type": "stream",
     "text": [
      "[1 2 3 4 5 6]\n",
      "[0 0 0 0 0 0]\n",
      "[ 0  0  0  0  0  0  7  8  9 10]\n"
     ]
    }
   ],
   "source": [
    "arr_cuted_01 = arr[0:6]\n",
    "print(arr_cuted_01)\n",
    "\n",
    "arr_cuted_01[:] = 0 #todos los valores en 0.\n",
    "print(arr_cuted_01)\n",
    "\n",
    "print(arr) #Se ve el cambio a la variable original"
   ]
  },
  {
   "cell_type": "markdown",
   "metadata": {},
   "source": [
    "#### Solución a Copy:"
   ]
  },
  {
   "cell_type": "code",
   "execution_count": 64,
   "metadata": {},
   "outputs": [
    {
     "name": "stdout",
     "output_type": "stream",
     "text": [
      "[ 1  2  3  4  5  6  7  8  9 10]\n",
      "[100 100 100 100 100 100 100 100 100 100]\n",
      "[ 1  2  3  4  5  6  7  8  9 10]\n"
     ]
    }
   ],
   "source": [
    "arr = np.arange(1,11)\n",
    "print(arr)\n",
    "\n",
    "arr_copy = arr.copy()\n",
    "arr_copy[:] = 100\n",
    "\n",
    "print(arr_copy)\n",
    "print(arr) #Se mantiene el original!!!"
   ]
  },
  {
   "cell_type": "markdown",
   "metadata": {},
   "source": [
    "### <a name=\"markdown36\"></a> Condiciones:\n",
    "[Indice](#markdown100)"
   ]
  },
  {
   "cell_type": "code",
   "execution_count": 67,
   "metadata": {},
   "outputs": [
    {
     "data": {
      "text/plain": [
       "array([ 1,  2,  3,  4,  5,  6,  7,  8,  9, 10], dtype=int8)"
      ]
     },
     "execution_count": 67,
     "metadata": {},
     "output_type": "execute_result"
    }
   ],
   "source": [
    "arr = np.linspace(1,10,10, dtype='int8')\n",
    "arr"
   ]
  },
  {
   "cell_type": "code",
   "execution_count": 69,
   "metadata": {},
   "outputs": [
    {
     "data": {
      "text/plain": [
       "array([False, False, False, False, False,  True,  True,  True,  True,\n",
       "        True])"
      ]
     },
     "execution_count": 69,
     "metadata": {},
     "output_type": "execute_result"
    }
   ],
   "source": [
    "cond_index = arr > 5\n",
    "cond_index"
   ]
  },
  {
   "cell_type": "code",
   "execution_count": 71,
   "metadata": {},
   "outputs": [
    {
     "data": {
      "text/plain": [
       "array([6, 7, 8], dtype=int8)"
      ]
     },
     "execution_count": 71,
     "metadata": {},
     "output_type": "execute_result"
    }
   ],
   "source": [
    "arr[(arr>5) & (arr<9)] "
   ]
  },
  {
   "cell_type": "code",
   "execution_count": 73,
   "metadata": {},
   "outputs": [
    {
     "data": {
      "text/plain": [
       "array([ 1,  2,  3,  4,  5, 99, 99, 99, 99, 99], dtype=int8)"
      ]
     },
     "execution_count": 73,
     "metadata": {},
     "output_type": "execute_result"
    }
   ],
   "source": [
    "arr[arr>5] = 99\n",
    "arr"
   ]
  },
  {
   "cell_type": "code",
   "execution_count": 75,
   "metadata": {},
   "outputs": [
    {
     "data": {
      "text/plain": [
       "array([99, 99, 99, 99, 99], dtype=int8)"
      ]
     },
     "execution_count": 75,
     "metadata": {},
     "output_type": "execute_result"
    }
   ],
   "source": [
    "arr[arr==99]"
   ]
  },
  {
   "cell_type": "markdown",
   "metadata": {},
   "source": [
    "### <a name=\"markdown37\"></a> Operaciones:\n",
    "[Indice](#markdown100)"
   ]
  },
  {
   "cell_type": "markdown",
   "metadata": {},
   "source": [
    "#### Con una lista de Python No multiplica cada valor por 2, sino que duplica la lista"
   ]
  },
  {
   "cell_type": "code",
   "execution_count": 77,
   "metadata": {},
   "outputs": [
    {
     "data": {
      "text/plain": [
       "[1, 2, 1, 2]"
      ]
     },
     "execution_count": 77,
     "metadata": {},
     "output_type": "execute_result"
    }
   ],
   "source": [
    "py_list = [1,2]\n",
    "py_list * 2 "
   ]
  },
  {
   "cell_type": "markdown",
   "metadata": {},
   "source": [
    "#### Con numpy si podemos hacerlo"
   ]
  },
  {
   "cell_type": "code",
   "execution_count": 83,
   "metadata": {},
   "outputs": [
    {
     "name": "stdout",
     "output_type": "stream",
     "text": [
      "[0 1 2 3 4 5 6 7 8 9]\n",
      "[ 0  2  4  6  8 10 12 14 16 18]\n",
      "[ 2  3  4  5  6  7  8  9 10 11]\n",
      "[       inf 1.         0.5        0.33333333 0.25       0.2\n",
      " 0.16666667 0.14285714 0.125      0.11111111]\n"
     ]
    },
    {
     "name": "stderr",
     "output_type": "stream",
     "text": [
      "/tmp/ipykernel_585/2374450473.py:6: RuntimeWarning: divide by zero encountered in divide\n",
      "  print(1/arr) #No detuvo la ejecución, pero si lanzó una advertencia de 1/0\n"
     ]
    }
   ],
   "source": [
    "arr = np.arange(0,10)\n",
    "arr_01 = arr.copy()\n",
    "print(arr)\n",
    "print(arr_01*2)\n",
    "print(arr_01+2)\n",
    "print(1/arr) #No detuvo la ejecución, pero si lanzó una advertencia de 1/0"
   ]
  },
  {
   "cell_type": "code",
   "execution_count": 82,
   "metadata": {},
   "outputs": [
    {
     "name": "stdout",
     "output_type": "stream",
     "text": [
      "[ 0  1  4  9 16 25 36 49 64 81]\n",
      "[ 0  2  4  6  8 10 12 14 16 18]\n"
     ]
    }
   ],
   "source": [
    "print(arr**2)\n",
    "print(arr + arr_01)"
   ]
  },
  {
   "cell_type": "code",
   "execution_count": 86,
   "metadata": {},
   "outputs": [
    {
     "name": "stdout",
     "output_type": "stream",
     "text": [
      "[[0 1 2 3 4]\n",
      " [5 6 7 8 9]]\n"
     ]
    }
   ],
   "source": [
    "matriz = arr.reshape(2,5)\n",
    "print(matriz)\n",
    "matriz_01 = matriz.copy()"
   ]
  },
  {
   "cell_type": "code",
   "execution_count": 88,
   "metadata": {},
   "outputs": [
    {
     "name": "stdout",
     "output_type": "stream",
     "text": [
      "[[ 0  2  4  6  8]\n",
      " [10 12 14 16 18]]\n"
     ]
    }
   ],
   "source": [
    "sum_matriz = matriz + matriz_01\n",
    "print(sum_matriz)"
   ]
  },
  {
   "cell_type": "markdown",
   "metadata": {},
   "source": [
    "### <a name=\"markdown38\"></a> Producto entre Matrices.\n",
    "[Indice](#markdown100)"
   ]
  },
  {
   "cell_type": "code",
   "execution_count": 92,
   "metadata": {},
   "outputs": [
    {
     "name": "stdout",
     "output_type": "stream",
     "text": [
      "[[ 30  80]\n",
      " [ 80 255]]\n",
      "[[ 30  80]\n",
      " [ 80 255]]\n"
     ]
    }
   ],
   "source": [
    "prod_matr = np.matmul(matriz, matriz_01.T)\n",
    "print(prod_matr)\n",
    "# Forma equivalente:\n",
    "prod_matr_01 = matriz @ matriz_01.T\n",
    "print(prod_matr_01)"
   ]
  },
  {
   "cell_type": "markdown",
   "metadata": {},
   "source": [
    "### Pandas:\n",
    "[Indice Pandas](#markdown1000)\n",
    "\n",
    "#### Pandas es una librería de Python especializada en el manejo y análisis de estructuras de datos. El nombre viene de “Panel data”.\n",
    "\n",
    "* Velocidad\n",
    "* Poco código\n",
    "* Múltiples formatos de archivos\n",
    "* Alineación inteligente"
   ]
  },
  {
   "cell_type": "markdown",
   "metadata": {},
   "source": [
    "### <a name=\"markdown39\"></a> Pandas Series.\n",
    "[Indice Pandas](#markdown1000)\n",
    "\n",
    "#### Es muy parecido a un array de una dimensión (o vector) de NumPy.\n",
    "\n",
    "* Arreglo unidimensional indexado --> El índice comienza en \"1\".\n",
    "* Búsqueda por índice\n",
    "* Slicing\n",
    "* Operaciones aritméticas\n",
    "* Distintos tipos de datos"
   ]
  },
  {
   "cell_type": "markdown",
   "metadata": {},
   "source": [
    "### <a name=\"markdown40\"></a> Creando lista con índices específicos\n",
    "[Indice Pandas](#markdown1000)"
   ]
  },
  {
   "cell_type": "code",
   "execution_count": 3,
   "metadata": {},
   "outputs": [
    {
     "data": {
      "text/plain": [
       "1      Navas\n",
       "7     Mbappe\n",
       "10    Neymar\n",
       "30     Messi\n",
       "dtype: object"
      ]
     },
     "execution_count": 3,
     "metadata": {},
     "output_type": "execute_result"
    }
   ],
   "source": [
    "psg_players = pd.Series(['Navas','Mbappe','Neymar','Messi'], index=[1,7,10,30])\n",
    "psg_players"
   ]
  },
  {
   "cell_type": "code",
   "execution_count": null,
   "metadata": {},
   "outputs": [],
   "source": [
    "dict = {1: 'Navas', 7: 'Mbappe', 10: 'Neymar', 30:'Messi'}\n",
    "pd.Series(dict)"
   ]
  },
  {
   "cell_type": "markdown",
   "metadata": {},
   "source": [
    "### <a name=\"markdown41\"></a> Pandas DataFrame\n",
    "[Indice Pandas](#markdown1000)\n",
    "#### Muy parecido a las estructuras matriciales trabajadas con NumPy.\n",
    "\n",
    "* Estructura principal\n",
    "* Arreglo de dos dimensiones\n",
    "* Búsqueda por índice (columnas (uso el nombre) o filas (inicia en 0 hasta la última)), \n",
    "* Slicing\n",
    "* Operaciones aritméticas\n",
    "* Distintos tipos de datos\n",
    "* Tamaño variable"
   ]
  },
  {
   "cell_type": "markdown",
   "metadata": {},
   "source": [
    "### <a name=\"markdown42\"></a> Creando una structura matricial con diccionarios.\n",
    "[Indice Pandas](#markdown1000)"
   ]
  },
  {
   "cell_type": "code",
   "execution_count": 7,
   "metadata": {},
   "outputs": [],
   "source": [
    "dict = {\n",
    "    'Jugador':['Navas','Mbappe','Neymar','Messi'],\n",
    "    'Altura':[183.0, 170.0, 170.0, 163.0],\n",
    "    'Goles':[2, 200, 150, 500]\n",
    "}"
   ]
  },
  {
   "cell_type": "code",
   "execution_count": 15,
   "metadata": {},
   "outputs": [
    {
     "data": {
      "text/html": [
       "<div>\n",
       "<style scoped>\n",
       "    .dataframe tbody tr th:only-of-type {\n",
       "        vertical-align: middle;\n",
       "    }\n",
       "\n",
       "    .dataframe tbody tr th {\n",
       "        vertical-align: top;\n",
       "    }\n",
       "\n",
       "    .dataframe thead th {\n",
       "        text-align: right;\n",
       "    }\n",
       "</style>\n",
       "<table border=\"1\" class=\"dataframe\">\n",
       "  <thead>\n",
       "    <tr style=\"text-align: right;\">\n",
       "      <th></th>\n",
       "      <th>Jugador</th>\n",
       "      <th>Altura</th>\n",
       "      <th>Goles</th>\n",
       "    </tr>\n",
       "  </thead>\n",
       "  <tbody>\n",
       "    <tr>\n",
       "      <th>1</th>\n",
       "      <td>Navas</td>\n",
       "      <td>183.0</td>\n",
       "      <td>2</td>\n",
       "    </tr>\n",
       "    <tr>\n",
       "      <th>7</th>\n",
       "      <td>Mbappe</td>\n",
       "      <td>170.0</td>\n",
       "      <td>200</td>\n",
       "    </tr>\n",
       "    <tr>\n",
       "      <th>10</th>\n",
       "      <td>Neymar</td>\n",
       "      <td>170.0</td>\n",
       "      <td>150</td>\n",
       "    </tr>\n",
       "    <tr>\n",
       "      <th>30</th>\n",
       "      <td>Messi</td>\n",
       "      <td>163.0</td>\n",
       "      <td>500</td>\n",
       "    </tr>\n",
       "  </tbody>\n",
       "</table>\n",
       "</div>"
      ],
      "text/plain": [
       "   Jugador  Altura  Goles\n",
       "1    Navas   183.0      2\n",
       "7   Mbappe   170.0    200\n",
       "10  Neymar   170.0    150\n",
       "30   Messi   163.0    500"
      ]
     },
     "metadata": {},
     "output_type": "display_data"
    }
   ],
   "source": [
    "df_players = pd.DataFrame(dict, index=[1,7,10,30]) # si no usamos el index usa el default.\n",
    "display(df_players)"
   ]
  },
  {
   "cell_type": "code",
   "execution_count": 14,
   "metadata": {},
   "outputs": [
    {
     "data": {
      "text/plain": [
       "Int64Index([1, 7, 10, 30], dtype='int64')"
      ]
     },
     "execution_count": 14,
     "metadata": {},
     "output_type": "execute_result"
    }
   ],
   "source": [
    "df_players.index"
   ]
  },
  {
   "cell_type": "code",
   "execution_count": null,
   "metadata": {},
   "outputs": [],
   "source": []
  },
  {
   "cell_type": "code",
   "execution_count": null,
   "metadata": {},
   "outputs": [],
   "source": []
  },
  {
   "cell_type": "code",
   "execution_count": null,
   "metadata": {},
   "outputs": [],
   "source": []
  }
 ],
 "metadata": {
  "celltoolbar": "Slideshow",
  "kernelspec": {
   "display_name": "jupyter_kernel_01",
   "language": "python",
   "name": "data_trans_env"
  },
  "language_info": {
   "codemirror_mode": {
    "name": "ipython",
    "version": 3
   },
   "file_extension": ".py",
   "mimetype": "text/x-python",
   "name": "python",
   "nbconvert_exporter": "python",
   "pygments_lexer": "ipython3",
   "version": "3.11.3"
  }
 },
 "nbformat": 4,
 "nbformat_minor": 2
}
